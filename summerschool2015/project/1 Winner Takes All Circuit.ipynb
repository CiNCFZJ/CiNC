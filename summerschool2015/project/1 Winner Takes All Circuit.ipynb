{
 "metadata": {
  "name": ""
 },
 "nbformat": 3,
 "nbformat_minor": 0,
 "worksheets": [
  {
   "cells": [
    {
     "cell_type": "heading",
     "level": 1,
     "metadata": {},
     "source": [
      "Winner Takes All Circuit"
     ]
    },
    {
     "cell_type": "heading",
     "level": 2,
     "metadata": {},
     "source": [
      "In this notebook, we will investigate the behavior of WTA circuits and how to use them for action selection in reinforcement learning."
     ]
    },
    {
     "cell_type": "heading",
     "level": 3,
     "metadata": {},
     "source": [
      "1.) Implementation of a WTA in NEST."
     ]
    },
    {
     "cell_type": "code",
     "collapsed": false,
     "input": [
      "%matplotlib inline\n",
      "\n",
      "import nest\n",
      "from nest import raster_plot as rplt\n",
      "import numpy as np"
     ],
     "language": "python",
     "metadata": {},
     "outputs": []
    },
    {
     "cell_type": "raw",
     "metadata": {},
     "source": [
      "First, we import nest and numpy."
     ]
    },
    {
     "cell_type": "code",
     "collapsed": false,
     "input": [
      "num_neurons = 50\n",
      "noise_weights = 2.1\n",
      "ex_weights = 10.5\n",
      "inh_weights = -2.6\n",
      "ex_inh_weights = 2.8"
     ],
     "language": "python",
     "metadata": {},
     "outputs": []
    },
    {
     "cell_type": "raw",
     "metadata": {},
     "source": [
      "Here we define the number of neurons per action in the WTA circuit"
     ]
    },
    {
     "cell_type": "code",
     "collapsed": false,
     "input": [
      "nest.ResetKernel()\n",
      "\n",
      "n0 = nest.Create(\"iaf_psc_alpha\", num_neurons)\n",
      "n1 = nest.Create(\"iaf_psc_alpha\", num_neurons)\n",
      "n_inh = nest.Create(\"iaf_psc_alpha\", num_neurons)\n",
      "\n",
      "all_actor_neurons = np.ravel([n0, n1]).tolist()\n",
      "\n",
      "n_input = nest.Create(\"poisson_generator\", 10, {'rate': 3000.0})\n",
      "\n",
      "nest.Connect(n_input, n0, 'all_to_all', {'weight': noise_weights})\n",
      "nest.Connect(n_input, n1, 'all_to_all', {'weight': noise_weights})\n",
      "nest.Connect(n_input, n_inh, 'all_to_all', {'weight': noise_weights * 0.9})"
     ],
     "language": "python",
     "metadata": {},
     "outputs": []
    },
    {
     "cell_type": "raw",
     "metadata": {},
     "source": [
      "Create neuron populations for each action 'n0' and 'n1'. For stable neural dynamics, we also create an inhibitory population 'n_inh'. All these populations are driven by the external input 'n_input'."
     ]
    },
    {
     "cell_type": "code",
     "collapsed": false,
     "input": [
      "nest.Connect(n0, n0, 'all_to_all', {'weight': ex_weights})\n",
      "nest.Connect(n1, n1, 'all_to_all', {'weight': ex_weights})\n",
      "\n",
      "nest.Connect(all_actor_neurons, n_inh, 'all_to_all', {'weight': ex_inh_weights})\n",
      "nest.Connect(n_inh, all_actor_neurons, 'all_to_all', {'weight': inh_weights})"
     ],
     "language": "python",
     "metadata": {},
     "outputs": []
    },
    {
     "cell_type": "raw",
     "metadata": {},
     "source": [
      "The dynamics of a WTA circuit emerge by self excitation and lateral inhibition between the neural populations. "
     ]
    },
    {
     "cell_type": "code",
     "collapsed": false,
     "input": [
      "sd = nest.Create(\"spike_detector\", 1)\n",
      "\n",
      "nest.Connect(all_actor_neurons, sd, 'all_to_all')\n",
      "nest.Connect(n_inh, sd, 'all_to_all')"
     ],
     "language": "python",
     "metadata": {},
     "outputs": []
    },
    {
     "cell_type": "raw",
     "metadata": {},
     "source": [
      "In order to plot the behavior of the WTA circuit, we create an spike detector and connect all neurons to it."
     ]
    },
    {
     "cell_type": "code",
     "collapsed": false,
     "input": [
      "nest.ResetNetwork()\n",
      "seed = np.random.randint(0, 1000000)\n",
      "nest.SetKernelStatus({'rng_seeds': range(seed, seed + 1), 'grng_seed': seed})\n",
      "nest.Simulate(500.0)\n",
      "\n",
      "rplt.from_device(sd, hist=False, title='WTA circuit')\n",
      "rplt.show()"
     ],
     "language": "python",
     "metadata": {},
     "outputs": []
    },
    {
     "cell_type": "raw",
     "metadata": {},
     "source": [
      "Finally, we initialize the random number generators in nest with a random seed, run the simulation for 500 ms and plot the results. Rerun the last cell to see that which population wins the competition is random.\n",
      "\n",
      "Exercises:\n",
      "Play with the parameters. How stable is such a circuit?\n",
      "Change the weight to one actor population by a small amout. Is the result still random?"
     ]
    },
    {
     "cell_type": "heading",
     "level": 3,
     "metadata": {},
     "source": [
      "2.) Implementation of a random walker in a simple environment"
     ]
    },
    {
     "cell_type": "code",
     "collapsed": false,
     "input": [
      "import matplotlib.pyplot as plt\n",
      "import environment as env\n",
      "\n",
      "env.set_environment(0)\n",
      "\n",
      "NUM_ITERATIONS = 10 \n",
      "\n",
      "nest.ResetKernel()\n",
      "nest.set_verbosity(\"M_DEBUG\")\n",
      "\n",
      "seed = np.random.randint(0, 1000000)\n",
      "nest.SetKernelStatus({'rng_seeds': range(seed, seed + 1), 'grng_seed': seed})\n",
      "\n",
      "# Create states\n",
      "world_dim = env.get_world_dimensions()\n",
      "states = []\n",
      "for i in range(world_dim['x']):\n",
      "    states.append(nest.Create('iaf_psc_alpha', 100))\n",
      "\n",
      "\n",
      "# Create actions\n",
      "num_actions = env.get_num_possible_actions()\n",
      "actions = []\n",
      "for i in range(num_actions):\n",
      "    actions.append(nest.Create('iaf_psc_alpha', 50))\n",
      "\n",
      "all_actions = np.ravel(actions).tolist()\n",
      "\n",
      "\n",
      "# Create WTA circuit\n",
      "wta_ex_weights = 10.5\n",
      "wta_inh_weights = -2.6\n",
      "wta_ex_inh_weights = 2.8\n",
      "wta_noise_weights = 2.1\n",
      "\n",
      "wta_inh_neurons = nest.Create('iaf_psc_alpha', 50)\n",
      "\n",
      "for i in range(len(actions)):\n",
      "    nest.Connect(actions[i], actions[i], 'all_to_all', {'weight': wta_ex_weights})\n",
      "    nest.Connect(actions[i], wta_inh_neurons, 'all_to_all', {'weight': wta_ex_inh_weights}) \n",
      "\n",
      "nest.Connect(wta_inh_neurons, all_actions, 'all_to_all', {'weight': wta_inh_weights})\n",
      "\n",
      "wta_noise = nest.Create('poisson_generator', 10, {'rate': 3000.})\n",
      "nest.Connect(wta_noise, all_actions, 'all_to_all', {'weight': wta_noise_weights})\n",
      "nest.Connect(wta_noise, wta_inh_neurons, 'all_to_all', {'weight': wta_noise_weights * 0.9})\n",
      "\n",
      "# Connect states to actions\n",
      "nest.Connect(states[1], actions[0], 'all_to_all', {'weight': 0.0})\n",
      "nest.Connect(states[1], actions[1], 'all_to_all', {'weight': 0.0})\n",
      "\n",
      "\n",
      "# Create noise\n",
      "noise = nest.Create('poisson_generator', 1, {'rate': 65000.})\n",
      "nest.Connect(noise, np.ravel(states).tolist(), 'all_to_all', {'weight': 1.})\n",
      "\n",
      "\n",
      "# Create state stimulus\n",
      "stimulus = nest.Create('poisson_generator', 1, {'rate': 5000.})\n",
      "position = env.get_agent_pos()['x']\n",
      "nest.Connect(stimulus, states[position], 'all_to_all', {'weight': 1.})\n",
      "\n",
      "\n",
      "# Create spike detector\n",
      "sd_wta = nest.Create('spike_detector')\n",
      "nest.Connect(all_actions, sd_wta)\n",
      "\n",
      "sd_actions = nest.Create('spike_detector', num_actions)\n",
      "for i in range(len(actions)):\n",
      "    nest.Connect(actions[i], [sd_actions[i]], 'all_to_all')\n",
      "\n",
      "    \n",
      "# Main loop\n",
      "actions_executed = 0\n",
      "last_action_time = 0\n",
      "while actions_executed < NUM_ITERATIONS:\n",
      "    nest.SetStatus(wta_noise, {'rate': 3000.})\n",
      "    nest.SetStatus(stimulus, {'rate': 5000.})\n",
      "    nest.Simulate(900)\n",
      "    max_rate = 0\n",
      "    chosen_action = -1\n",
      "    for i in range(len(sd_actions)):\n",
      "        rate = len([e for e in nest.GetStatus([sd_actions[i]], keys='events')[0]['times'] if e > last_action_time]) # calc the \"firerate\" of each actor population\n",
      "        if rate > max_rate:\n",
      "            max_rate = rate # the population with the hightes rate wins\n",
      "            chosen_action = i\n",
      "    \n",
      "    print \"iteration: \", actions_executed, \", action: \", chosen_action \n",
      "    nest.SetStatus(stimulus, {'rate': 0.})\n",
      "    nest.SetStatus(wta_noise, {'rate': 0.})\n",
      "    nest.Simulate(100.)\n",
      "    last_action_time += 1000\n",
      "    actions_executed += 1\n",
      "       \n",
      "rplt.from_device(sd_wta, title=\"WTA circuit as random walker\")\n",
      "rplt.show()"
     ],
     "language": "python",
     "metadata": {},
     "outputs": []
    },
    {
     "cell_type": "code",
     "collapsed": false,
     "input": [],
     "language": "python",
     "metadata": {},
     "outputs": []
    },
    {
     "cell_type": "code",
     "collapsed": false,
     "input": [],
     "language": "python",
     "metadata": {},
     "outputs": []
    }
   ],
   "metadata": {}
  }
 ]
}