{
 "metadata": {
  "name": ""
 },
 "nbformat": 3,
 "nbformat_minor": 0,
 "worksheets": [
  {
   "cells": [
    {
     "cell_type": "heading",
     "level": 1,
     "metadata": {},
     "source": [
      "Reward-driven learning and behavior adaptation - Reinforcement Learning Introduction with Q-Learning."
     ]
    },
    {
     "cell_type": "raw",
     "metadata": {},
     "source": [
      "Author: Chuck Anderson\n",
      "Link: http://www.cs.colostate.edu/~anderson/\n",
      "Modified by: Jenia Jitsev"
     ]
    },
    {
     "cell_type": "heading",
     "level": 2,
     "metadata": {},
     "source": [
      "One state, two actions"
     ]
    },
    {
     "cell_type": "markdown",
     "metadata": {},
     "source": [
      "$\\newcommand{\\argmax}[1]{\\underset{#1}{\\operatorname{argmax}}}\n",
      "\\newcommand{\\argmin}[1]{\\underset{#1}{\\operatorname{argmin}}}$\n",
      "\n",
      "You have two actions you must choose between.  Each will produce some unknown, stochastic feedback value from your environment.  Which action do you choose?\n",
      "\n",
      "Right.  Try each one a bunch of times and see which one results in a higher average feedback value.\n",
      "\n",
      "Let the action choice at time $t$ be $a_t$, and its possible values are $a_t \\in \\{1,2\\}$.  Let the feedback value, which we will call the reward, for action $a_t$ be $r(a_t)$.  We don't know what the possible values of $r(a_t)$ are.\n",
      "\n",
      "At any time $t$ we can pick what we currently believe to be the optimal action if we had a prediction of the reward for that action.  Define this prediction to be $Q(a_t)$.  Assuming this function exists and is correct, we can greedily pick what we think is the best action by\n",
      "\n",
      "$$a_t = \\argmax{a\\in\\{1,2\\}} Q(a)$$.\n",
      "\n",
      "So, how can we learn the $Q$ function?  Let's define $Q$ to be a table, or tuple, of two values, one for each action. We can minimize the squared error of $Q$ by simply going down the gradient of $(r(a_t) - Q(a_t))^2$ with respect to $Q(a_t)$ on each step.\n",
      "\n",
      "$$ Q(a_t) = Q(a_t) + \\rho (r(a_t) - Q(a_t))$$\n",
      "\n",
      "for $\\rho > 0$ being a small step size, so that $Q(a_t)$ converges on the expected value (mean) of $r(a_t)$."
     ]
    },
    {
     "cell_type": "markdown",
     "metadata": {},
     "source": [
      "Let's try an example.  Define the initial $Q$ function to be $Q=(0,0)$, and the reward function to be\n",
      "$$r(a) = \\begin{cases}\n",
      "10+z; & a=1\\\\\n",
      "20+z; & a=2,\n",
      "\\end{cases}$$\n",
      "\n",
      "for $z \\sim \\mathcal{N}(0,1)$."
     ]
    },
    {
     "cell_type": "code",
     "collapsed": false,
     "input": [
      "%matplotlib inline\n",
      "import numpy as np\n",
      "import matplotlib.pyplot as plt\n",
      "\n",
      "Q = [0,0]\n",
      "def reward(a):\n",
      "    z = np.random.normal(0,1)\n",
      "    if a == 1:\n",
      "        return 10 + z\n",
      "    else:\n",
      "        return 20 + z"
     ],
     "language": "python",
     "metadata": {},
     "outputs": []
    },
    {
     "cell_type": "code",
     "collapsed": false,
     "input": [
      "reward(1), reward(1), reward(2), reward(2)"
     ],
     "language": "python",
     "metadata": {},
     "outputs": []
    },
    {
     "cell_type": "code",
     "collapsed": false,
     "input": [
      "Q = [0,0]\n",
      "rho = 0.2\n",
      "log = {'Q':[], 'a':[],'r':[]}\n",
      "for steps in range(100):\n",
      "    a = np.random.choice((1,2))\n",
      "    r = reward(a)\n",
      "    Q[a-1] = Q[a-1] + rho * (r - Q[a-1])\n",
      "    log['Q'].append(Q[:])\n",
      "    log['a'].append(a)\n",
      "    log['r'].append(r)"
     ],
     "language": "python",
     "metadata": {},
     "outputs": []
    },
    {
     "cell_type": "code",
     "collapsed": false,
     "input": [
      "Q"
     ],
     "language": "python",
     "metadata": {},
     "outputs": []
    },
    {
     "cell_type": "code",
     "collapsed": false,
     "input": [
      "plt.figure(figsize=(10,8))\n",
      "plt.subplot(3,1,1)\n",
      "plt.plot(log['a'],'o-')\n",
      "plt.ylabel(\"Action Chosen\")\n",
      "plt.subplot(3,1,2)\n",
      "plt.plot(log['r'])\n",
      "plt.ylabel(\"Reward\")\n",
      "plt.subplot(3,1,3)\n",
      "plt.plot(np.array(log['Q']),lw=3)\n",
      "plt.xlabel(\"Step\")\n",
      "plt.ylabel(\"Q value\")\n",
      "plt.legend(('$Q(a=1)$', '$Q(a=2)$'));"
     ],
     "language": "python",
     "metadata": {},
     "outputs": []
    },
    {
     "cell_type": "markdown",
     "metadata": {},
     "source": [
      "We can define a policy function, $\\pi(a)$, that is the probability of selecting each action.  The greedy policy of selecting the action that is best given the current $Q$ function, is\n",
      "$$\\pi(a) = \\begin{cases}\n",
      "1, & a = \\argmax{b} Q(b)\\\\\n",
      "0, & a \\neq \\argmax{b} Q(b)\n",
      "\\end{cases}\n",
      "$$"
     ]
    },
    {
     "cell_type": "code",
     "collapsed": false,
     "input": [
      "def greedy(Q):\n",
      "    return 1 + np.argmax(Q)"
     ],
     "language": "python",
     "metadata": {},
     "outputs": []
    },
    {
     "cell_type": "code",
     "collapsed": false,
     "input": [
      "greedy(Q)"
     ],
     "language": "python",
     "metadata": {},
     "outputs": []
    },
    {
     "cell_type": "markdown",
     "metadata": {},
     "source": [
      "But this was driven by purely random action selection.  Instead, we would like to start using the greedy action as we gain confidence in the $Q$ values.  A simple way to do this is to use an $\\epsilon$-greedy action choice."
     ]
    },
    {
     "cell_type": "code",
     "collapsed": false,
     "input": [
      "def epsilonGreedy(Q,epsilon):\n",
      "    if np.random.uniform() < epsilon:\n",
      "        return 1 + np.random.choice(2) # random action\n",
      "    else:\n",
      "        return 1 + np.argmax(Q)        "
     ],
     "language": "python",
     "metadata": {},
     "outputs": []
    },
    {
     "cell_type": "markdown",
     "metadata": {},
     "source": [
      "and slowly decrease $\\epsilon$ from 1 to 0, asymptotically.  "
     ]
    },
    {
     "cell_type": "code",
     "collapsed": false,
     "input": [
      "Q = [0,0]\n",
      "rho = 0.2\n",
      "epsilon = 1.0\n",
      "log = {'Q':[], 'a':[], 'r':[], 'e':[]}\n",
      "for steps in range(100):\n",
      "    a = epsilonGreedy(Q,epsilon)\n",
      "    r = reward(a)\n",
      "    Q[a-1] = Q[a-1] + rho * (r - Q[a-1])\n",
      "    epsilon = 0.9 * epsilon\n",
      "    \n",
      "    log['Q'].append(Q[:])\n",
      "    log['a'].append(a)\n",
      "    log['r'].append(r)\n",
      "    log['e'].append(epsilon)"
     ],
     "language": "python",
     "metadata": {},
     "outputs": []
    },
    {
     "cell_type": "code",
     "collapsed": false,
     "input": [
      "plt.figure(figsize=(10,8))\n",
      "\n",
      "plt.subplot(4,1,1)\n",
      "plt.plot(log['a'],'o-')\n",
      "plt.ylabel(\"Action Chosen\")\n",
      "\n",
      "plt.subplot(4,1,2)\n",
      "plt.plot(log['r'])\n",
      "plt.ylabel(\"Reward\")\n",
      "\n",
      "plt.subplot(4,1,3)\n",
      "plt.plot(log['e'])\n",
      "plt.ylabel('$\\epsilon$')\n",
      "\n",
      "plt.subplot(4,1,4)\n",
      "plt.plot(np.array(log['Q']),lw=3)\n",
      "plt.xlabel(\"Step\")\n",
      "plt.ylabel(\"Q value\")\n",
      "plt.legend(('$Q(a=1)$', '$Q(a=2)$'));"
     ],
     "language": "python",
     "metadata": {},
     "outputs": []
    },
    {
     "cell_type": "markdown",
     "metadata": {},
     "source": [
      "Notice that now the action chosen quickly converges on action 2, the optimal action.\n",
      "\n",
      "This did not require very many steps.  How can we make this simple problem more challenging?  What if the reward values for the two actions are more similar?"
     ]
    },
    {
     "cell_type": "code",
     "collapsed": false,
     "input": [
      "def reward(a):\n",
      "    z = np.random.normal(0,30)\n",
      "    if a == 1:\n",
      "        return 10 + z\n",
      "    else:\n",
      "        return 20 + z"
     ],
     "language": "python",
     "metadata": {},
     "outputs": []
    },
    {
     "cell_type": "code",
     "collapsed": false,
     "input": [
      "Q = [0,0]\n",
      "rho = 0.2\n",
      "epsilon = 1.0\n",
      "log = {'Q':[], 'a':[], 'r':[], 'e':[]}\n",
      "for steps in range(100):\n",
      "    a = epsilonGreedy(Q,epsilon)\n",
      "    r = reward(a)\n",
      "    Q[a-1] = Q[a-1] + rho * (r - Q[a-1])\n",
      "    epsilon = 0.9 * epsilon\n",
      "    \n",
      "    log['Q'].append(Q[:])\n",
      "    log['a'].append(a)\n",
      "    log['r'].append(r)\n",
      "    log['e'].append(epsilon)\n",
      "    \n",
      "plt.figure(figsize=(10,8))\n",
      "\n",
      "plt.subplot(4,1,1)\n",
      "plt.plot(log['a'],'o-')\n",
      "plt.ylabel(\"Action Chosen\")\n",
      "\n",
      "plt.subplot(4,1,2)\n",
      "plt.plot(log['r'])\n",
      "plt.ylabel(\"Reward\")\n",
      "\n",
      "plt.subplot(4,1,3)\n",
      "plt.plot(log['e'])\n",
      "plt.ylabel('$\\epsilon$')\n",
      "\n",
      "plt.subplot(4,1,4)\n",
      "plt.plot(np.array(log['Q']),lw=3)\n",
      "plt.xlabel(\"Step\")\n",
      "plt.ylabel(\"Q value\")\n",
      "plt.legend(('$Q(a=1)$', '$Q(a=2)$'));"
     ],
     "language": "python",
     "metadata": {},
     "outputs": []
    },
    {
     "cell_type": "markdown",
     "metadata": {},
     "source": [
      "With larger noise in the reward function, we converged on the incorrect action.  We can slow the learning down by decreasing $\\rho$, or slow the decrease of $\\epsilon$.  Let's start by defining a function to repeat the above experiment."
     ]
    },
    {
     "cell_type": "code",
     "collapsed": false,
     "input": [
      "def run1(rho,epsilonDecay,nSteps):\n",
      "    Q = [0,0]\n",
      "    epsilon = 1.0\n",
      "    log = {'Q':[], 'a':[], 'r':[], 'e':[]}\n",
      "    for steps in range(nSteps):\n",
      "        a = epsilonGreedy(Q,epsilon)\n",
      "        r = reward(a)\n",
      "        Q[a-1] = Q[a-1] + rho * (r - Q[a-1])\n",
      "        epsilon = epsilonDecay * epsilon\n",
      "    \n",
      "        log['Q'].append(Q[:])\n",
      "        log['a'].append(a)\n",
      "        log['r'].append(r)\n",
      "        log['e'].append(epsilon)\n",
      "    \n",
      "    plt.figure(figsize=(10,8))\n",
      "\n",
      "    plt.subplot(4,1,1)\n",
      "    plt.plot(log['a'],'o-')\n",
      "    plt.ylabel(\"Action Chosen\")\n",
      "\n",
      "    plt.subplot(4,1,2)\n",
      "    plt.plot(log['r'])\n",
      "    plt.ylabel(\"Reward\")\n",
      "\n",
      "    plt.subplot(4,1,3)\n",
      "    plt.plot(log['e'])\n",
      "    plt.ylabel('$\\epsilon$')\n",
      "\n",
      "    plt.subplot(4,1,4)\n",
      "    plt.plot(np.array(log['Q']),lw=3)\n",
      "    plt.xlabel(\"Step\")\n",
      "    plt.ylabel(\"Q value\")\n",
      "    plt.legend(('$Q(a=1)$', '$Q(a=2)$'));"
     ],
     "language": "python",
     "metadata": {},
     "outputs": []
    },
    {
     "cell_type": "code",
     "collapsed": false,
     "input": [
      "run1(0.05,0.99, 300)"
     ],
     "language": "python",
     "metadata": {},
     "outputs": []
    },
    {
     "cell_type": "markdown",
     "metadata": {},
     "source": [
      "We are learning an accurate estimate of $Q(a=2)$, but not $Q(a=1)$.  Let's learn for more steps and decrease $\\epsilon$ slower."
     ]
    },
    {
     "cell_type": "code",
     "collapsed": false,
     "input": [
      "run1(0.1,0.995, 400)"
     ],
     "language": "python",
     "metadata": {},
     "outputs": []
    },
    {
     "cell_type": "heading",
     "level": 2,
     "metadata": {},
     "source": [
      "Two states, two actions"
     ]
    },
    {
     "cell_type": "markdown",
     "metadata": {},
     "source": [
      "Your world may be in two different states.  Each state has their own probabilities, so we need to keep track of separate $Q$ values in each state.  Since we still have two actions, $Q$ will now contain four values, one for each state, $s$, and action, $a$, or $Q(s,a)$.\n",
      "\n",
      "Let's assume our world chooses which state we are in at random.   Let's also define our reward function so that Action 1 is preferred (has a higher reward) in State 1 and Action 2 is preferred in State 2."
     ]
    },
    {
     "cell_type": "code",
     "collapsed": false,
     "input": [
      "def reward(s,a):\n",
      "    z = np.random.normal(0,10)\n",
      "    if s == 1:\n",
      "        if a == 1:\n",
      "            return 20 + z\n",
      "        else:\n",
      "            return 10 + z\n",
      "    else:\n",
      "        if a == 1:\n",
      "            return -5 + z\n",
      "        else:\n",
      "            return 20 + z"
     ],
     "language": "python",
     "metadata": {},
     "outputs": []
    },
    {
     "cell_type": "markdown",
     "metadata": {},
     "source": [
      "This can be defined more concisely using a reward matrix."
     ]
    },
    {
     "cell_type": "code",
     "collapsed": false,
     "input": [
      "def reward(s,a):\n",
      "    R = np.array([[20,10],[-5,10]])\n",
      "    z = np.random.normal(0,2)\n",
      "    return R[s-1,a-1] + z"
     ],
     "language": "python",
     "metadata": {},
     "outputs": []
    },
    {
     "cell_type": "code",
     "collapsed": false,
     "input": [
      "def epsilonGreedy(Q,state,epsilon):\n",
      "    if np.random.uniform() < epsilon:\n",
      "        return np.random.choice((1,2))\n",
      "    else:\n",
      "        return 1 + np.argmax(Q[state-1,:])   "
     ],
     "language": "python",
     "metadata": {},
     "outputs": []
    },
    {
     "cell_type": "markdown",
     "metadata": {},
     "source": [
      "Now, we run a similar experiment.  How $Q$ is a 2x2 matrix, with the state indexing the row and the action indexing the column."
     ]
    },
    {
     "cell_type": "code",
     "collapsed": false,
     "input": [
      "def run2(rho,epsilonDecay,nSteps):\n",
      "    Q = np.array([[0,0],[0,0]])\n",
      "    epsilon = 1.0\n",
      "    log = {'Q':[], 's':[], 'a':[], 'r':[], 'e':[]}\n",
      "    for steps in range(nSteps):\n",
      "        s = 1 + np.random.choice(2)\n",
      "        a = epsilonGreedy(Q,s,epsilon)\n",
      "        r = reward(s,a)\n",
      "        Q[s-1,a-1] = Q[s-1,a-1] + rho * (r - Q[s-1,a-1])\n",
      "        epsilon = epsilonDecay * epsilon\n",
      "    \n",
      "        log['Q'].append(Q.flatten())\n",
      "        log['s'].append(s)\n",
      "        log['a'].append(a)\n",
      "        log['r'].append(r)\n",
      "        log['e'].append(epsilon)\n",
      "    \n",
      "    plt.figure(figsize=(10,8))\n",
      "\n",
      "    plt.subplot(5,1,1)\n",
      "    plt.plot(log['s'],'o-')\n",
      "    plt.ylabel('state')\n",
      "    \n",
      "    plt.subplot(5,1,2)\n",
      "    plt.plot(log['a'],'o-')\n",
      "    plt.ylabel(\"Action Chosen\")\n",
      "\n",
      "    plt.subplot(5,1,3)\n",
      "    plt.plot(log['r'])\n",
      "    plt.ylabel(\"Reward\")\n",
      "\n",
      "    plt.subplot(5,1,4)\n",
      "    plt.plot(log['e'])\n",
      "    plt.ylabel('$\\epsilon$')\n",
      "\n",
      "    plt.subplot(5,1,5)\n",
      "    \n",
      "    plt.plot(log['Q'],lw=2)\n",
      "    plt.xlabel(\"Step\")\n",
      "    plt.ylabel(\"Q value\")\n",
      "    plt.legend(('$Q(s=1,a=1)$', '$Q(s=1,a=2)$', '$Q(s=2,a=1)$', '$Q(s=2,a=2)$'));\n",
      "    \n",
      "    return log"
     ],
     "language": "python",
     "metadata": {},
     "outputs": []
    },
    {
     "cell_type": "code",
     "collapsed": false,
     "input": [
      "g = run2(0.1,0.9,100)"
     ],
     "language": "python",
     "metadata": {},
     "outputs": []
    },
    {
     "cell_type": "heading",
     "level": 2,
     "metadata": {},
     "source": [
      "Ten states, three actions"
     ]
    },
    {
     "cell_type": "markdown",
     "metadata": {},
     "source": [
      "Okay. That works for two states.  What if we have a chain of 11 states arranged in a row and action 1 takes us one state to the right and action -1 takes us one state to the left, and action 0 leaves us in same state.  We remain in the right-most and left-most states if we try to move right, or left, respectively.\n",
      "\n",
      "And, and this is a BIG AND, what if we don't get a reward until we land in the middle state!  The reward is **delayed** for many of the actions.\n",
      "\n",
      "One thing at a time. Let's define the state transition function.\n",
      "\n",
      "$$ f(s_t,a_t) = \\max( \\min(s_t+a_t, 10), 0)$$"
     ]
    },
    {
     "cell_type": "code",
     "collapsed": false,
     "input": [
      "def f(s,a):\n",
      "    return max(min(s+a, 10), 0)\n",
      "print f(5,-1), f(5,0), f(5,1), f(0,-1), f(0,1), f(10,-1), f(10,1)"
     ],
     "language": "python",
     "metadata": {},
     "outputs": [
      {
       "output_type": "stream",
       "stream": "stdout",
       "text": [
        "4 5 6 0 1 9 10\n"
       ]
      }
     ],
     "prompt_number": 41
    },
    {
     "cell_type": "markdown",
     "metadata": {},
     "source": [
      "Need to redefine epsilonGreedy for the different set of possible actions."
     ]
    },
    {
     "cell_type": "code",
     "collapsed": false,
     "input": [
      "def epsilonGreedy(Q,state,epsilon):\n",
      "    if np.random.uniform() < epsilon:\n",
      "        return np.random.choice((-1,0,1)) # random action\n",
      "    else:\n",
      "        return -1 + np.argmax(Q[state,:])   "
     ],
     "language": "python",
     "metadata": {},
     "outputs": [],
     "prompt_number": 42
    },
    {
     "cell_type": "markdown",
     "metadata": {},
     "source": [
      "Now for the reward function.\n",
      "\n",
      "$$r(s_t,a_t) = \\begin{cases}\n",
      "1, \\text{ if } s_t = 5,\\\\\n",
      "0, \\text{ otherwise }\n",
      "\\end{cases}$$"
     ]
    },
    {
     "cell_type": "code",
     "collapsed": false,
     "input": [
      "def reward(s,a):\n",
      "    if s == 5:\n",
      "        return 1\n",
      "    else:\n",
      "        return 0\n",
      "print reward(3,1), reward(5,1), reward(5,2)"
     ],
     "language": "python",
     "metadata": {},
     "outputs": [
      {
       "output_type": "stream",
       "stream": "stdout",
       "text": [
        "0 1 1\n"
       ]
      }
     ],
     "prompt_number": 43
    },
    {
     "cell_type": "markdown",
     "metadata": {},
     "source": [
      "But how do we learn optimal actions for states that receive no reward?\n",
      "\n",
      "Here's the key to the power of reinforcement learning.  We design algorithms to optimize the sum of future rewards, not just the immediate reward. (Just like in dynamic programming.)  Our greedy policy can still be \n",
      "\n",
      "$$\\pi(s) = \\argmax{a\\in \\{1,2\\}} Q(s,a),$$\n",
      "\n",
      "if we redefine $Q$ to be\n",
      "\n",
      "$$Q(s_t,a_t) \\approx \\sum_{k=0}^\\infty r_{t+k}$$\n",
      "\n",
      "Of course, this sum is undefined, so we do the usual trick of weighting each term by an exponentially decreasing discount factor.\n",
      "\n",
      "$$Q(s_t,a_t) \\approx \\sum_{k=0}^\\infty \\gamma^k r_{t+k}\\;\\;,\\text{ for } 0 < \\gamma \\le 1.$$\n",
      "\n",
      "We cannot directly use the sum as a target in a squared error minimization problem, because of the $\\infty$.  Instead, we make the huge assumption that we can use $Q(s_{t+1},a_{t+1})$ as a pretty good estimation of $\\sum_{k=1}^\\infty \\gamma^k r_{t+k}$ to which we only need to add $r_t$ to get the above right-hand side.\n",
      "\n",
      "$$\\begin{align*}\n",
      "\\sum_{k=0}^\\infty \\gamma^k r_{t+k} &= r_t + \\sum_{k=1}^\\infty \\gamma^k r_{t+k}\\\\\n",
      "&\\approx r_t + \\gamma Q(s_{t+1},a_{t+1})\n",
      "\\end{align*}$$\n",
      "\n",
      "Now we can form the optimization problem\n",
      "\n",
      "$$\\text{Minimize } (r_t + \\gamma Q(s_{t+1},a_{t+1}) - Q(s_t,a_t))^2$$\n",
      "\n",
      "and go down the gradient of this with respect to the $Q$ values.\n",
      "\n",
      "$$ Q(s_t,a_t) = Q(s_t,a_t) + \\rho (r_{t+1} +\\gamma Q(s_{t+1},a_{t+1}) - Q(a_t))$$\n",
      "\n",
      "\n",
      "\n",
      "\n",
      "\n",
      "\n"
     ]
    },
    {
     "cell_type": "code",
     "collapsed": false,
     "input": [
      "def run11(rho,epsilonDecay,gamma,nSteps):\n",
      "    Q = np.zeros((11,3))\n",
      "    epsilon = 1.0\n",
      "    log = {'Q':[], 's':[], 'a':[], 'r':[], 'e':[]}\n",
      "    s = 5 # initial state\n",
      "    a = epsilonGreedy(Q,s,epsilon)\n",
      "    for steps in range(nSteps):\n",
      "        sNext = f(s,a)\n",
      "        r = reward(sNext,a)\n",
      "        epsilon = epsilonDecay * epsilon\n",
      "        aNext = epsilonGreedy(Q,sNext,epsilon)\n",
      "        Q[s,a+1] = Q[s,a+1] + rho * (r + gamma * Q[sNext,aNext+1] - Q[s,a+1])\n",
      "\n",
      "        s = sNext\n",
      "        a = aNext\n",
      "        \n",
      "        log['Q'].append(Q.flatten())\n",
      "        log['s'].append(s)\n",
      "        log['a'].append(a)\n",
      "        log['r'].append(r)\n",
      "        log['e'].append(epsilon)\n",
      "    \n",
      "    plt.figure(figsize=(10,8))\n",
      "\n",
      "    plt.subplot(5,1,1)\n",
      "    plt.plot(log['s'],'.-')\n",
      "    plt.ylabel('state')\n",
      "    \n",
      "    plt.subplot(5,1,2)\n",
      "    plt.plot(log['a'],'o-')\n",
      "    plt.ylabel(\"Action Chosen\")\n",
      "\n",
      "    plt.subplot(5,1,3)\n",
      "    rs = np.array(log['r'])\n",
      "    plt.plot(rs)\n",
      "    plt.plot(np.arange(10,len(rs)+1,10),rs.reshape((-1,10)).mean(1),lw=3,alpha=0.8)\n",
      "    plt.ylabel(\"Reward\")\n",
      "\n",
      "    plt.subplot(5,1,4)\n",
      "    plt.plot(log['e'])\n",
      "    plt.ylabel('$\\epsilon$')\n",
      "\n",
      "    plt.subplot(5,1,5)\n",
      "    \n",
      "    plt.plot(log['Q'],lw=2)\n",
      "    plt.xlabel(\"Step\")\n",
      "    plt.ylabel(\"Q value\")\n",
      "    \n",
      "    return log"
     ],
     "language": "python",
     "metadata": {},
     "outputs": [],
     "prompt_number": 44
    },
    {
     "cell_type": "code",
     "collapsed": false,
     "input": [
      "g = run11(0.01,0.995,0.9,1000)"
     ],
     "language": "python",
     "metadata": {},
     "outputs": [
      {
       "metadata": {},
       "output_type": "display_data",
       "png": "[encoded data removed]",
       "text": [
        "<matplotlib.figure.Figure at 0x7fc89c42d4d0>"
       ]
      }
     ],
     "prompt_number": 45
    },
    {
     "cell_type": "code",
     "collapsed": false,
     "input": [],
     "language": "python",
     "metadata": {},
     "outputs": []
    }
   ],
   "metadata": {}
  }
 ]
}