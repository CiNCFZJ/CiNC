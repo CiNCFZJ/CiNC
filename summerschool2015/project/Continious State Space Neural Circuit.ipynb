{
 "cells": [
  {
   "cell_type": "markdown",
   "metadata": {},
   "source": [
    "# Continious State Neural Circuit"
   ]
  },
  {
   "cell_type": "markdown",
   "metadata": {},
   "source": [
    "#### Our first task is to create state neurons that will represent a continious variable."
   ]
  },
  {
   "cell_type": "markdown",
   "metadata": {},
   "source": [
    "First, we import required libraries."
   ]
  },
  {
   "cell_type": "code",
   "execution_count": 169,
   "metadata": {
    "collapsed": true
   },
   "outputs": [],
   "source": [
    "%matplotlib inline\n",
    "\n",
    "import nest\n",
    "from nest import raster_plot as rplt\n",
    "import numpy as np\n",
    "import matplotlib.pyplot as plt"
   ]
  },
  {
   "cell_type": "markdown",
   "metadata": {},
   "source": [
    "Then, we define our constants."
   ]
  },
  {
   "cell_type": "code",
   "execution_count": 170,
   "metadata": {
    "collapsed": true
   },
   "outputs": [],
   "source": [
    "NUM_STATE_NEURONS = 5\n",
    "NUM_STATES = 100"
   ]
  },
  {
   "cell_type": "markdown",
   "metadata": {},
   "source": [
    "Let's create some state neurons.\n"
   ]
  },
  {
   "cell_type": "code",
   "execution_count": 171,
   "metadata": {
    "collapsed": false
   },
   "outputs": [],
   "source": [
    "nest.ResetKernel()\n",
    "\n",
    "# Create states\n",
    "states = [nest.Create(\"iaf_psc_alpha\", NUM_STATE_NEURONS) for i in range(NUM_STATES)]\n",
    "all_states = np.ravel(states).tolist()\n",
    "\n",
    "# Create noise\n",
    "noise = nest.Create('poisson_generator', 1, {'rate': 65000.})\n",
    "nest.Connect(noise, all_states, 'all_to_all', {'weight': 1.})"
   ]
  },
  {
   "cell_type": "markdown",
   "metadata": {},
   "source": [
    "Let's try to activate one of neuron pools."
   ]
  },
  {
   "cell_type": "code",
   "execution_count": 172,
   "metadata": {
    "collapsed": false
   },
   "outputs": [],
   "source": [
    "# Create stimulus\n",
    "stimulus = [nest.Create('poisson_generator', 1, {'rate': 0.}) for i in range(NUM_STATES)]\n",
    "for i in range(NUM_STATES):\n",
    "    nest.Connect(stimulus[i], states[i], 'all_to_all', {'weight': 1.})"
   ]
  },
  {
   "cell_type": "code",
   "execution_count": 173,
   "metadata": {
    "collapsed": true
   },
   "outputs": [],
   "source": [
    "# Create spike detector\n",
    "sd = nest.Create('spike_detector')\n",
    "nest.Connect(all_states, sd)"
   ]
  },
  {
   "cell_type": "markdown",
   "metadata": {},
   "source": [
    "Test is network working."
   ]
  },
  {
   "cell_type": "code",
   "execution_count": 174,
   "metadata": {
    "collapsed": false
   },
   "outputs": [
    {
     "data": {
      "image/png": "[encoded data removed]",
      "text/plain": [
       "<matplotlib.figure.Figure at 0x7fbbf0e760d0>"
      ]
     },
     "metadata": {},
     "output_type": "display_data"
    }
   ],
   "source": [
    "nest.ResetNetwork()\n",
    "seed = np.random.randint(0, 1000000)\n",
    "nest.SetKernelStatus({'rng_seeds': range(seed, seed + 1), 'grng_seed': seed})\n",
    "\n",
    "nest.Simulate(500.0)\n",
    "\n",
    "# Plot states\n",
    "rplt.from_device(sd, hist=False, title='States')\n",
    "rplt.show()"
   ]
  },
  {
   "cell_type": "markdown",
   "metadata": {},
   "source": [
    "Now we want to attach Gaussian distribution to our state's spike generators."
   ]
  },
  {
   "cell_type": "markdown",
   "metadata": {},
   "source": [
    "First, import scipy."
   ]
  },
  {
   "cell_type": "code",
   "execution_count": 175,
   "metadata": {
    "collapsed": true
   },
   "outputs": [],
   "source": [
    "from scipy.stats import norm"
   ]
  },
  {
   "cell_type": "markdown",
   "metadata": {},
   "source": [
    "Let's distribute our means over the given interval."
   ]
  },
  {
   "cell_type": "code",
   "execution_count": 176,
   "metadata": {
    "collapsed": false
   },
   "outputs": [],
   "source": [
    "# TODO: maybe I should rename some of the variables and functions\n",
    "\n",
    "# Interval from point a to point b\n",
    "a = -1.\n",
    "b = 1.\n",
    "interval_length = b - a\n",
    "\n",
    "# Normal distribution standard deviation\n",
    "# Maybe it shall depend on number of states, neurons and interval length\n",
    "STD = 0.2\n",
    "\n",
    "# Distributing means over interval\n",
    "# I think there should be a better way to write this\n",
    "# There also is some rounding error in division somewhere\n",
    "means = [a + (i + 1) * (interval_length / (NUM_STATES + 1)) for i in range(NUM_STATES)]\n",
    "\n",
    "def inputValue(value):\n",
    "    \n",
    "    # Values that are returned by pdf function to be applied to spike generator rate\n",
    "    applied_values = []\n",
    "    \n",
    "    for i in range(NUM_STATES):\n",
    "        applied_values.append(norm.pdf(value, means[i], STD))\n",
    "    \n",
    "    return applied_values\n",
    "\n",
    "# print inputValue(0)"
   ]
  },
  {
   "cell_type": "markdown",
   "metadata": {},
   "source": [
    "Now we apply our Gaussian tune curves to spike generators"
   ]
  },
  {
   "cell_type": "code",
   "execution_count": 177,
   "metadata": {
    "collapsed": true
   },
   "outputs": [],
   "source": [
    "# Scaling values of normal distribution to match spike generator rate\n",
    "SCALE_RATE = 5000.\n",
    "\n",
    "def applyValue(value):\n",
    "    \n",
    "    applied_values = inputValue(value)\n",
    "    \n",
    "    for i in range(NUM_STATES):\n",
    "        nest.SetStatus(stimulus[i], {'rate': applied_values[i] * SCALE_RATE})\n"
   ]
  },
  {
   "cell_type": "markdown",
   "metadata": {},
   "source": [
    "Let's test this shit"
   ]
  },
  {
   "cell_type": "code",
   "execution_count": 178,
   "metadata": {
    "collapsed": false
   },
   "outputs": [
    {
     "data": {
      "image/png": "[encoded data removed]",
      "text/plain": [
       "<matplotlib.figure.Figure at 0x7fbc14649490>"
      ]
     },
     "metadata": {},
     "output_type": "display_data"
    }
   ],
   "source": [
    "nest.ResetNetwork()\n",
    "seed = np.random.randint(0, 1000000)\n",
    "nest.SetKernelStatus({'rng_seeds': range(seed, seed + 1), 'grng_seed': seed})\n",
    "\n",
    "# Our coordinate\n",
    "applyValue(0.57)\n",
    "\n",
    "nest.Simulate(500.0)\n",
    "\n",
    "# Plot states\n",
    "rplt.from_device(sd, hist=False, title='States')\n",
    "rplt.show()"
   ]
  },
  {
   "cell_type": "markdown",
   "metadata": {},
   "source": [
    "Next step is to connect state neurons to action neurons.\n",
    "Action space will be represented as discrete (Paddle moves up, down, or stays).\n",
    "But also it can be made continious (Action is not a paddle move direction, but a paddle distance change)."
   ]
  },
  {
   "cell_type": "markdown",
   "metadata": {},
   "source": [
    "Implementation 1:\n",
    "Discrete actions.\n",
    "Paddle moves up, down, stays.\n",
    "WTA circuit."
   ]
  },
  {
   "cell_type": "code",
   "execution_count": null,
   "metadata": {
    "collapsed": true
   },
   "outputs": [],
   "source": []
  }
 ],
 "metadata": {
  "kernelspec": {
   "display_name": "Python 2",
   "language": "python",
   "name": "python2"
  },
  "language_info": {
   "codemirror_mode": {
    "name": "ipython",
    "version": 2
   },
   "file_extension": ".py",
   "mimetype": "text/x-python",
   "name": "python",
   "nbconvert_exporter": "python",
   "pygments_lexer": "ipython2",
   "version": "2.7.6"
  }
 },
 "nbformat": 4,
 "nbformat_minor": 0
}
