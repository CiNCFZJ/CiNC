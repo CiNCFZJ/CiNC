{
 "metadata": {
  "name": ""
 },
 "nbformat": 3,
 "nbformat_minor": 0,
 "worksheets": [
  {
   "cells": [
    {
     "cell_type": "heading",
     "level": 1,
     "metadata": {},
     "source": [
      "Dopaminergic Error Signal"
     ]
    },
    {
     "cell_type": "heading",
     "level": 2,
     "metadata": {},
     "source": [
      "In this notebook, we will introduce a more plausible way to calculate the prediction error signal for reinforcement learning."
     ]
    },
    {
     "cell_type": "raw",
     "metadata": {},
     "source": [
      "We start with the same implementation as before but without calculating the values (and weights from states to actions) explicitly."
     ]
    },
    {
     "cell_type": "code",
     "collapsed": false,
     "input": [
      "import nest\n",
      "import nest.raster_plot as rplt\n",
      "import numpy as np\n",
      "import matplotlib.pyplot as plt\n",
      "import environment as env\n",
      "from mpl_toolkits.mplot3d import Axes3D\n",
      "\n",
      "env.set_environment(1)\n",
      "\n",
      "NUM_ITERATIONS = 300\n",
      "NUM_STATE_NEURONS = 20\n",
      "NUM_WTA_NEURONS = 50\n",
      "WEIGHT_SCALING = 100 / NUM_STATE_NEURONS\n",
      "\n",
      "nest.ResetKernel()\n",
      "nest.set_verbosity(\"M_DEBUG\")\n",
      "\n",
      "rank = nest.Rank()\n",
      "size = nest.NumProcesses() \n",
      "seed = np.random.randint(0, 1000000)\n",
      "num_threads = 1\n",
      "nest.SetKernelStatus({\"local_num_threads\": num_threads})\n",
      "nest.SetKernelStatus({\"rng_seeds\": range(seed+num_threads * size + 1, seed + 2 * (num_threads * size) + 1),\n",
      "        \t\t      \"grng_seed\": seed+size+num_threads,\n",
      "                      \"resolution\": 0.1})\n",
      "tau_pre = 20.\n",
      "nest.SetDefaults(\"iaf_psc_alpha\", {\"tau_minus\": tau_pre})\n",
      "\n",
      "# Create states\n",
      "world_dim = env.get_world_dimensions()\n",
      "states = []\n",
      "for i in range(world_dim['x']):\n",
      "    states.append([])\n",
      "    for j in range(world_dim['y']):\n",
      "        states[i].append(nest.Create('iaf_psc_alpha', NUM_STATE_NEURONS))\n",
      "all_states = np.ravel(states).tolist()\n",
      "\n",
      "# Create actions\n",
      "num_actions = env.get_num_possible_actions()\n",
      "actions = []\n",
      "for i in range(num_actions):\n",
      "    actions.append(nest.Create('iaf_psc_alpha', NUM_WTA_NEURONS))\n",
      "all_actions = np.ravel(actions).tolist()\n",
      "\n",
      "# Create WTA circuit\n",
      "wta_ex_weights = 10.5\n",
      "wta_inh_weights = -2.6\n",
      "wta_ex_inh_weights = 2.8\n",
      "wta_noise_weights = 2.1\n",
      "\n",
      "wta_inh_neurons = nest.Create('iaf_psc_alpha', NUM_WTA_NEURONS)\n",
      "\n",
      "for i in range(len(actions)):\n",
      "    nest.Connect(actions[i], actions[i], 'all_to_all', {'weight': wta_ex_weights})\n",
      "    nest.Connect(actions[i], wta_inh_neurons, 'all_to_all', {'weight': wta_ex_inh_weights}) \n",
      "\n",
      "nest.Connect(wta_inh_neurons, all_actions, 'all_to_all', {'weight': wta_inh_weights})\n",
      "\n",
      "wta_noise = nest.Create('poisson_generator', 10, {'rate': 3000.})\n",
      "nest.Connect(wta_noise, all_actions, 'all_to_all', {'weight': wta_noise_weights})\n",
      "nest.Connect(wta_noise, wta_inh_neurons, 'all_to_all', {'weight': wta_noise_weights * 0.9})\n",
      "\n",
      "\n",
      "# Create stimulus\n",
      "stimulus = nest.Create('poisson_generator', 1, {'rate': 5000.})\n",
      "nest.Connect(stimulus, all_states, 'all_to_all', {'weight': 0.})\n",
      "\n"
     ],
     "language": "python",
     "metadata": {},
     "outputs": [],
     "prompt_number": 1
    },
    {
     "cell_type": "raw",
     "metadata": {},
     "source": [
      "Here, we are implementing the dopaminergic nueron pool, volume transmitter and dopamin-modulated synapse between states and actions"
     ]
    },
    {
     "cell_type": "code",
     "collapsed": false,
     "input": [
      "# Create DA pool\n",
      "DA_neurons = nest.Create('iaf_psc_alpha', 100)\n",
      "vol_trans = nest.Create('volume_transmitter', 1, {'deliver_interval': 10})\n",
      "nest.Connect(DA_neurons, vol_trans, 'all_to_all')\n",
      "\n",
      "# Create reward stimulus\n",
      "reward_stimulus = nest.Create('poisson_generator', 1, {'rate': 5000.})\n",
      "nest.Connect(reward_stimulus, DA_neurons, 'all_to_all', {'weight': 0.})\n",
      "\n",
      "tau_c = 50.0\n",
      "tau_n = 20.0\n",
      "tau_post = 20.\n",
      "\n",
      "# Connect states to actions\n",
      "nest.CopyModel('neuromod_dopa_synapse', 'dopa_synapse', {'vt': vol_trans[0], 'A_LTP': 40., 'A_LTD': 50., \"tau_plus\": tau_post,\n",
      "                                                         'Wmin': -10., 'Wmax': 10., 'b': 1., 'tau_n': tau_n, 'tau_c': tau_c})\n",
      "        \n",
      "nest.Connect(all_states, all_actions, 'all_to_all', {'model': 'dopa_synapse', 'weight': 0.0})\n",
      "\n",
      "# TODO experimental: project from state to DA via critic \n",
      "nest.CopyModel('neuromod_dopa_synapse', 'dopa_synapse_critic', {'vt': vol_trans[0], 'A_LTP': 40., 'A_LTD': 50., \"tau_plus\": tau_post,\n",
      "                                                                'Wmin': -10., 'Wmax': 10., 'b': 1., 'tau_n': tau_n, 'tau_c': tau_c})\n",
      "critic = nest.Create('iaf_psc_alpha', 50)\n",
      "nest.Connect(all_states, critic, 'all_to_all', {'model': 'dopa_synapse_critic', 'weight': 0.0})\n",
      "nest.Connect(critic, DA_neurons, 'all_to_all', {'weight': -5., 'delay': 50.})\n",
      "nest.Connect(critic, DA_neurons, 'all_to_all', {'weight': 5., 'delay': 1.})\n",
      "\n",
      "critic_noise = nest.Create('poisson_generator', 1, {'rate': 65500.})\n",
      "nest.Connect(critic_noise, critic)"
     ],
     "language": "python",
     "metadata": {},
     "outputs": [],
     "prompt_number": 2
    },
    {
     "cell_type": "code",
     "collapsed": false,
     "input": [
      "# Create spike detector\n",
      "sd_wta = nest.Create('spike_detector')\n",
      "nest.Connect(all_actions, sd_wta)\n",
      "nest.Connect(wta_inh_neurons, sd_wta)\n",
      "sd_actions = nest.Create('spike_detector', num_actions)\n",
      "for i in range(len(actions)):\n",
      "    nest.Connect(actions[i], [sd_actions[i]])\n",
      "sd_states = nest.Create('spike_detector')\n",
      "nest.Connect(all_states, sd_states)\n",
      "sd_DA = nest.Create('spike_detector', 1)\n",
      "nest.Connect(DA_neurons, sd_DA, 'all_to_all')\n",
      "sd_critic = nest.Create('spike_detector', 1)\n",
      "nest.Connect(critic, sd_critic, 'all_to_all')\n",
      "\n",
      "\n",
      "# Create noise\n",
      "noise = nest.Create('poisson_generator', 1, {'rate': 65000.})\n",
      "nest.Connect(noise, all_states, 'all_to_all', {'weight': 1.})\n",
      "nest.Connect(noise, DA_neurons, 'all_to_all', {'weight': 1.0367})\n"
     ],
     "language": "python",
     "metadata": {},
     "outputs": [],
     "prompt_number": 3
    },
    {
     "cell_type": "code",
     "collapsed": false,
     "input": [
      "def plot_values(fig, ax, position):\n",
      "    plt.cla()\n",
      "    \n",
      "    values_plot = []      \n",
      "    \n",
      "    for i in range(world_dim['y']):\n",
      "        values_plot.append([])\n",
      "        for j in range(world_dim['x']):\n",
      "            values_plot[i].append(np.mean([np.mean(nest.GetStatus(nest.GetConnections(states[j][i], actions[a]), 'weight')) for a in range(len(actions))]))\n",
      "            if len(actions) == 4:\n",
      "                q_north = np.mean(nest.GetStatus(nest.GetConnections(states[j][i], actions[0]), 'weight'))\n",
      "                q_east = np.mean(nest.GetStatus(nest.GetConnections(states[j][i], actions[1]), 'weight'))\n",
      "                q_south = np.mean(nest.GetStatus(nest.GetConnections(states[j][i], actions[2]), 'weight'))\n",
      "                q_west = np.mean(nest.GetStatus(nest.GetConnections(states[j][i], actions[3]), 'weight'))\n",
      "                ax.arrow(j, i, (q_east-q_west)/10., (q_south-q_north)/10., head_width=0.05, head_length=0.1, fc='k', ec='k')\n",
      "            else:\n",
      "                q_east = np.mean(nest.GetStatus(nest.GetConnections(states[j][i], actions[0]), 'weight'))\n",
      "                q_west = np.mean(nest.GetStatus(nest.GetConnections(states[j][i], actions[1]), 'weight'))\n",
      "                ax.arrow(j, i, (q_west-q_east)/10., 0., head_width=0.05, head_length=0.1, fc='k', ec='k')\n",
      "\n",
      "    \n",
      "    values_plot = np.array(values_plot)\n",
      "    print values_plot\n",
      "    \n",
      "    plt.imshow(values_plot, interpolation='none', vmax=1 * WEIGHT_SCALING, vmin=-1 * WEIGHT_SCALING)\n",
      "    \n",
      "    xlabels = np.arange(0, len(states))\n",
      "    ylabels = np.arange(0, len(states[0]))\n",
      "\n",
      "    # Set the major ticks at the centers and minor tick at the edges\n",
      "    xlocs = np.arange(len(xlabels))\n",
      "    ylocs = np.arange(len(ylabels))\n",
      "    ax.xaxis.set_ticks(xlocs + 0.5, minor=True)\n",
      "    ax.xaxis.set(ticks=xlocs, ticklabels=xlabels)\n",
      "    ax.yaxis.set_ticks(ylocs + 0.5, minor=True)\n",
      "    ax.yaxis.set(ticks=ylocs, ticklabels=ylabels)\n",
      "    \n",
      "    # Turn on the grid for the minor ticks\n",
      "    ax.grid(True, which='minor', linestyle='-', linewidth=2)   \n",
      "    \n",
      "    for txt in ax.texts:\n",
      "        txt.set_visible(False)\n",
      "        \n",
      "    ax.annotate(\".\", ((position['x'] + 0.5)/len(states), (1-(position['y'] + 0.5)/len(states[0]))), size=160, textcoords='axes fraction', color='white')\n",
      "    plt.draw()\n",
      "    \n",
      "    "
     ],
     "language": "python",
     "metadata": {},
     "outputs": [],
     "prompt_number": 4
    },
    {
     "cell_type": "code",
     "collapsed": false,
     "input": [
      "\n",
      "# Main loop\n",
      "actions_executed = 0\n",
      "last_action_time = 0\n",
      "in_end_position = False\n",
      "\n",
      "# interactive plotting\n",
      "fig, ax = plt.subplots()\n",
      "plt.ion()\n",
      "    \n",
      "while actions_executed < NUM_ITERATIONS:\n",
      "    position = env.get_agent_pos().copy()\n",
      "\n",
      "    # plotting\n",
      "    plot_values(fig, ax, position)\n",
      "    \n",
      "    if not in_end_position:\n",
      "        nest.SetStatus(nest.GetConnections(stimulus, states[position['x']][position['y']]), {'weight': 1.})\n",
      "        \n",
      "        nest.SetStatus(wta_noise, {'rate': 3000.})\n",
      "\n",
      "        nest.Simulate(400)\n",
      "        max_rate = -1\n",
      "        chosen_action = -1\n",
      "        for i in range(len(sd_actions)):\n",
      "            rate = len([e for e in nest.GetStatus([sd_actions[i]], keys='events')[0]['times'] if e > last_action_time]) # calc the \"firerate\" of each actor population\n",
      "            if rate > max_rate:\n",
      "                max_rate = rate # the population with the hightes rate wins\n",
      "                chosen_action = i\n",
      "        possible_actions = env.get_possible_actions() \n",
      "\n",
      "        new_position, outcome, in_end_position = env.move(possible_actions[chosen_action])\n",
      "\n",
      "        print \"iteration:\", actions_executed, \"action:\", chosen_action \n",
      "        print \"new pos:\", new_position, \"reward:\", outcome\n",
      "        \n",
      "        values = []\n",
      "        for s in states:\n",
      "            for ss in s:\n",
      "                values.append(np.mean(nest.GetStatus(nest.GetConnections(ss, critic), 'weight')))\n",
      "\n",
      "        print \"values\", values\n",
      "        \n",
      "        # stimulate new state\n",
      "        nest.SetStatus(nest.GetConnections(stimulus, states[position['x']][position['y']]), {'weight': 0.})\n",
      "\n",
      "         \n",
      "        # apply reward\n",
      "        nest.SetStatus(nest.GetConnections(reward_stimulus, DA_neurons), {'weight': float(outcome)* WEIGHT_SCALING})\n",
      "        nest.SetStatus(wta_noise, {'rate': 0.})\n",
      "        \n",
      "        # refactory time\n",
      "        nest.Simulate(100.)\n",
      " \n",
      "        nest.SetStatus(nest.GetConnections(stimulus, states[new_position['x']][new_position['y']]), {'weight': 1.})\n",
      "        nest.SetStatus(nest.GetConnections(reward_stimulus, DA_neurons), {'weight': 0.0})\n",
      "              \n",
      "        last_action_time += 500\n",
      "        actions_executed += 1\n",
      "    else:      \n",
      "        _, in_end_position = env.init_new_trial()\n",
      "        nest.SetStatus(nest.GetConnections(stimulus, states[position['x']][position['y']]), {'weight': 0.})\n",
      "\n",
      "\n",
      "rplt.from_device(sd_wta, title=\"WTA circuit\")\n",
      "rplt.from_device(sd_states, title=\"States\")\n",
      "rplt.from_device(sd_DA, title=\"DA pool\")\n",
      "rplt.from_device(sd_critic, title=\"Critic\")\n",
      "rplt.show()\n",
      "    "
     ],
     "language": "python",
     "metadata": {},
     "outputs": [
      {
       "output_type": "stream",
       "stream": "stdout",
       "text": [
        "/usr/lib/pymodules/python2.7/matplotlib/patches.py:1054: RuntimeWarning: invalid value encountered in double_scalars\n",
        "/usr/lib/pymodules/python2.7/matplotlib/patches.py:1055: RuntimeWarning: invalid value encountered in double_scalars\n",
        "[[ 0.  0.  0.  0.  0.]]"
       ]
      },
      {
       "output_type": "stream",
       "stream": "stdout",
       "text": [
        "\n",
        "iteration:"
       ]
      },
      {
       "output_type": "stream",
       "stream": "stdout",
       "text": [
        " 0 action: 1\n",
        "new pos: {'y': 0, 'x': 3} reward: 0\n",
        "values [-0.00033799930663070825, 0.00044215332748424445, 0.0032602086377940109, -0.00034463800844500671, -0.00052156504419317482]\n",
        "[[-0.011069    0.00429491 -0.05917232 -0.00994932 -0.01609733]]"
       ]
      },
      {
       "output_type": "stream",
       "stream": "stdout",
       "text": [
        "\n",
        "iteration:"
       ]
      },
      {
       "output_type": "stream",
       "stream": "stdout",
       "text": [
        " 1 action: 1\n",
        "new pos: {'y': 0, 'x': 4} reward: -1.0\n",
        "values [3.6777618883512773e-05, 0.00066640369657752535, 0.0034975921418804248, 0.0030428973749656737, -0.00026546373468505657]\n",
        "[[-0.01981393 -0.00860998 -0.06202153 -0.10408466 -0.0295794 ]]"
       ]
      },
      {
       "output_type": "stream",
       "stream": "stdout",
       "text": [
        "\n",
        "[[-0.01981393 -0.00860998 -0.06202153 -0.10408466 -0.0295794 ]]"
       ]
      },
      {
       "output_type": "stream",
       "stream": "stdout",
       "text": [
        "\n",
        "iteration:"
       ]
      },
      {
       "output_type": "stream",
       "stream": "stdout",
       "text": [
        " 2 action: 1\n",
        "new pos: {'y': 0, 'x': 3} reward: 0\n",
        "values [-0.0023369423786433691, -0.0028286156609094813, -0.0063386954557944006, -0.00833646277972812, -0.0016902800165383119]\n",
        "[[-0.03341616 -0.0169155  -0.20558083 -0.11702581 -0.031449  ]]"
       ]
      },
      {
       "output_type": "stream",
       "stream": "stdout",
       "text": [
        "\n",
        "iteration:"
       ]
      },
      {
       "output_type": "stream",
       "stream": "stdout",
       "text": [
        " 3 action: 1\n",
        "new pos: {'y': 0, 'x': 4} reward: -1.0\n",
        "values [-0.0023733428453684745, -0.0030040692140800179, -0.0068273511544526518, -0.011065758168981841, -0.0018739028932188598]\n",
        "[[-0.04654555 -0.02333241 -0.20543402 -0.23259331 -0.03337002]]"
       ]
      },
      {
       "output_type": "stream",
       "stream": "stdout",
       "text": [
        "\n",
        "[[-0.04654555 -0.02333241 -0.20543402 -0.23259331 -0.03337002]]"
       ]
      },
      {
       "output_type": "stream",
       "stream": "stdout",
       "text": [
        "\n",
        "iteration:"
       ]
      },
      {
       "output_type": "stream",
       "stream": "stdout",
       "text": [
        " 4 action: 0\n",
        "new pos: {'y': 0, 'x': 1} reward: 0\n",
        "values [-0.0057834462346758875, -0.0064057245715451912, -0.020706457657464358, -0.022005686760242012, -0.00187946528474996]\n",
        "[[-0.04483495 -0.02903684 -0.26755511 -0.24065257 -0.03734348]]"
       ]
      },
      {
       "output_type": "stream",
       "stream": "stdout",
       "text": [
        "\n",
        "iteration:"
       ]
      },
      {
       "output_type": "stream",
       "stream": "stdout",
       "text": [
        " 5 action: 1\n",
        "new pos: {'y': 0, 'x': 2} reward: 0\n",
        "values [-0.0055894529893577962, 0.0021510214675631292, -0.021433618210635115, -0.021931266071726113, -0.0016471281702752146]\n",
        "[[-0.04617943  0.0070951  -0.25634    -0.25052141 -0.03988479]]"
       ]
      },
      {
       "output_type": "stream",
       "stream": "stdout",
       "text": [
        "\n",
        "iteration:"
       ]
      },
      {
       "output_type": "stream",
       "stream": "stdout",
       "text": [
        " 6 action: 1\n",
        "new pos: {'y': 0, 'x': 3} reward: 0\n",
        "values [-0.0055051152134247489, 0.00035384445578083616, -0.016414951926253425, -0.021832925407161485, -0.0012321207295119293]\n",
        "[[-0.04632709  0.00244619 -0.33239064 -0.26216552 -0.03938241]]"
       ]
      },
      {
       "output_type": "stream",
       "stream": "stdout",
       "text": [
        "\n",
        "iteration:"
       ]
      },
      {
       "output_type": "stream",
       "stream": "stdout",
       "text": [
        " 7 action: 0\n",
        "new pos: {'y': 0, 'x': 2} reward: 0\n",
        "values [-0.0053005684320958897, 0.00067533104796079141, -0.011122108781294925, -0.020140279285611892, -0.00045438840925806273]\n",
        "[[-0.0466672   0.00257746 -0.33206301 -0.25596562 -0.03892564]]"
       ]
      },
      {
       "output_type": "stream",
       "stream": "stdout",
       "text": [
        "\n",
        "iteration:"
       ]
      },
      {
       "output_type": "stream",
       "stream": "stdout",
       "text": [
        " 8 action: 0\n",
        "new pos: {'y': 0, 'x': 1} reward: 0\n",
        "values [-0.0052641750914766685, 0.00066778354079844013, -0.0044455624537758026, -0.019785341054106977, -0.00066946830283529156]\n",
        "[[-0.0467828   0.00357045 -0.27922684 -0.25111706 -0.03792994]]"
       ]
      },
      {
       "output_type": "stream",
       "stream": "stdout",
       "text": [
        "\n",
        "iteration:"
       ]
      },
      {
       "output_type": "stream",
       "stream": "stdout",
       "text": [
        " 9 action: 0\n",
        "new pos: {'y': 0, 'x': 0} reward: 1.0\n",
        "values [-0.0057345291237773524, 0.0065782297902551709, -0.0029860854591517191, -0.020187105687131522, -0.00048160262562173251]\n",
        "[[-0.03096144  0.26873539 -0.22718545 -0.23303453  0.02957381]]"
       ]
      },
      {
       "output_type": "stream",
       "stream": "stdout",
       "text": [
        "\n",
        "[[-0.03096144  0.26873539 -0.22718545 -0.23303453  0.02957381]]"
       ]
      },
      {
       "output_type": "stream",
       "stream": "stdout",
       "text": [
        "\n",
        "iteration:"
       ]
      },
      {
       "output_type": "stream",
       "stream": "stdout",
       "text": [
        " 10 action: 1\n",
        "new pos: {'y': 0, 'x': 3} reward: 0\n",
        "values [0.01206635595629559, 0.055220611362074241, 0.037112638146208812, -0.005903810984751191, 0.016832709028616485]\n",
        "[[-0.03799703  0.27221867 -0.28621594 -0.23122712  0.03059535]]"
       ]
      },
      {
       "output_type": "stream",
       "stream": "stdout",
       "text": [
        "\n",
        "iteration:"
       ]
      },
      {
       "output_type": "stream",
       "stream": "stdout",
       "text": [
        " 11 action: 0\n",
        "new pos: {'y': 0, 'x': 2} reward: 0\n",
        "values [0.012196797067490344, 0.056271980408731555, 0.034595992252132939, -0.0045974288219809371, 0.016403965624648319]\n",
        "[[-0.03741717  0.2738719  -0.30089198 -0.36910236  0.02129809]]"
       ]
      },
      {
       "output_type": "stream",
       "stream": "stdout",
       "text": [
        "\n",
        "iteration:"
       ]
      },
      {
       "output_type": "stream",
       "stream": "stdout",
       "text": [
        " 12 action: 0\n",
        "new pos: {'y': 0, 'x': 1} reward: 0\n",
        "values [0.012692409143627575, 0.057839303770112711, 0.042024016697126895, -0.0041166435576904794, 0.016470067893225658]\n",
        "[[-0.03584503  0.29129131 -0.28652168 -0.36160305  0.01736833]]"
       ]
      },
      {
       "output_type": "stream",
       "stream": "stdout",
       "text": [
        "\n",
        "iteration:"
       ]
      },
      {
       "output_type": "stream",
       "stream": "stdout",
       "text": [
        " 13 action: 1\n",
        "new pos: {'y': 0, 'x': 2} reward: 0\n",
        "values [0.013199880034030335, 0.067461022484447658, 0.047212619150886273, -0.0031805944498440627, 0.017277907782867131]\n",
        "[[-0.03277972  0.32715431 -0.29318952 -0.36083633  0.01390861]]"
       ]
      },
      {
       "output_type": "stream",
       "stream": "stdout",
       "text": [
        "\n",
        "iteration:"
       ]
      },
      {
       "output_type": "stream",
       "stream": "stdout",
       "text": [
        " 14 action: 0\n",
        "new pos: {'y': 0, 'x': 1} reward: 0\n",
        "values [0.012489300973968834, 0.071603194619921373, 0.055118310183424245, -0.0023629908903173898, 0.018538232956514383]\n",
        "[[-0.03348748  0.32745197 -0.29515722 -0.36085524  0.01398007]]"
       ]
      },
      {
       "output_type": "stream",
       "stream": "stdout",
       "text": [
        "\n",
        "iteration:"
       ]
      },
      {
       "output_type": "stream",
       "stream": "stdout",
       "text": [
        " 15 action: 0\n",
        "new pos: {'y': 0, 'x': 0} reward: 1.0\n",
        "values [0.012683789602751079, 0.07339030872803623, 0.055341917084975732, -0.0015862585222910005, 0.01889226995834312]\n",
        "[[-0.02678133  0.60698413 -0.26756323 -0.33081679  0.06657398]]"
       ]
      },
      {
       "output_type": "stream",
       "stream": "stdout",
       "text": [
        "\n",
        "[[-0.02678133  0.60698413 -0.26756323 -0.33081679  0.06657398]]"
       ]
      },
      {
       "output_type": "stream",
       "stream": "stdout",
       "text": [
        "\n",
        "iteration:"
       ]
      },
      {
       "output_type": "stream",
       "stream": "stdout",
       "text": [
        " 16 action: 1\n",
        "new pos: {'y': 0, 'x': 3} reward: 0\n",
        "values [0.018483779969976816, 0.12598654348262819, 0.078903020986232017, 0.012155141073317156, 0.033786659279715331]\n",
        "[[-0.03081079  0.59766622 -0.29723478 -0.33315803  0.0654482 ]]"
       ]
      },
      {
       "output_type": "stream",
       "stream": "stdout",
       "text": [
        "\n",
        "iteration:"
       ]
      },
      {
       "output_type": "stream",
       "stream": "stdout",
       "text": [
        " 17 action: 0\n",
        "new pos: {'y': 0, 'x': 2} reward: 0\n",
        "values [0.01886439293848988, 0.12625368781431509, 0.077796289140192612, 0.017510255145810179, 0.033947357634788261]\n",
        "[[-0.03208352  0.59695194 -0.29769886 -0.39674512  0.06303059]]"
       ]
      },
      {
       "output_type": "stream",
       "stream": "stdout",
       "text": [
        "\n",
        "iteration:"
       ]
      },
      {
       "output_type": "stream",
       "stream": "stdout",
       "text": [
        " 18 action: 0\n",
        "new pos: {'y': 0, 'x': 1} reward: 0\n",
        "values [0.018776413405332069, 0.12628129342166755, 0.079691337314778468, 0.018808813413618748, 0.034110764047379234]\n",
        "[[-0.03915992  0.59045857 -0.33486665 -0.40339271  0.06042614]]"
       ]
      },
      {
       "output_type": "stream",
       "stream": "stdout",
       "text": [
        "\n",
        "iteration:"
       ]
      },
      {
       "output_type": "stream",
       "stream": "stdout",
       "text": [
        " 19 action: 1\n",
        "new pos: {'y': 0, 'x': 2} reward: 0\n",
        "values [0.019438899455116839, 0.12736830460922591, 0.078176622122303058, 0.018280917125256188, 0.034234025435752817]\n",
        "[[-0.04770657  0.47188459 -0.33746166 -0.41364629  0.05665742]]"
       ]
      },
      {
       "output_type": "stream",
       "stream": "stdout",
       "text": [
        "\n",
        "iteration:"
       ]
      },
      {
       "output_type": "stream",
       "stream": "stdout",
       "text": [
        " 20 action: 0\n",
        "new pos: {'y': 0, 'x': 1} reward: 0\n",
        "values [0.021195400439370893, 0.12614386718784537, 0.089008417330612349, 0.01999502229521239, 0.036300653978285989]\n",
        "[[-0.0307036   0.47229368 -0.15495796 -0.40260688  0.06313463]]"
       ]
      },
      {
       "output_type": "stream",
       "stream": "stdout",
       "text": [
        "\n",
        "iteration:"
       ]
      },
      {
       "output_type": "stream",
       "stream": "stdout",
       "text": [
        " 21 action: 0\n",
        "new pos: {'y': 0, 'x': 0} reward: 1.0\n",
        "values [0.020968110345294947, 0.12466320808753623, 0.091907022229939975, 0.020367419679070742, 0.035907989047797163]\n",
        "[[-0.01778118  0.68346687 -0.13006497 -0.38239737  0.07520544]]"
       ]
      },
      {
       "output_type": "stream",
       "stream": "stdout",
       "text": [
        "\n",
        "[[-0.01778118  0.68346687 -0.13006497 -0.38239737  0.07520544]]"
       ]
      },
      {
       "output_type": "stream",
       "stream": "stdout",
       "text": [
        "\n",
        "iteration:"
       ]
      },
      {
       "output_type": "stream",
       "stream": "stdout",
       "text": [
        " 22 action: 0\n",
        "new pos: {'y': 0, 'x': 1} reward: 0\n",
        "values [0.032039801440450225, 0.16939592017808208, 0.12077760847409567, 0.031016927010729077, 0.040919960450600729]\n",
        "[[-0.01368439  0.6912045  -0.07534779 -0.38277514  0.07252591]]"
       ]
      },
      {
       "output_type": "stream",
       "stream": "stdout",
       "text": [
        "\n",
        "iteration:"
       ]
      },
      {
       "output_type": "stream",
       "stream": "stdout",
       "text": [
        " 23 action: 0\n",
        "new pos: {'y': 0, 'x': 0} reward: 1.0\n",
        "values [0.032898532467899678, 0.18358973809051352, 0.12172489481963111, 0.031590271402231467, 0.041586555375625382]\n",
        "[[ 0.0049802   1.03274023 -0.04891317 -0.36260642  0.06549589]]"
       ]
      },
      {
       "output_type": "stream",
       "stream": "stdout",
       "text": [
        "\n",
        "[[ 0.0049802   1.03274023 -0.04891317 -0.36260642  0.06549589]]"
       ]
      },
      {
       "output_type": "stream",
       "stream": "stdout",
       "text": [
        "\n",
        "iteration:"
       ]
      },
      {
       "output_type": "stream",
       "stream": "stdout",
       "text": [
        " 24 action: 0\n",
        "new pos: {'y': 0, 'x': 1} reward: 0\n",
        "values [0.035840109722723459, 0.23910782108630657, 0.1415083077132385, 0.037496243425135099, 0.047643208868201996]\n",
        "[[ 0.00749158  1.03467576 -0.04757    -0.35799962  0.0668227 ]]"
       ]
      },
      {
       "output_type": "stream",
       "stream": "stdout",
       "text": [
        "\n",
        "iteration:"
       ]
      },
      {
       "output_type": "stream",
       "stream": "stdout",
       "text": [
        " 25 action: 0\n",
        "new pos: {'y': 0, 'x': 0} reward: 1.0\n",
        "values [0.036790869251965556, 0.25433309187047531, 0.14669459462382822, 0.038907003300603919, 0.048801535378589736]\n",
        "[[ 0.01463081  1.3283301  -0.02445935 -0.34526521  0.08175005]]"
       ]
      },
      {
       "output_type": "stream",
       "stream": "stdout",
       "text": [
        "\n",
        "[[ 0.01463081  1.3283301  -0.02445935 -0.34526521  0.08175005]]"
       ]
      },
      {
       "output_type": "stream",
       "stream": "stdout",
       "text": [
        "\n",
        "iteration:"
       ]
      },
      {
       "output_type": "stream",
       "stream": "stdout",
       "text": [
        " 26 action: 0\n",
        "new pos: {'y': 0, 'x': 1} reward: 0\n",
        "values [0.045000043660584008, 0.3076639562971481, 0.17683930068771558, 0.04772610836171047, 0.051157177544782821]\n",
        "[[ 0.01825243  1.3247935  -0.08691707 -0.34637568  0.08107516]]"
       ]
      },
      {
       "output_type": "stream",
       "stream": "stdout",
       "text": [
        "\n",
        "iteration:"
       ]
      },
      {
       "output_type": "stream",
       "stream": "stdout",
       "text": [
        " 27 action: 0\n",
        "new pos: {'y': 0, 'x': 0} reward: 1.0\n",
        "values [0.045483049594181341, 0.32312161151325736, 0.17642038505486288, 0.048698184125484788, 0.052792946403873567]\n",
        "[[ 0.0278957   1.68944151 -0.08202005 -0.31370322  0.11056502]]"
       ]
      },
      {
       "output_type": "stream",
       "stream": "stdout",
       "text": [
        "\n",
        "[[ 0.0278957   1.68944151 -0.08202005 -0.31370322  0.11056502]]"
       ]
      },
      {
       "output_type": "stream",
       "stream": "stdout",
       "text": [
        "\n",
        "iteration:"
       ]
      },
      {
       "output_type": "stream",
       "stream": "stdout",
       "text": [
        " 28 action: 0\n",
        "new pos: {'y': 0, 'x': 1} reward: 0\n",
        "values [0.053087911653157946, 0.37616172178430884, 0.18495972863215102, 0.055213860751852813, 0.058494992082986155]\n",
        "[[ 0.01319735  1.67888381 -0.22027762 -0.30898417  0.10290026]]"
       ]
      },
      {
       "output_type": "stream",
       "stream": "stdout",
       "text": [
        "\n",
        "iteration:"
       ]
      },
      {
       "output_type": "stream",
       "stream": "stdout",
       "text": [
        " 29 action: 0\n",
        "new pos: {'y': 0, 'x': 0} reward: 1.0\n",
        "values [0.054639710339738405, 0.38931715522566235, 0.18773533029056377, 0.056026116905718779, 0.0593742728801036]\n",
        "[[ 0.06112288  2.06471366 -0.18607613 -0.27017176  0.15812521]]"
       ]
      },
      {
       "output_type": "stream",
       "stream": "stdout",
       "text": [
        "\n",
        "[[ 0.06112288  2.06471366 -0.18607613 -0.27017176  0.15812521]]"
       ]
      },
      {
       "output_type": "stream",
       "stream": "stdout",
       "text": [
        "\n",
        "iteration:"
       ]
      },
      {
       "output_type": "stream",
       "stream": "stdout",
       "text": [
        " 30 action: 0\n",
        "new pos: {'y': 0, 'x': 1} reward: 0\n",
        "values [0.073584848366868974, 0.44451107205508011, 0.23303924427861744, 0.068306799691226661, 0.068649524707383183]\n",
        "[[ 0.06065858  2.06337255 -0.25613119 -0.26943292  0.15382944]]"
       ]
      },
      {
       "output_type": "stream",
       "stream": "stdout",
       "text": [
        "\n",
        "iteration:"
       ]
      },
      {
       "output_type": "stream",
       "stream": "stdout",
       "text": [
        " 31 action: 0\n",
        "new pos: {'y': 0, 'x': 0} reward: 1.0\n",
        "values [0.073880559695978093, 0.45205552681477307, 0.23623372521603381, 0.068842507474154199, 0.069071823702706578]\n",
        "[[ 0.07686389  2.34198306 -0.22161017 -0.26402233  0.15600732]]"
       ]
      },
      {
       "output_type": "stream",
       "stream": "stdout",
       "text": [
        "\n",
        "[[ 0.07686389  2.34198306 -0.22161017 -0.26402233  0.15600732]]"
       ]
      },
      {
       "output_type": "stream",
       "stream": "stdout",
       "text": [
        "\n",
        "iteration:"
       ]
      },
      {
       "output_type": "stream",
       "stream": "stdout",
       "text": [
        " 32 action: 0\n",
        "new pos: {'y': 0, 'x': 1} reward: 0\n",
        "values [0.076807276214682571, 0.47883725775858332, 0.26908736251644977, 0.074373912588398275, 0.07353831222907696]\n",
        "[[ 0.05915246  2.33186739 -0.3234373  -0.26439566  0.13705743]]"
       ]
      },
      {
       "output_type": "stream",
       "stream": "stdout",
       "text": [
        "\n",
        "iteration:"
       ]
      },
      {
       "output_type": "stream",
       "stream": "stdout",
       "text": [
        " 33 action: 0\n",
        "new pos: {'y': 0, 'x': 0} reward: 1.0\n",
        "values"
       ]
      },
      {
       "output_type": "stream",
       "stream": "stdout",
       "text": [
        " [0.077485514770512021, 0.48602501975475215, 0.27141332926416462, 0.075079431830777477, 0.074876664252191222]\n",
        "[[ 0.11604995  2.70210819 -0.31030745 -0.24173822  0.14734121]]"
       ]
      },
      {
       "output_type": "stream",
       "stream": "stdout",
       "text": [
        "\n",
        "[[ 0.11604995  2.70210819 -0.31030745 -0.24173822  0.14734121]]"
       ]
      },
      {
       "output_type": "stream",
       "stream": "stdout",
       "text": [
        "\n",
        "iteration:"
       ]
      },
      {
       "output_type": "stream",
       "stream": "stdout",
       "text": [
        " 34 action: 1\n",
        "new pos: {'y': 0, 'x': 3} reward: 0\n",
        "values [0.094332434961947292, 0.54430758901757337, 0.30452325288064269, 0.082089745564733377, 0.07986196600967338]\n",
        "[[ 0.11717443  2.70957713 -0.28856539 -0.2489209   0.14350812]]"
       ]
      },
      {
       "output_type": "stream",
       "stream": "stdout",
       "text": [
        "\n",
        "iteration:"
       ]
      },
      {
       "output_type": "stream",
       "stream": "stdout",
       "text": [
        " 35 action: 0\n",
        "new pos: {'y': 0, 'x': 2} reward: 0\n",
        "values [0.09384583973880517, 0.54505047056491107, 0.30513176516891549, 0.082176613977759869, 0.080043053221414057]\n",
        "[[ 0.09328181  2.70212529 -0.30149948 -0.54089229  0.13111981]]"
       ]
      },
      {
       "output_type": "stream",
       "stream": "stdout",
       "text": [
        "\n",
        "iteration:"
       ]
      },
      {
       "output_type": "stream",
       "stream": "stdout",
       "text": [
        " 36 action: 0\n",
        "new pos: {'y': 0, 'x': 1} reward: 0\n",
        "values"
       ]
      },
      {
       "output_type": "stream",
       "stream": "stdout",
       "text": [
        " [0.094252249714193867, 0.54506252778841169, 0.32226437215911741, 0.081702948185667049, 0.080614305625984289]\n",
        "[[ 0.09701786  2.70147027 -0.15505332 -0.53940046  0.13744424]]"
       ]
      },
      {
       "output_type": "stream",
       "stream": "stdout",
       "text": [
        "\n",
        "iteration:"
       ]
      },
      {
       "output_type": "stream",
       "stream": "stdout",
       "text": [
        " 37 action: 0\n",
        "new pos: {'y': 0, 'x': 0} reward: 1.0\n",
        "values"
       ]
      },
      {
       "output_type": "stream",
       "stream": "stdout",
       "text": [
        " [0.09464863504767955, 0.55249757651037346, 0.32297678136285091, 0.081785584088339566, 0.079863962476456496]\n",
        "[[ 0.12455288  3.08420601 -0.10750998 -0.51830962  0.15261404]]"
       ]
      },
      {
       "output_type": "stream",
       "stream": "stdout",
       "text": [
        "\n",
        "[[ 0.12455288  3.08420601 -0.10750998 -0.51830962  0.15261404]]"
       ]
      },
      {
       "output_type": "stream",
       "stream": "stdout",
       "text": [
        "\n",
        "iteration:"
       ]
      },
      {
       "output_type": "stream",
       "stream": "stdout",
       "text": [
        " 38 action: 0\n",
        "new pos: {'y': 0, 'x': 1} reward: 0\n",
        "values"
       ]
      },
      {
       "output_type": "stream",
       "stream": "stdout",
       "text": [
        " [0.1025175925922225, 0.62295992634212471, 0.3839874916560192, 0.09359950429510705, 0.087179094527380638]\n",
        "[[ 0.1375463   3.07351069 -0.03328154 -0.51204681  0.16774552]]"
       ]
      },
      {
       "output_type": "stream",
       "stream": "stdout",
       "text": [
        "\n",
        "iteration:"
       ]
      },
      {
       "output_type": "stream",
       "stream": "stdout",
       "text": [
        " 39 action: 0\n",
        "new pos: {'y': 0, 'x': 0} reward: 1.0\n",
        "values [0.10401458442233709, 0.63927942660197723, 0.38832617905833616, 0.094891620792696127, 0.088498235718543511]\n",
        "[[ 0.14540065  3.42347595 -0.02177361 -0.44856339  0.17560541]]"
       ]
      },
      {
       "output_type": "stream",
       "stream": "stdout",
       "text": [
        "\n",
        "[[ 0.14540065  3.42347595 -0.02177361 -0.44856339  0.17560541]]"
       ]
      },
      {
       "output_type": "stream",
       "stream": "stdout",
       "text": [
        "\n",
        "iteration:"
       ]
      },
      {
       "output_type": "stream",
       "stream": "stdout",
       "text": [
        " 40 action: 0\n",
        "new pos: {'y': 0, 'x': 1} reward: 0\n",
        "values [0.11029676181507951, 0.69281862450691412, 0.40888462846640289, 0.11084908664993869, 0.098198447175886897]\n",
        "[[ 0.14583217  3.4233486   0.02998648 -0.4424285   0.1789872 ]]"
       ]
      },
      {
       "output_type": "stream",
       "stream": "stdout",
       "text": [
        "\n",
        "iteration:"
       ]
      },
      {
       "output_type": "stream",
       "stream": "stdout",
       "text": [
        " 41 action: 0\n",
        "new pos: {'y': 0, 'x': 0} reward: 1.0\n",
        "values [0.10996214637814034, 0.70796441529160536, 0.41150651438500646, 0.11199190329498152, 0.099381643644966502]\n",
        "[[ 0.15701259  3.8362477   0.03965791 -0.43215589  0.19497768]]"
       ]
      },
      {
       "output_type": "stream",
       "stream": "stdout",
       "text": [
        "\n",
        "[[ 0.15701259  3.8362477   0.03965791 -0.43215589  0.19497768]]"
       ]
      },
      {
       "output_type": "stream",
       "stream": "stdout",
       "text": [
        "\n",
        "iteration:"
       ]
      },
      {
       "output_type": "stream",
       "stream": "stdout",
       "text": [
        " 42 action: 0\n",
        "new pos: {'y': 0, 'x': 1} reward: 0\n",
        "values [0.1214504944287942, 0.8057971231617751, 0.46536318155855472, 0.12056051199028817, 0.11035942599913372]\n",
        "[[ 0.15401569  3.84402509  0.0695433  -0.44276387  0.20385551]]"
       ]
      },
      {
       "output_type": "stream",
       "stream": "stdout",
       "text": [
        "\n",
        "iteration:"
       ]
      },
      {
       "output_type": "stream",
       "stream": "stdout",
       "text": [
        " 43 action: 0\n",
        "new pos: {'y': 0, 'x': 0} reward: 1.0\n",
        "values [0.12368774587738834, 0.8313865361832441, 0.46650818047612086, 0.12305250186752394, 0.11096101019826676]\n",
        "[[ 0.16615973  4.28316183  0.09892494 -0.40926803  0.21205696]]"
       ]
      },
      {
       "output_type": "stream",
       "stream": "stdout",
       "text": [
        "\n",
        "[[ 0.16615973  4.28316183  0.09892494 -0.40926803  0.21205696]]"
       ]
      },
      {
       "output_type": "stream",
       "stream": "stdout",
       "text": [
        "\n",
        "iteration:"
       ]
      },
      {
       "output_type": "stream",
       "stream": "stdout",
       "text": [
        " 44 action: 0\n",
        "new pos: {'y': 0, 'x': 1} reward: 0\n",
        "values [0.14189498512682586, 0.91742555183964491, 0.51264774408661207, 0.12920198762956855, 0.12109091311912901]\n",
        "[[ 0.17643363  4.28573553  0.21654209 -0.4013952   0.21216806]]"
       ]
      },
      {
       "output_type": "stream",
       "stream": "stdout",
       "text": [
        "\n",
        "iteration:"
       ]
      },
      {
       "output_type": "stream",
       "stream": "stdout",
       "text": [
        " 45 action: 0\n",
        "new pos: {'y': 0, 'x': 0} reward: 1.0\n",
        "values [0.14190107145123104, 0.92691743301755769, 0.51708508228942907, 0.13001426951765285, 0.12194325588098569]\n",
        "[[ 0.24392407  4.51096747  0.22772512 -0.38509414  0.22541557]]"
       ]
      },
      {
       "output_type": "stream",
       "stream": "stdout",
       "text": [
        "\n",
        "[[ 0.24392407  4.51096747  0.22772512 -0.38509414  0.22541557]]"
       ]
      },
      {
       "output_type": "stream",
       "stream": "stdout",
       "text": [
        "\n",
        "iteration:"
       ]
      },
      {
       "output_type": "stream",
       "stream": "stdout",
       "text": [
        " 46 action: 0\n",
        "new pos: {'y': 0, 'x': 1} reward: 0\n",
        "values [0.16547434009560011, 0.97432969255206914, 0.55502979311053946, 0.15201573457297199, 0.12455114754158274]\n",
        "[[ 0.25101747  4.50183405  0.24659479 -0.38848246  0.22905694]]"
       ]
      },
      {
       "output_type": "stream",
       "stream": "stdout",
       "text": [
        "\n",
        "iteration:"
       ]
      },
      {
       "output_type": "stream",
       "stream": "stdout",
       "text": [
        " 47 action: 0\n",
        "new pos: {'y': 0, 'x': 0} reward: 1.0\n",
        "values [0.16683726001960647, 1.0137507184599583, 0.55554148508456436, 0.15305015050133014, 0.12808761543265568]\n",
        "[[ 0.29850792  4.82230813  0.27534083 -0.37073547  0.31760756]]"
       ]
      },
      {
       "output_type": "stream",
       "stream": "stdout",
       "text": [
        "\n",
        "[[ 0.29850792  4.82230813  0.27534083 -0.37073547  0.31760756]]"
       ]
      },
      {
       "output_type": "stream",
       "stream": "stdout",
       "text": [
        "\n",
        "iteration:"
       ]
      },
      {
       "output_type": "stream",
       "stream": "stdout",
       "text": [
        " 48 action: 0\n",
        "new pos: {'y': 0, 'x': 1} reward: 0\n",
        "values [0.18204409836637142, 1.1042466021537904, 0.57614824980951718, 0.15666965260910154, 0.14653701163696498]\n",
        "[[ 0.29378122  4.8257083   0.2424273  -0.38195722  0.30981745]]"
       ]
      },
      {
       "output_type": "stream",
       "stream": "stdout",
       "text": [
        "\n",
        "iteration:"
       ]
      },
      {
       "output_type": "stream",
       "stream": "stdout",
       "text": [
        " 49 action: 0\n",
        "new pos: {'y': 0, 'x': 0} reward: 1.0\n",
        "values [0.18395317483419402, 1.1368961310990628, 0.5775641570602269, 0.15882571648254637, 0.14877556627788596]\n",
        "[[ 0.32719718  4.90155274  0.25774802 -0.33829692  0.37059423]]"
       ]
      },
      {
       "output_type": "stream",
       "stream": "stdout",
       "text": [
        "\n",
        "[[ 0.32719718  4.90155274  0.25774802 -0.33829692  0.37059423]]"
       ]
      },
      {
       "output_type": "stream",
       "stream": "stdout",
       "text": [
        "\n",
        "iteration:"
       ]
      },
      {
       "output_type": "stream",
       "stream": "stdout",
       "text": [
        " 50 action: 0\n",
        "new pos: {'y': 0, 'x': 1} reward: 0\n",
        "values [0.18970952450858627, 1.2044269441477617, 0.60580972926383903, 0.17248372949411839, 0.17318713740847674]\n",
        "[[ 0.33331014  4.90038533  0.41668646 -0.32775343  0.38996681]]"
       ]
      },
      {
       "output_type": "stream",
       "stream": "stdout",
       "text": [
        "\n",
        "iteration:"
       ]
      },
      {
       "output_type": "stream",
       "stream": "stdout",
       "text": [
        " 51 action: 0\n",
        "new pos: {'y': 0, 'x': 0} reward: 1.0\n",
        "values [0.1920936605744972, 1.2406140134805967, 0.60665718887303866, 0.17547379610803882, 0.1736663103383822]\n",
        "[[ 0.35757152  4.90600461  0.42966009 -0.2489865   0.39296782]]"
       ]
      },
      {
       "output_type": "stream",
       "stream": "stdout",
       "text": [
        "\n",
        "[[ 0.35757152  4.90600461  0.42966009 -0.2489865   0.39296782]]"
       ]
      },
      {
       "output_type": "stream",
       "stream": "stdout",
       "text": [
        "\n",
        "iteration:"
       ]
      },
      {
       "output_type": "stream",
       "stream": "stdout",
       "text": [
        " 52 action: 0\n",
        "new pos: {'y': 0, 'x': 1} reward: 0\n",
        "values"
       ]
      },
      {
       "output_type": "stream",
       "stream": "stdout",
       "text": [
        " [0.1967165862253582, 1.2930559977816483, 0.64212707911716493, 0.19258706408893267, 0.1879759792329225]\n",
        "[[ 0.35587794  4.89956219  0.43623917 -0.23683844  0.40401685]]"
       ]
      },
      {
       "output_type": "stream",
       "stream": "stdout",
       "text": [
        "\n",
        "iteration:"
       ]
      },
      {
       "output_type": "stream",
       "stream": "stdout",
       "text": [
        " 53 action: 0\n",
        "new pos: {'y': 0, 'x': 0} reward: 1.0\n",
        "values [0.19884347088962692, 1.3195675768985624, 0.64344923687865763, 0.19483613778100436, 0.18953065144424538]\n",
        "[[ 0.42879565  4.91055728  0.46277227 -0.17245997  0.44276177]]"
       ]
      },
      {
       "output_type": "stream",
       "stream": "stdout",
       "text": [
        "\n",
        "[[ 0.42879565  4.91055728  0.46277227 -0.17245997  0.44276177]]"
       ]
      },
      {
       "output_type": "stream",
       "stream": "stdout",
       "text": [
        "\n",
        "iteration:"
       ]
      },
      {
       "output_type": "stream",
       "stream": "stdout",
       "text": [
        " 54 action: 0\n",
        "new pos: {'y': 0, 'x': 1} reward: 0\n",
        "values [0.22814742701083351, 1.4120651346998525, 0.67841630303491396, 0.21873364722626515, 0.20867442245758203]\n",
        "[[ 0.44882477  4.90220181  0.54738982 -0.17308154  0.44611177]]"
       ]
      },
      {
       "output_type": "stream",
       "stream": "stdout",
       "text": [
        "\n",
        "iteration:"
       ]
      },
      {
       "output_type": "stream",
       "stream": "stdout",
       "text": [
        " 55 action: 0\n",
        "new pos: {'y': 0, 'x': 0} reward: 1.0\n",
        "values [0.22960074453230436, 1.4318149026034812, 0.67890088687670036, 0.21969727488315552, 0.20892147167173347]\n",
        "[[ 0.48939674  4.91129703  0.55017125 -0.16237158  0.45166522]]"
       ]
      },
      {
       "output_type": "stream",
       "stream": "stdout",
       "text": [
        "\n",
        "[[ 0.48939674  4.91129703  0.55017125 -0.16237158  0.45166522]]"
       ]
      },
      {
       "output_type": "stream",
       "stream": "stdout",
       "text": [
        "\n",
        "iteration:"
       ]
      },
      {
       "output_type": "stream",
       "stream": "stdout",
       "text": [
        " 56 action: 0\n",
        "new pos: {'y': 0, 'x': 1} reward: 0\n",
        "values [0.24322564319583173, 1.5546658874690411, 0.73661542420195791, 0.2262051373632796, 0.21587757368509411]\n",
        "[[ 0.49151912  4.91263656  0.73862292 -0.15840992  0.44827192]]"
       ]
      }
     ],
     "prompt_number": "*"
    },
    {
     "cell_type": "code",
     "collapsed": false,
     "input": [],
     "language": "python",
     "metadata": {},
     "outputs": [],
     "prompt_number": "*"
    },
    {
     "cell_type": "code",
     "collapsed": false,
     "input": [],
     "language": "python",
     "metadata": {},
     "outputs": [],
     "prompt_number": "*"
    }
   ],
   "metadata": {}
  }
 ]
}