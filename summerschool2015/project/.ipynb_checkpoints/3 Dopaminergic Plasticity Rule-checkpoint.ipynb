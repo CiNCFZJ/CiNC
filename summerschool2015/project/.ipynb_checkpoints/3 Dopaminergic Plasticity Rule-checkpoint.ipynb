{
 "metadata": {
  "name": ""
 },
 "nbformat": 3,
 "nbformat_minor": 0,
 "worksheets": [
  {
   "cells": [
    {
     "cell_type": "heading",
     "level": 1,
     "metadata": {},
     "source": [
      "Dopaminergic Plasticity Rule"
     ]
    },
    {
     "cell_type": "heading",
     "level": 2,
     "metadata": {},
     "source": [
      "In this notebook we will show a local learning rule for dopaminergic plasticity which allows the neural network to learn tasks in a behavioral testing environment."
     ]
    },
    {
     "cell_type": "raw",
     "metadata": {},
     "source": [
      "The learning rule consists of a hebbian part, and a dopaminergic part. It consists of the following parts\n",
      "dw/dt - the change of synaptic strength over time\n",
      "A - the learning factor\n",
      "K_plus - the presynaptic activity trace\n",
      "K_minus - the postsynaptic activity trace\n",
      "c - the presynaptic eligability trace\n",
      "D - the dopaminergic activity trace\n",
      "Db - the dopaminergic baseline"
     ]
    },
    {
     "cell_type": "markdown",
     "metadata": {},
     "source": [
      "$$\\frac{dw}{dt}   = A  K_{plus}(t) c(t) K_{minus}(t)  (D(t) - Db )$$\n",
      "\n",
      "$$\\frac{dc}{dt}   = -(c(t) - 1)  / \\tau_c $$\n",
      "\n",
      "$$\\frac{dK_{plus}}{dt}  = -K_{plus}(t) / \\tau_{plus}$$  \n",
      "\n",
      "$$\\frac{dK_{post}}{dt}  = -K_{minus}(t) / \\tau_{minus}$$\n",
      "\n",
      "$$\\frac{dD}{dt}   = -D(t)  / \\tau_{dopa}$$\n"
     ]
    },
    {
     "cell_type": "code",
     "collapsed": false,
     "input": [
      "from matplotlib import pyplot as plt\n",
      "import numpy as np\n",
      "\n",
      "tau_c = 50.0\n",
      "tau_dopa = 20.0\n",
      "tau_plus = 20.0\n",
      "tau_minus = 20.0\n",
      "\n",
      "Db = 2.\n",
      "\n",
      "\n",
      "presyn_spikes = [1., 5., 7., 11., 13.]\n",
      "postsyn_spikes = [1., 5., 7., 11., 13.]\n",
      "#postsyn_spikes = [7., 15., 26., 32.]\n",
      "dopa_spikes_LTP = [3., 5., 10., 13., 17., 20., 25., 30., 36., 40., 46., 53., 74., 81., 97.]\n",
      "dopa_spikes_LTD = [3., 13.,  53., 74., 81., 97.]\n",
      "times = np.arange(0., 100.)\n",
      "\n",
      "K_minus = [0.]\n",
      "for t in range(len(times)-1):\n",
      "    if t in postsyn_spikes:\n",
      "        K_minus.append(K_minus[-1] + 1.)\n",
      "    else:\n",
      "        K_minus.append(K_minus[-1])\n",
      "    K_minus[-1] += -K_minus[-1]/tau_minus\n",
      "    \n",
      "c = [1.]\n",
      "for t in range(len(times)-1):\n",
      "    if t in presyn_spikes:\n",
      "        c.append(0.)\n",
      "    else:\n",
      "        c.append(c[-1])\n",
      "    c[-1] += -(c[-1] - 1) / tau_c  \n",
      "\n",
      "\n",
      "K_plus = [0.]\n",
      "for t in range(len(times)-1):\n",
      "    if t in presyn_spikes:\n",
      "        K_plus.append(K_plus[-1] + 1.)\n",
      "    else:\n",
      "        K_plus.append(K_plus[-1])\n",
      "    K_plus[-1] += -K_plus[-1]/tau_plus\n",
      "    \n",
      "D = [Db]\n",
      "for t in range(len(times)-1):\n",
      "    if t in dopa_spikes_LTD:\n",
      "        D.append(D[-1] + 1.)\n",
      "    else:\n",
      "        D.append(D[-1])\n",
      "    D[-1] += -D[-1]/tau_dopa\n",
      "\n",
      "K_plus_c =  np.array(K_plus) * np.array(c) \n",
      "K_plus_minus_c = np.array(K_plus) * np.array(K_minus)  * np.array(c)  \n",
      "K_plus_minus_c_d = np.array(K_plus) * np.array(K_minus)  * np.array(c) * (np.array(D) - Db)  \n",
      "\n",
      "plt.figure(1)\n",
      "ax = plt.subplot(1,1,1)\n",
      "ax.plot(times, K_plus, label=\"presynaptic activity (K_plus)\")\n",
      "ax.plot(times, c, label=\"eligability (c)\")\n",
      "ax.plot(times, K_plus_c, label=\"K_plus * c\")\n",
      "ax.legend()\n",
      "\n",
      "plt.figure(2)\n",
      "ax = plt.subplot(1,1,1)\n",
      "ax.plot(times, K_minus, label=\"postsynaptic activity (K_minus)\")\n",
      "ax.plot(times, K_plus_c, label=\"K_plus * c\")\n",
      "ax.plot(times, K_plus_minus_c, label=\"K_plus * c * K_minus\")\n",
      "ax.legend()\n",
      "\n",
      "plt.figure(3)\n",
      "ax = plt.subplot(1,1,1)\n",
      "ax.plot(times, D, label=\"dopaminergic activity\")\n",
      "ax.plot(times, K_plus_minus_c, label=\"K_plus * c * K_minus\")\n",
      "ax.plot(times, K_plus_minus_c_d, label=\"K_plus * c * K_minus * (dopa - Db)\")\n",
      "ax.legend()\n",
      "\n",
      "plt.show()\n",
      "\n",
      "\n",
      "\n"
     ],
     "language": "python",
     "metadata": {},
     "outputs": [],
     "prompt_number": 1
    },
    {
     "cell_type": "code",
     "collapsed": false,
     "input": [],
     "language": "python",
     "metadata": {},
     "outputs": [],
     "prompt_number": 14
    },
    {
     "cell_type": "code",
     "collapsed": false,
     "input": [],
     "language": "python",
     "metadata": {},
     "outputs": [],
     "prompt_number": 1
    }
   ],
   "metadata": {}
  }
 ]
}