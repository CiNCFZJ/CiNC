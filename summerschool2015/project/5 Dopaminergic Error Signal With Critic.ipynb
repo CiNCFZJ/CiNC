{
 "metadata": {
  "name": ""
 },
 "nbformat": 3,
 "nbformat_minor": 0,
 "worksheets": [
  {
   "cells": [
    {
     "cell_type": "heading",
     "level": 1,
     "metadata": {},
     "source": [
      "Dopaminergic Error Signal"
     ]
    },
    {
     "cell_type": "heading",
     "level": 2,
     "metadata": {},
     "source": [
      "In this notebook, we will introduce a more plausible way to calculate the prediction error signal for reinforcement learning."
     ]
    },
    {
     "cell_type": "raw",
     "metadata": {},
     "source": [
      "We start with the same implementation as before but without calculating the values (and weights from states to actions) explicitly."
     ]
    },
    {
     "cell_type": "code",
     "collapsed": false,
     "input": [
      "import nest\n",
      "import nest.raster_plot as rplt\n",
      "import numpy as np\n",
      "import matplotlib.pyplot as plt\n",
      "import environment as env\n",
      "from mpl_toolkits.mplot3d import Axes3D\n",
      "\n",
      "env.set_environment(1)\n",
      "\n",
      "NUM_ITERATIONS = 300\n",
      "NUM_STATE_NEURONS = 20\n",
      "NUM_WTA_NEURONS = 50\n",
      "WEIGHT_SCALING = 100 / NUM_STATE_NEURONS\n",
      "\n",
      "nest.ResetKernel()\n",
      "nest.set_verbosity(\"M_DEBUG\")\n",
      "\n",
      "rank = nest.Rank()\n",
      "size = nest.NumProcesses() \n",
      "seed = np.random.randint(0, 1000000)\n",
      "num_threads = 1\n",
      "nest.SetKernelStatus({\"local_num_threads\": num_threads})\n",
      "nest.SetKernelStatus({\"rng_seeds\": range(seed+num_threads * size + 1, seed + 2 * (num_threads * size) + 1),\n",
      "        \t\t      \"grng_seed\": seed+size+num_threads,\n",
      "                      \"resolution\": 0.1})\n",
      "tau_pre = 20.\n",
      "nest.SetDefaults(\"iaf_psc_alpha\", {\"tau_minus\": tau_pre})\n",
      "\n",
      "# Create states\n",
      "world_dim = env.get_world_dimensions()\n",
      "states = []\n",
      "for i in range(world_dim['x']):\n",
      "    states.append([])\n",
      "    for j in range(world_dim['y']):\n",
      "        states[i].append(nest.Create('iaf_psc_alpha', NUM_STATE_NEURONS))\n",
      "all_states = np.ravel(states).tolist()\n",
      "\n",
      "# Create actions\n",
      "num_actions = env.get_num_possible_actions()\n",
      "actions = []\n",
      "for i in range(num_actions):\n",
      "    actions.append(nest.Create('iaf_psc_alpha', NUM_WTA_NEURONS))\n",
      "all_actions = np.ravel(actions).tolist()\n",
      "\n",
      "# Create WTA circuit\n",
      "wta_ex_weights = 10.5\n",
      "wta_inh_weights = -2.6\n",
      "wta_ex_inh_weights = 2.8\n",
      "wta_noise_weights = 2.1\n",
      "\n",
      "wta_inh_neurons = nest.Create('iaf_psc_alpha', NUM_WTA_NEURONS)\n",
      "\n",
      "for i in range(len(actions)):\n",
      "    nest.Connect(actions[i], actions[i], 'all_to_all', {'weight': wta_ex_weights})\n",
      "    nest.Connect(actions[i], wta_inh_neurons, 'all_to_all', {'weight': wta_ex_inh_weights}) \n",
      "\n",
      "nest.Connect(wta_inh_neurons, all_actions, 'all_to_all', {'weight': wta_inh_weights})\n",
      "\n",
      "wta_noise = nest.Create('poisson_generator', 10, {'rate': 3000.})\n",
      "nest.Connect(wta_noise, all_actions, 'all_to_all', {'weight': wta_noise_weights})\n",
      "nest.Connect(wta_noise, wta_inh_neurons, 'all_to_all', {'weight': wta_noise_weights * 0.9})\n",
      "\n",
      "\n",
      "# Create stimulus\n",
      "stimulus = nest.Create('poisson_generator', 1, {'rate': 5000.})\n",
      "nest.Connect(stimulus, all_states, 'all_to_all', {'weight': 0.})\n",
      "\n"
     ],
     "language": "python",
     "metadata": {},
     "outputs": [],
     "prompt_number": 1
    },
    {
     "cell_type": "raw",
     "metadata": {},
     "source": [
      "Here, we are implementing the dopaminergic nueron pool, volume transmitter and dopamin-modulated synapse between states and actions"
     ]
    },
    {
     "cell_type": "code",
     "collapsed": false,
     "input": [
      "# Create DA pool\n",
      "DA_neurons = nest.Create('iaf_psc_alpha', 100)\n",
      "vol_trans = nest.Create('volume_transmitter', 1, {'deliver_interval': 10})\n",
      "nest.Connect(DA_neurons, vol_trans, 'all_to_all')\n",
      "\n",
      "# Create reward stimulus\n",
      "reward_stimulus = nest.Create('poisson_generator', 1, {'rate': 5000.})\n",
      "nest.Connect(reward_stimulus, DA_neurons, 'all_to_all', {'weight': 0.})\n",
      "\n",
      "tau_c = 50.0\n",
      "tau_n = 20.0\n",
      "tau_post = 20.\n",
      "\n",
      "# Connect states to actions\n",
      "nest.CopyModel('neuromod_dopa_synapse', 'dopa_synapse', {'vt': vol_trans[0], 'A_LTP': 40., 'A_LTD': 50., \"tau_plus\": tau_post,\n",
      "                                                         'Wmin': -10., 'Wmax': 10., 'b': 1., 'tau_n': tau_n, 'tau_c': tau_c})\n",
      "        \n",
      "nest.Connect(all_states, all_actions, 'all_to_all', {'model': 'dopa_synapse', 'weight': 0.0})\n",
      "\n",
      "# TODO experimental: project from state to DA via critic \n",
      "nest.CopyModel('neuromod_dopa_synapse', 'dopa_synapse_critic', {'vt': vol_trans[0], 'A_LTP': 40., 'A_LTD': 50., \"tau_plus\": tau_post,\n",
      "                                                                'Wmin': -10., 'Wmax': 10., 'b': 1., 'tau_n': tau_n, 'tau_c': tau_c})\n",
      "critic = nest.Create('iaf_psc_alpha', 50)\n",
      "nest.Connect(all_states, critic, 'all_to_all', {'model': 'dopa_synapse_critic', 'weight': 0.0})\n",
      "nest.Connect(critic, DA_neurons, 'all_to_all', {'weight': -5., 'delay': 50.})\n",
      "nest.Connect(critic, DA_neurons, 'all_to_all', {'weight': 5., 'delay': 1.})\n",
      "\n",
      "critic_noise = nest.Create('poisson_generator', 1, {'rate': 65500.})\n",
      "nest.Connect(critic_noise, critic)"
     ],
     "language": "python",
     "metadata": {},
     "outputs": [],
     "prompt_number": 2
    },
    {
     "cell_type": "code",
     "collapsed": false,
     "input": [
      "# Create spike detector\n",
      "sd_wta = nest.Create('spike_detector')\n",
      "nest.Connect(all_actions, sd_wta)\n",
      "nest.Connect(wta_inh_neurons, sd_wta)\n",
      "sd_actions = nest.Create('spike_detector', num_actions)\n",
      "for i in range(len(actions)):\n",
      "    nest.Connect(actions[i], [sd_actions[i]])\n",
      "sd_states = nest.Create('spike_detector')\n",
      "nest.Connect(all_states, sd_states)\n",
      "sd_DA = nest.Create('spike_detector', 1)\n",
      "nest.Connect(DA_neurons, sd_DA, 'all_to_all')\n",
      "sd_critic = nest.Create('spike_detector', 1)\n",
      "nest.Connect(critic, sd_critic, 'all_to_all')\n",
      "\n",
      "\n",
      "# Create noise\n",
      "noise = nest.Create('poisson_generator', 1, {'rate': 65000.})\n",
      "nest.Connect(noise, all_states, 'all_to_all', {'weight': 1.})\n",
      "nest.Connect(noise, DA_neurons, 'all_to_all', {'weight': 1.0367})\n"
     ],
     "language": "python",
     "metadata": {},
     "outputs": [],
     "prompt_number": 3
    },
    {
     "cell_type": "code",
     "collapsed": false,
     "input": [
      "def plot_values(fig, ax, position):\n",
      "    plt.cla()\n",
      "    \n",
      "    values_plot = []      \n",
      "    \n",
      "    for i in range(world_dim['y']):\n",
      "        values_plot.append([])\n",
      "        for j in range(world_dim['x']):\n",
      "            values_plot[i].append(np.mean([np.mean(nest.GetStatus(nest.GetConnections(states[j][i], actions[a]), 'weight')) for a in range(len(actions))]))\n",
      "            if len(actions) == 4:\n",
      "                q_north = np.mean(nest.GetStatus(nest.GetConnections(states[j][i], actions[0]), 'weight'))\n",
      "                q_east = np.mean(nest.GetStatus(nest.GetConnections(states[j][i], actions[1]), 'weight'))\n",
      "                q_south = np.mean(nest.GetStatus(nest.GetConnections(states[j][i], actions[2]), 'weight'))\n",
      "                q_west = np.mean(nest.GetStatus(nest.GetConnections(states[j][i], actions[3]), 'weight'))\n",
      "                ax.arrow(j, i, (q_east-q_west)/10., (q_south-q_north)/10., head_width=0.05, head_length=0.1, fc='k', ec='k')\n",
      "            else:\n",
      "                q_east = np.mean(nest.GetStatus(nest.GetConnections(states[j][i], actions[0]), 'weight'))\n",
      "                q_west = np.mean(nest.GetStatus(nest.GetConnections(states[j][i], actions[1]), 'weight'))\n",
      "                ax.arrow(j, i, (q_west-q_east)/10., 0., head_width=0.05, head_length=0.1, fc='k', ec='k')\n",
      "\n",
      "    \n",
      "    values_plot = np.array(values_plot)\n",
      "    print values_plot\n",
      "    \n",
      "    plt.imshow(values_plot, interpolation='none', vmax=1 * WEIGHT_SCALING, vmin=-1 * WEIGHT_SCALING)\n",
      "    \n",
      "    xlabels = np.arange(0, len(states))\n",
      "    ylabels = np.arange(0, len(states[0]))\n",
      "\n",
      "    # Set the major ticks at the centers and minor tick at the edges\n",
      "    xlocs = np.arange(len(xlabels))\n",
      "    ylocs = np.arange(len(ylabels))\n",
      "    ax.xaxis.set_ticks(xlocs + 0.5, minor=True)\n",
      "    ax.xaxis.set(ticks=xlocs, ticklabels=xlabels)\n",
      "    ax.yaxis.set_ticks(ylocs + 0.5, minor=True)\n",
      "    ax.yaxis.set(ticks=ylocs, ticklabels=ylabels)\n",
      "    \n",
      "    # Turn on the grid for the minor ticks\n",
      "    ax.grid(True, which='minor', linestyle='-', linewidth=2)   \n",
      "    \n",
      "    for txt in ax.texts:\n",
      "        txt.set_visible(False)\n",
      "        \n",
      "    ax.annotate(\".\", ((position['x'] + 0.5)/len(states), (1-(position['y'] + 0.5)/len(states[0]))), size=160, textcoords='axes fraction', color='white')\n",
      "    plt.draw()\n",
      "    \n",
      "    "
     ],
     "language": "python",
     "metadata": {},
     "outputs": [],
     "prompt_number": 4
    },
    {
     "cell_type": "code",
     "collapsed": false,
     "input": [
      "\n",
      "# Main loop\n",
      "actions_executed = 0\n",
      "last_action_time = 0\n",
      "in_end_position = False\n",
      "\n",
      "# interactive plotting\n",
      "fig, ax = plt.subplots()\n",
      "plt.ion()\n",
      "    \n",
      "while actions_executed < NUM_ITERATIONS:\n",
      "    position = env.get_agent_pos().copy()\n",
      "\n",
      "    # plotting\n",
      "    plot_values(fig, ax, position)\n",
      "    \n",
      "    if not in_end_position:\n",
      "        nest.SetStatus(nest.GetConnections(stimulus, states[position['x']][position['y']]), {'weight': 1.})\n",
      "        \n",
      "        nest.SetStatus(wta_noise, {'rate': 3000.})\n",
      "\n",
      "        nest.Simulate(400)\n",
      "        max_rate = -1\n",
      "        chosen_action = -1\n",
      "        for i in range(len(sd_actions)):\n",
      "            rate = len([e for e in nest.GetStatus([sd_actions[i]], keys='events')[0]['times'] if e > last_action_time]) # calc the \"firerate\" of each actor population\n",
      "            if rate > max_rate:\n",
      "                max_rate = rate # the population with the hightes rate wins\n",
      "                chosen_action = i\n",
      "        possible_actions = env.get_possible_actions() \n",
      "\n",
      "        new_position, outcome, in_end_position = env.move(possible_actions[chosen_action])\n",
      "\n",
      "        print \"iteration:\", actions_executed, \"action:\", chosen_action \n",
      "        print \"new pos:\", new_position, \"reward:\", outcome\n",
      "        \n",
      "        values = []\n",
      "        for s in states:\n",
      "            for ss in s:\n",
      "                values.append(np.mean(nest.GetStatus(nest.GetConnections(ss, critic), 'weight')))\n",
      "\n",
      "        print \"values\", values\n",
      "        \n",
      "        # stimulate new state\n",
      "        nest.SetStatus(nest.GetConnections(stimulus, states[position['x']][position['y']]), {'weight': 0.})\n",
      "\n",
      "         \n",
      "        # apply reward\n",
      "        nest.SetStatus(nest.GetConnections(reward_stimulus, DA_neurons), {'weight': float(outcome)* WEIGHT_SCALING})\n",
      "        nest.SetStatus(wta_noise, {'rate': 0.})\n",
      "        \n",
      "        # refactory time\n",
      "        nest.Simulate(100.)\n",
      " \n",
      "        nest.SetStatus(nest.GetConnections(stimulus, states[new_position['x']][new_position['y']]), {'weight': 1.})\n",
      "        nest.SetStatus(nest.GetConnections(reward_stimulus, DA_neurons), {'weight': 0.0})\n",
      "              \n",
      "        last_action_time += 500\n",
      "        actions_executed += 1\n",
      "    else:      \n",
      "        _, in_end_position = env.init_new_trial()\n",
      "        nest.SetStatus(nest.GetConnections(stimulus, states[position['x']][position['y']]), {'weight': 0.})\n",
      "\n",
      "\n",
      "rplt.from_device(sd_wta, title=\"WTA circuit\")\n",
      "rplt.from_device(sd_states, title=\"States\")\n",
      "rplt.from_device(sd_DA, title=\"DA pool\")\n",
      "rplt.from_device(sd_critic, title=\"Critic\")\n",
      "rplt.show()\n",
      "    "
     ],
     "language": "python",
     "metadata": {},
     "outputs": [
      {
       "output_type": "stream",
       "stream": "stdout",
       "text": [
        "/usr/lib/pymodules/python2.7/matplotlib/patches.py:1054: RuntimeWarning: invalid value encountered in double_scalars\n",
        "/usr/lib/pymodules/python2.7/matplotlib/patches.py:1055: RuntimeWarning: invalid value encountered in double_scalars\n",
        "[[ 0.  0.  0.  0.  0.]]"
       ]
      },
      {
       "output_type": "stream",
       "stream": "stdout",
       "text": [
        "\n",
        "iteration:"
       ]
      },
      {
       "output_type": "stream",
       "stream": "stdout",
       "text": [
        " 0 action: 1\n",
        "new pos: {'y': 0, 'x': 3} reward: 0\n",
        "values [-3.3493934461347331e-05, 0.0003838112925464433, 0.0035622331266671942, -0.00014456637547424878, 0.00033796067062346653]\n",
        "[[-0.02106949 -0.00342561 -0.16936057 -0.01147452 -0.00128729]]"
       ]
      },
      {
       "output_type": "stream",
       "stream": "stdout",
       "text": [
        "\n",
        "iteration:"
       ]
      },
      {
       "output_type": "stream",
       "stream": "stdout",
       "text": [
        " 1 action: 1\n",
        "new pos: {'y': 0, 'x': 4} reward: -1.0\n",
        "values [0.00058142669598932229, 0.0010357043886680853, 0.004962777401893965, 0.023668015216768052, 0.0021267795060029098]\n",
        "[[ -2.19991814e-02  -8.04763512e-03  -1.71996807e-01   1.06391056e-02\n",
        "    7.06591857e-06]]"
       ]
      },
      {
       "output_type": "stream",
       "stream": "stdout",
       "text": [
        "\n",
        "[[ -2.19991814e-02  -8.04763512e-03  -1.71996807e-01   1.06391056e-02\n",
        "    7.06591857e-06]]"
       ]
      },
      {
       "output_type": "stream",
       "stream": "stdout",
       "text": [
        "\n",
        "iteration:"
       ]
      },
      {
       "output_type": "stream",
       "stream": "stdout",
       "text": [
        " 2 action: 0\n",
        "new pos: {'y': 0, 'x': 1} reward: 0\n",
        "values"
       ]
      },
      {
       "output_type": "stream",
       "stream": "stdout",
       "text": [
        " [0.00087910264999730716, 0.00071000678614019429, 0.010161326377212832, 0.011709266482152925, 4.9013670239557729e-05]\n",
        "[[-0.02275874 -0.02077675 -0.18652593  0.00738335 -0.00778767]]"
       ]
      },
      {
       "output_type": "stream",
       "stream": "stdout",
       "text": [
        "\n",
        "iteration:"
       ]
      },
      {
       "output_type": "stream",
       "stream": "stdout",
       "text": [
        " 3 action: 0\n",
        "new pos: {'y': 0, 'x': 0} reward: 1.0\n",
        "values"
       ]
      },
      {
       "output_type": "stream",
       "stream": "stdout",
       "text": [
        " [0.0013823117896104274, 0.0059365340740658501, 0.0095953203259038101, 0.011792892572193941, 9.3851024116863149e-05]\n",
        "[[-0.01427304  0.283068   -0.18465339  0.01211529 -0.01035095]]"
       ]
      },
      {
       "output_type": "stream",
       "stream": "stdout",
       "text": [
        "\n",
        "[[-0.01427304  0.283068   -0.18465339  0.01211529 -0.01035095]]"
       ]
      },
      {
       "output_type": "stream",
       "stream": "stdout",
       "text": [
        "\n",
        "iteration:"
       ]
      },
      {
       "output_type": "stream",
       "stream": "stdout",
       "text": [
        " 4 action: 0\n",
        "new pos: {'y': 0, 'x': 1} reward: 0\n",
        "values [0.0039552324835155925, 0.018438264352302385, 0.015782123944468651, 0.014958397412298973, 0.0012347871475572678]\n",
        "[[-0.02207741  0.27824295 -0.24958901  0.00377207 -0.018674  ]]"
       ]
      },
      {
       "output_type": "stream",
       "stream": "stdout",
       "text": [
        "\n",
        "iteration:"
       ]
      },
      {
       "output_type": "stream",
       "stream": "stdout",
       "text": [
        " 5 action: 0\n",
        "new pos: {'y': 0, 'x': 0} reward: 1.0\n",
        "values"
       ]
      },
      {
       "output_type": "stream",
       "stream": "stdout",
       "text": [
        " [0.0043346523160988013, 0.024091314998485328, 0.01628296440118801, 0.01525245704368996, 0.0017537310958780819]\n",
        "[[ 0.0021348   0.60878657 -0.24406697  0.0081029  -0.01824295]]"
       ]
      },
      {
       "output_type": "stream",
       "stream": "stdout",
       "text": [
        "\n",
        "[[ 0.0021348   0.60878657 -0.24406697  0.0081029  -0.01824295]]"
       ]
      },
      {
       "output_type": "stream",
       "stream": "stdout",
       "text": [
        "\n",
        "iteration:"
       ]
      },
      {
       "output_type": "stream",
       "stream": "stdout",
       "text": [
        " 6 action: 0\n",
        "new pos: {'y': 0, 'x': 1} reward: 0\n",
        "values [0.0079365487851375434, 0.077774210766914598, 0.039183940538814729, 0.016186296325034325, 0.0027465494164626877]\n",
        "[[ 0.00457221  0.61046455 -0.22951946  0.00822139 -0.01507335]]"
       ]
      },
      {
       "output_type": "stream",
       "stream": "stdout",
       "text": [
        "\n",
        "iteration:"
       ]
      },
      {
       "output_type": "stream",
       "stream": "stdout",
       "text": [
        " 7 action: 0\n",
        "new pos: {'y': 0, 'x': 0} reward: 1.0\n",
        "values [0.0083435860260109452, 0.077411455729954712, 0.049595044505989741, 0.016023984612903105, 0.0032175715585791909]\n",
        "[[ 0.02202615  0.87005311 -0.20927808  0.04365329  0.00105006]]"
       ]
      },
      {
       "output_type": "stream",
       "stream": "stdout",
       "text": [
        "\n",
        "[[ 0.02202615  0.87005311 -0.20927808  0.04365329  0.00105006]]"
       ]
      },
      {
       "output_type": "stream",
       "stream": "stdout",
       "text": [
        "\n",
        "iteration:"
       ]
      },
      {
       "output_type": "stream",
       "stream": "stdout",
       "text": [
        " 8 action: 0\n",
        "new pos: {'y': 0, 'x': 1} reward: 0\n",
        "values [0.019445006011903809, 0.15674964803416055, 0.080641991475836852, 0.029209088366619951, 0.01111384990523865]\n",
        "[[  1.85793437e-02   8.65999224e-01  -2.53252511e-01   3.76317749e-02\n",
        "   -7.29701618e-04]]"
       ]
      },
      {
       "output_type": "stream",
       "stream": "stdout",
       "text": [
        "\n",
        "iteration:"
       ]
      },
      {
       "output_type": "stream",
       "stream": "stdout",
       "text": [
        " 9 action: 0\n",
        "new pos: {'y': 0, 'x': 0} reward: 1.0\n",
        "values [0.019625962168389539, 0.15914071031101357, 0.080453380285244, 0.029495593507317279, 0.011624290494488394]\n",
        "[[ 0.06239394  1.02768611 -0.23937029  0.05449981  0.02010028]]"
       ]
      },
      {
       "output_type": "stream",
       "stream": "stdout",
       "text": [
        "\n",
        "[[ 0.06239394  1.02768611 -0.23937029  0.05449981  0.02010028]]"
       ]
      },
      {
       "output_type": "stream",
       "stream": "stdout",
       "text": [
        "\n",
        "iteration:"
       ]
      },
      {
       "output_type": "stream",
       "stream": "stdout",
       "text": [
        " 10 action: 1\n",
        "new pos: {'y': 0, 'x': 3} reward: 0\n",
        "values [0.04279245864369606, 0.21599163787271652, 0.11607923441039615, 0.03478788183507163, 0.018746264053538932]\n",
        "[[ 0.05026749  1.03364255 -0.25760341  0.0588672   0.01016713]]"
       ]
      },
      {
       "output_type": "stream",
       "stream": "stdout",
       "text": [
        "\n",
        "iteration:"
       ]
      },
      {
       "output_type": "stream",
       "stream": "stdout",
       "text": [
        " 11 action: 0\n",
        "new pos: {'y': 0, 'x': 2} reward: 0\n",
        "values [0.043649725801165974, 0.21724019457132454, 0.12494240227515831, 0.041376400206488521, 0.019864048957701753]\n",
        "[[ 0.05167162  1.03383529 -0.25533266  0.10184314  0.00417178]]"
       ]
      },
      {
       "output_type": "stream",
       "stream": "stdout",
       "text": [
        "\n",
        "iteration:"
       ]
      },
      {
       "output_type": "stream",
       "stream": "stdout",
       "text": [
        " 12 action: 1\n",
        "new pos: {'y': 0, 'x': 3} reward: 0\n",
        "values [0.044867965542812221, 0.2189615828093614, 0.14089643813533342, 0.043737351040770894, 0.020202877632844649]\n",
        "[[ 0.0566609   1.03699815 -0.24326421  0.09827337  0.00177097]]"
       ]
      },
      {
       "output_type": "stream",
       "stream": "stdout",
       "text": [
        "\n",
        "iteration:"
       ]
      },
      {
       "output_type": "stream",
       "stream": "stdout",
       "text": [
        " 13 action: 1\n",
        "new pos: {'y': 0, 'x': 4} reward: -1.0\n",
        "values [0.044822101910967589, 0.21921791313677028, 0.14356153167436483, 0.043850351445566739, 0.020375353644904025]\n",
        "[[  5.34843232e-02   1.03596104e+00  -2.41955939e-01   9.72478286e-02\n",
        "   -3.42827593e-04]]"
       ]
      },
      {
       "output_type": "stream",
       "stream": "stdout",
       "text": [
        "\n",
        "[[  5.34843232e-02   1.03596104e+00  -2.41955939e-01   9.72478286e-02\n",
        "   -3.42827593e-04]]"
       ]
      },
      {
       "output_type": "stream",
       "stream": "stdout",
       "text": [
        "\n",
        "iteration:"
       ]
      },
      {
       "output_type": "stream",
       "stream": "stdout",
       "text": [
        " 14 action: 0\n",
        "new pos: {'y': 0, 'x': 1} reward: 0\n",
        "values"
       ]
      },
      {
       "output_type": "stream",
       "stream": "stdout",
       "text": [
        " [0.042144876515230245, 0.21782028649680205, 0.13522085254908389, 0.036390911713989602, 0.01689658980170481]\n",
        "[[ 0.0413164   1.01481164 -0.47248532  0.07451666 -0.00989447]]"
       ]
      },
      {
       "output_type": "stream",
       "stream": "stdout",
       "text": [
        "\n",
        "iteration:"
       ]
      },
      {
       "output_type": "stream",
       "stream": "stdout",
       "text": [
        " 15 action: 0\n",
        "new pos: {'y': 0, 'x': 0} reward: 1.0\n",
        "values [0.041998732548642927, 0.22139295164497788, 0.13716409229476312, 0.036829864257923069, 0.017456965995836366]\n",
        "[[ 0.04306765  1.21038595 -0.46153997  0.07491799  0.02941075]]"
       ]
      },
      {
       "output_type": "stream",
       "stream": "stdout",
       "text": [
        "\n",
        "[[ 0.04306765  1.21038595 -0.46153997  0.07491799  0.02941075]]"
       ]
      },
      {
       "output_type": "stream",
       "stream": "stdout",
       "text": [
        "\n",
        "iteration:"
       ]
      },
      {
       "output_type": "stream",
       "stream": "stdout",
       "text": [
        " 16 action: 0\n",
        "new pos: {'y': 0, 'x': 1} reward: 0\n",
        "values [0.054675560761247646, 0.26536957626304064, 0.17034835399769194, 0.041218152788557047, 0.045563654089161465]\n",
        "[[ 0.04696686  1.2166171  -0.41080006  0.08057824  0.03115582]]"
       ]
      },
      {
       "output_type": "stream",
       "stream": "stdout",
       "text": [
        "\n",
        "iteration:"
       ]
      },
      {
       "output_type": "stream",
       "stream": "stdout",
       "text": [
        " 17 action: 1\n",
        "new pos: {'y': 0, 'x': 2} reward: 0\n",
        "values [0.054840947875599663, 0.27135073033554152, 0.175324006253884, 0.041635313480208339, 0.046350412478999597]\n",
        "[[ 0.0449173   1.1854594  -0.39964708  0.07730269  0.03433052]]"
       ]
      },
      {
       "output_type": "stream",
       "stream": "stdout",
       "text": [
        "\n",
        "iteration:"
       ]
      },
      {
       "output_type": "stream",
       "stream": "stdout",
       "text": [
        " 18 action: 1\n",
        "new pos: {'y': 0, 'x': 3} reward: 0\n",
        "values [0.055155627936812522, 0.27081265969654095, 0.17892987952502384, 0.041232721714712421, 0.046662398140456085]\n",
        "[[ 0.04681911  1.18093036 -0.36706092  0.07033066  0.04253466]]"
       ]
      },
      {
       "output_type": "stream",
       "stream": "stdout",
       "text": [
        "\n",
        "iteration:"
       ]
      },
      {
       "output_type": "stream",
       "stream": "stdout",
       "text": [
        " 19 action: 0\n",
        "new pos: {'y': 0, 'x': 2} reward: 0\n",
        "values [0.056233944441044195, 0.27238209282415443, 0.18676213365329597, 0.059875087260408466, 0.04859216841494015]\n",
        "[[ 0.05211316  1.17840865 -0.37449441  0.11916072  0.04358289]]"
       ]
      },
      {
       "output_type": "stream",
       "stream": "stdout",
       "text": [
        "\n",
        "iteration:"
       ]
      },
      {
       "output_type": "stream",
       "stream": "stdout",
       "text": [
        " 20 action: 0\n",
        "new pos: {'y': 0, 'x': 1} reward: 0\n",
        "values [0.056525915858191167, 0.27232495417544061, 0.19118125630398561, 0.057822599307831041, 0.047549576113457559]\n",
        "[[ 0.05140875  1.17772818 -0.41778462  0.12112539  0.04024047]]"
       ]
      },
      {
       "output_type": "stream",
       "stream": "stdout",
       "text": [
        "\n",
        "iteration:"
       ]
      },
      {
       "output_type": "stream",
       "stream": "stdout",
       "text": [
        " 21 action: 0\n",
        "new pos: {'y': 0, 'x': 0} reward: 1.0\n",
        "values [0.057492427737496681, 0.27287073640288423, 0.19502909775721713, 0.058191444489279459, 0.048276479510775502]\n",
        "[[ 0.06206243  1.31636374 -0.38838507  0.14118422  0.05990083]]"
       ]
      },
      {
       "output_type": "stream",
       "stream": "stdout",
       "text": [
        "\n",
        "[[ 0.06206243  1.31636374 -0.38838507  0.14118422  0.05990083]]"
       ]
      },
      {
       "output_type": "stream",
       "stream": "stdout",
       "text": [
        "\n",
        "iteration:"
       ]
      },
      {
       "output_type": "stream",
       "stream": "stdout",
       "text": [
        " 22 action: 1\n",
        "new pos: {'y': 0, 'x': 3} reward: 0\n",
        "values [0.064057800653769356, 0.31420039351208223, 0.21651920744308178, 0.06203636488325464, 0.050833733615181051]\n",
        "[[ 0.0539507   1.31221057 -0.46226784  0.14325554  0.0479759 ]]"
       ]
      },
      {
       "output_type": "stream",
       "stream": "stdout",
       "text": [
        "\n",
        "iteration:"
       ]
      },
      {
       "output_type": "stream",
       "stream": "stdout",
       "text": [
        " 23 action: 1\n",
        "new pos: {'y': 0, 'x': 4} reward: -1.0\n",
        "values [0.064693239793151169, 0.31511130440142815, 0.21602718761174536, 0.077832733517783623, 0.051588024146902632]\n",
        "[[ 0.04703537  1.29989013 -0.4875238   0.02580156  0.04170704]]"
       ]
      },
      {
       "output_type": "stream",
       "stream": "stdout",
       "text": [
        "\n",
        "[[ 0.04703537  1.29989013 -0.4875238   0.02580156  0.04170704]]"
       ]
      },
      {
       "output_type": "stream",
       "stream": "stdout",
       "text": [
        "\n",
        "iteration:"
       ]
      },
      {
       "output_type": "stream",
       "stream": "stdout",
       "text": [
        " 24 action: 1\n",
        "new pos: {'y': 0, 'x': 3} reward: 0\n",
        "values [0.06271167623919266, 0.31310130101888473, 0.21591112722986366, 0.069158225990075595, 0.050148883759613239]\n",
        "[[ 0.05209713  1.29889632 -0.4246594   0.02884736  0.04069021]]"
       ]
      },
      {
       "output_type": "stream",
       "stream": "stdout",
       "text": [
        "\n",
        "iteration:"
       ]
      },
      {
       "output_type": "stream",
       "stream": "stdout",
       "text": [
        " 25 action: 0\n",
        "new pos: {'y': 0, 'x': 2} reward: 0\n",
        "values [0.062584117525764316, 0.31348323400429917, 0.21684725519392664, 0.074881164249415572, 0.050459075009070299]\n",
        "[[ 0.05295312  1.29736941 -0.42008017  0.01707902  0.04235984]]"
       ]
      },
      {
       "output_type": "stream",
       "stream": "stdout",
       "text": [
        "\n",
        "iteration:"
       ]
      },
      {
       "output_type": "stream",
       "stream": "stdout",
       "text": [
        " 26 action: 1\n",
        "new pos: {'y': 0, 'x': 3} reward: 0\n",
        "values [0.063096607279170741, 0.31377515984141158, 0.22522283235725885, 0.076863547925791156, 0.051436394522870146]\n",
        "[[ 0.05935914  1.29513271 -0.27734098  0.03194922  0.05241398]]"
       ]
      },
      {
       "output_type": "stream",
       "stream": "stdout",
       "text": [
        "\n",
        "iteration:"
       ]
      },
      {
       "output_type": "stream",
       "stream": "stdout",
       "text": [
        " 27 action: 0\n",
        "new pos: {'y': 0, 'x': 2} reward: 0\n",
        "values [0.063674674132085468, 0.31440681871244708, 0.22722356733036661, 0.090995428394405622, 0.052485683699771857]\n",
        "[[ 0.06271908  1.30071073 -0.27361687  0.1368729   0.06304112]]"
       ]
      },
      {
       "output_type": "stream",
       "stream": "stdout",
       "text": [
        "\n",
        "iteration:"
       ]
      },
      {
       "output_type": "stream",
       "stream": "stdout",
       "text": [
        " 28 action: 1\n",
        "new pos: {'y': 0, 'x': 3} reward: 0\n",
        "values [0.064701471927019416, 0.3145189156563708, 0.23485106558078081, 0.088490035573887557, 0.052080418989731293]\n",
        "[[ 0.06411543  1.29619562 -0.35887237  0.12499028  0.05732671]]"
       ]
      },
      {
       "output_type": "stream",
       "stream": "stdout",
       "text": [
        "\n",
        "iteration:"
       ]
      },
      {
       "output_type": "stream",
       "stream": "stdout",
       "text": [
        " 29 action: 0\n",
        "new pos: {'y': 0, 'x': 2} reward: 0\n",
        "values [0.065124824712961132, 0.31552607098248558, 0.2341442503812384, 0.09406080254646676, 0.052708960683538655]\n",
        "[[ 0.05754414  1.30596074 -0.35094244  0.10758296  0.04584829]]"
       ]
      },
      {
       "output_type": "stream",
       "stream": "stdout",
       "text": [
        "\n",
        "iteration:"
       ]
      },
      {
       "output_type": "stream",
       "stream": "stdout",
       "text": [
        " 30 action: 1\n",
        "new pos: {'y': 0, 'x': 3} reward: 0\n",
        "values [0.064645374762381538, 0.31516723794198537, 0.23331143582814765, 0.091076446692459984, 0.052923562642139668]\n",
        "[[ 0.0517645   1.30503952 -0.42962276  0.09935389  0.04483255]]"
       ]
      },
      {
       "output_type": "stream",
       "stream": "stdout",
       "text": [
        "\n",
        "iteration:"
       ]
      },
      {
       "output_type": "stream",
       "stream": "stdout",
       "text": [
        " 31 action: 0\n",
        "new pos: {'y': 0, 'x': 2} reward: 0\n",
        "values [0.064986559115878681, 0.31545894556636123, 0.2359311823334192, 0.095493944222307919, 0.053415143128519374]\n",
        "[[ 0.04868475  1.29298066 -0.43271331 -0.00991784  0.04146813]]"
       ]
      },
      {
       "output_type": "stream",
       "stream": "stdout",
       "text": [
        "\n",
        "iteration:"
       ]
      },
      {
       "output_type": "stream",
       "stream": "stdout",
       "text": [
        " 32 action: 0\n",
        "new pos: {'y': 0, 'x': 1} reward: 0\n",
        "values [0.067422508122996855, 0.31596245897323005, 0.25905680016552696, 0.09800491087535905, 0.055403998463341597]\n",
        "[[ 0.0429918   1.28794382 -0.49260954 -0.0108136   0.03817107]]"
       ]
      },
      {
       "output_type": "stream",
       "stream": "stdout",
       "text": [
        "\n",
        "iteration:"
       ]
      },
      {
       "output_type": "stream",
       "stream": "stdout",
       "text": [
        " 33 action: 0\n",
        "new pos: {'y': 0, 'x': 0} reward: 1.0\n",
        "values [0.068864850623560764, 0.3329008427131544, 0.25697869121241512, 0.09952240419915008, 0.056069958295734176]\n",
        "[[ 0.08015195  1.69390775 -0.47906394  0.01765576  0.09028214]]"
       ]
      },
      {
       "output_type": "stream",
       "stream": "stdout",
       "text": [
        "\n",
        "[[ 0.08015195  1.69390775 -0.47906394  0.01765576  0.09028214]]"
       ]
      },
      {
       "output_type": "stream",
       "stream": "stdout",
       "text": [
        "\n",
        "iteration:"
       ]
      },
      {
       "output_type": "stream",
       "stream": "stdout",
       "text": [
        " 34 action: 0\n",
        "new pos: {'y': 0, 'x': 1} reward: 0\n",
        "values [0.080093909991637902, 0.40045921999245937, 0.28899038023297824, 0.11788257397616583, 0.087525140669106827]\n",
        "[[ 0.07884249  1.69351914 -0.48223891  0.02191144  0.08923471]]"
       ]
      },
      {
       "output_type": "stream",
       "stream": "stdout",
       "text": [
        "\n",
        "iteration:"
       ]
      },
      {
       "output_type": "stream",
       "stream": "stdout",
       "text": [
        " 35 action: 0\n",
        "new pos: {'y': 0, 'x': 0} reward: 1.0\n",
        "values [0.080920226368272313, 0.41933974390835721, 0.28850779776770996, 0.11834339056125874, 0.087782087724708899]\n",
        "[[ 0.09481835  2.07363748 -0.45405144  0.03890907  0.12343599]]"
       ]
      },
      {
       "output_type": "stream",
       "stream": "stdout",
       "text": [
        "\n",
        "[[ 0.09481835  2.07363748 -0.45405144  0.03890907  0.12343599]]"
       ]
      },
      {
       "output_type": "stream",
       "stream": "stdout",
       "text": [
        "\n",
        "iteration:"
       ]
      },
      {
       "output_type": "stream",
       "stream": "stdout",
       "text": [
        " 36 action: 1\n",
        "new pos: {'y': 0, 'x': 3} reward: 0\n",
        "values [0.086520691284907983, 0.46951956322407828, 0.31017202391961218, 0.12788946738297474, 0.10732771050105874]\n",
        "[[ 0.09074246  2.07097701 -0.50126097  0.031169    0.11602107]]"
       ]
      },
      {
       "output_type": "stream",
       "stream": "stdout",
       "text": [
        "\n",
        "iteration:"
       ]
      },
      {
       "output_type": "stream",
       "stream": "stdout",
       "text": [
        " 37 action: 1\n",
        "new pos: {'y': 0, 'x': 4} reward: -1.0\n",
        "values [0.087067591189361929, 0.46934761048889834, 0.30865006178511145, 0.1407438533011863, 0.10809464667712738]\n",
        "[[ 0.09201588  2.06563511 -0.50088839  0.03572643  0.11609432]]"
       ]
      },
      {
       "output_type": "stream",
       "stream": "stdout",
       "text": [
        "\n",
        "[[ 0.09201588  2.06563511 -0.50088839  0.03572643  0.11609432]]"
       ]
      },
      {
       "output_type": "stream",
       "stream": "stdout",
       "text": [
        "\n",
        "iteration:"
       ]
      },
      {
       "output_type": "stream",
       "stream": "stdout",
       "text": [
        " 38 action: 1\n",
        "new pos: {'y': 0, 'x': 3} reward: 0\n",
        "values [0.083528142761145729, 0.46847561382706893, 0.30461040634628661, 0.13155095904888556, 0.10658305243924147]\n",
        "[[ 0.09352416  2.0609016  -0.54130549  0.03351629  0.11145607]]"
       ]
      },
      {
       "output_type": "stream",
       "stream": "stdout",
       "text": [
        "\n",
        "iteration:"
       ]
      },
      {
       "output_type": "stream",
       "stream": "stdout",
       "text": [
        " 39 action: 0\n",
        "new pos: {'y': 0, 'x': 2} reward: 0\n",
        "values [0.083960337247964964, 0.46944848011913515, 0.30671137490009615, 0.14021040833907208, 0.10696007240216036]\n",
        "[[ 0.0946299   2.06411298 -0.54536522  0.05892581  0.11413414]]"
       ]
      },
      {
       "output_type": "stream",
       "stream": "stdout",
       "text": [
        "\n",
        "iteration:"
       ]
      },
      {
       "output_type": "stream",
       "stream": "stdout",
       "text": [
        " 40 action: 0\n",
        "new pos: {'y': 0, 'x': 1} reward: 0\n",
        "values [0.084748145124686994, 0.46950559510550294, 0.32112782152224534, 0.14073442933909161, 0.1079596343052359]\n",
        "[[ 0.09755588  2.06453785 -0.54016625  0.05612868  0.11839558]]"
       ]
      }
     ],
     "prompt_number": "*"
    },
    {
     "cell_type": "code",
     "collapsed": false,
     "input": [],
     "language": "python",
     "metadata": {},
     "outputs": [],
     "prompt_number": "*"
    },
    {
     "cell_type": "code",
     "collapsed": false,
     "input": [],
     "language": "python",
     "metadata": {},
     "outputs": [],
     "prompt_number": "*"
    }
   ],
   "metadata": {}
  }
 ]
}