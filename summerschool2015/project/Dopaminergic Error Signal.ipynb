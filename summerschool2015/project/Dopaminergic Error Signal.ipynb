{
 "metadata": {
  "name": ""
 },
 "nbformat": 3,
 "nbformat_minor": 0,
 "worksheets": [
  {
   "cells": [
    {
     "cell_type": "heading",
     "level": 1,
     "metadata": {},
     "source": [
      "Dopaminergic Error Signal"
     ]
    },
    {
     "cell_type": "heading",
     "level": 2,
     "metadata": {},
     "source": [
      "In this notebook, we will introduce a more plausible way to calculate the prediction error signal for reinforcement learning."
     ]
    },
    {
     "cell_type": "raw",
     "metadata": {},
     "source": [
      "We start with the same implementation as before but without calculating the values (and weights from states to actions) explicitly."
     ]
    },
    {
     "cell_type": "code",
     "collapsed": false,
     "input": [
      "import nest\n",
      "import nest.raster_plot as rplt\n",
      "import numpy as np\n",
      "import matplotlib.pyplot as plt\n",
      "import environment as env\n",
      "from mpl_toolkits.mplot3d import Axes3D\n",
      "\n",
      "env.set_environment(6)\n",
      "\n",
      "NUM_ITERATIONS = 2000\n",
      "LEARNING_RATE = 0.5\n",
      "NUM_STATE_NEURONS = 20\n",
      "NUM_WTA_NEURONS = 50\n",
      "WEIGHT_SCALING = 100 / NUM_STATE_NEURONS\n",
      "\n",
      "nest.ResetKernel()\n",
      "nest.set_verbosity(\"M_DEBUG\")\n",
      "\n",
      "rank = nest.Rank()\n",
      "size = nest.NumProcesses() \n",
      "seed = np.random.randint(0, 1000000)\n",
      "num_threads = 1\n",
      "nest.SetKernelStatus({\"local_num_threads\": num_threads})\n",
      "nest.SetKernelStatus({\"rng_seeds\": range(seed+num_threads * size + 1, seed + 2 * (num_threads * size) + 1),\n",
      "        \t\t      \"grng_seed\": seed+size+num_threads,\n",
      "                      \"resolution\": 0.1})\n",
      "\n",
      "# Create states\n",
      "world_dim = env.get_world_dimensions()\n",
      "states = []\n",
      "for i in range(world_dim['x']):\n",
      "    states.append([])\n",
      "    for j in range(world_dim['y']):\n",
      "        states[i].append(nest.Create('iaf_psc_alpha', NUM_STATE_NEURONS))\n",
      "all_states = np.ravel(states).tolist()\n",
      "\n",
      "# Create actions\n",
      "num_actions = env.get_num_possible_actions()\n",
      "actions = []\n",
      "for i in range(num_actions):\n",
      "    actions.append(nest.Create('iaf_psc_alpha', NUM_WTA_NEURONS))\n",
      "all_actions = np.ravel(actions).tolist()\n",
      "\n",
      "# Create WTA circuit\n",
      "wta_ex_weights = 10.5\n",
      "wta_inh_weights = -2.6\n",
      "wta_ex_inh_weights = 2.8\n",
      "wta_noise_weights = 2.1\n",
      "\n",
      "wta_inh_neurons = nest.Create('iaf_psc_alpha', NUM_WTA_NEURONS)\n",
      "\n",
      "for i in range(len(actions)):\n",
      "    nest.Connect(actions[i], actions[i], 'all_to_all', {'weight': wta_ex_weights})\n",
      "    nest.Connect(actions[i], wta_inh_neurons, 'all_to_all', {'weight': wta_ex_inh_weights}) \n",
      "\n",
      "nest.Connect(wta_inh_neurons, all_actions, 'all_to_all', {'weight': wta_inh_weights})\n",
      "\n",
      "wta_noise = nest.Create('poisson_generator', 10, {'rate': 3000.})\n",
      "nest.Connect(wta_noise, all_actions, 'all_to_all', {'weight': wta_noise_weights})\n",
      "nest.Connect(wta_noise, wta_inh_neurons, 'all_to_all', {'weight': wta_noise_weights * 0.9})\n",
      "\n",
      "\n",
      "# Create stimulus\n",
      "stimulus = nest.Create('poisson_generator', 1, {'rate': 5000.})\n",
      "nest.Connect(stimulus, all_states, 'all_to_all', {'weight': 0.})\n",
      "\n"
     ],
     "language": "python",
     "metadata": {},
     "outputs": [],
     "prompt_number": 1
    },
    {
     "cell_type": "raw",
     "metadata": {},
     "source": [
      "Here, we are implementing the dopaminergic nueron pool, volume transmitter and dopamin-modulated synapse between states and actions"
     ]
    },
    {
     "cell_type": "code",
     "collapsed": false,
     "input": [
      "# Create DA pool\n",
      "DA_neurons = nest.Create('iaf_psc_alpha', 100)\n",
      "vol_trans = nest.Create('volume_transmitter', 1, {'deliver_interval': 10})\n",
      "nest.Connect(DA_neurons, vol_trans, 'all_to_all')\n",
      "\n",
      "# Create reward stimulus\n",
      "reward_stimulus = nest.Create('poisson_generator', 1, {'rate': 5000.})\n",
      "nest.Connect(reward_stimulus, DA_neurons, 'all_to_all', {'weight': 0.})\n",
      "\n",
      "tau_c = 50.0\n",
      "tau_n = 20.0\n",
      "\n",
      "# Connect states to actions\n",
      "nest.CopyModel('neuromod_dopa_synapse', 'dopa_synapse', {'vt': vol_trans[0], 'A_LTP': 20., 'A_LTD': 25.,\n",
      "                                                         'Wmin': -30., 'Wmax': 30., 'b': 1., 'tau_n': tau_n, 'tau_c': tau_c})\n",
      "        \n",
      "nest.Connect(all_states, all_actions, 'all_to_all', {'model': 'dopa_synapse', 'weight': 0.0})"
     ],
     "language": "python",
     "metadata": {},
     "outputs": [],
     "prompt_number": 2
    },
    {
     "cell_type": "code",
     "collapsed": false,
     "input": [
      "# Create spike detector\n",
      "sd_wta = nest.Create('spike_detector')\n",
      "nest.Connect(all_actions, sd_wta)\n",
      "nest.Connect(wta_inh_neurons, sd_wta)\n",
      "sd_actions = nest.Create('spike_detector', num_actions)\n",
      "for i in range(len(actions)):\n",
      "    nest.Connect(actions[i], [sd_actions[i]])\n",
      "sd_states = nest.Create('spike_detector')\n",
      "nest.Connect(all_states, sd_states)\n",
      "sd_DA = nest.Create('spike_detector', 1)\n",
      "nest.Connect(DA_neurons, sd_DA, 'all_to_all')\n",
      "\n",
      "\n",
      "# Create noise\n",
      "noise = nest.Create('poisson_generator', 1, {'rate': 65000.})\n",
      "nest.Connect(noise, all_states, 'all_to_all', {'weight': 1.})\n",
      "nest.Connect(noise, DA_neurons, 'all_to_all', {'weight': 1.0375})\n"
     ],
     "language": "python",
     "metadata": {},
     "outputs": [],
     "prompt_number": 3
    },
    {
     "cell_type": "code",
     "collapsed": false,
     "input": [
      "def plot_values(fig, ax, position):\n",
      "    plt.cla()\n",
      "    \n",
      "    values_plot = []      \n",
      "    \n",
      "    for i in range(world_dim['y']):\n",
      "        values_plot.append([])\n",
      "        for j in range(world_dim['x']):\n",
      "            values_plot[i].append(np.mean([np.mean(nest.GetStatus(nest.GetConnections(states[j][i], actions[a]), 'weight')) for a in range(len(actions))]))\n",
      "            if len(actions) == 4:\n",
      "                q_north = np.mean(nest.GetStatus(nest.GetConnections(states[j][i], actions[0]), 'weight'))\n",
      "                q_east = np.mean(nest.GetStatus(nest.GetConnections(states[j][i], actions[1]), 'weight'))\n",
      "                q_south = np.mean(nest.GetStatus(nest.GetConnections(states[j][i], actions[2]), 'weight'))\n",
      "                q_west = np.mean(nest.GetStatus(nest.GetConnections(states[j][i], actions[3]), 'weight'))\n",
      "                ax.arrow(j, i, (q_east-q_west)/10., (q_south-q_north)/10., head_width=0.05, head_length=0.1, fc='k', ec='k')\n",
      "            else:\n",
      "                q_east = np.mean(nest.GetStatus(nest.GetConnections(states[j][i], actions[0]), 'weight'))\n",
      "                q_west = np.mean(nest.GetStatus(nest.GetConnections(states[j][i], actions[1]), 'weight'))\n",
      "                ax.arrow(j, i, (q_west-q_east)/10., 0., head_width=0.05, head_length=0.1, fc='k', ec='k')\n",
      "\n",
      "    \n",
      "    values_plot = np.array(values_plot)\n",
      "    print values_plot\n",
      "    \n",
      "    plt.imshow(values_plot, interpolation='none', vmax=1 * WEIGHT_SCALING, vmin=-1 * WEIGHT_SCALING)\n",
      "    \n",
      "    xlabels = np.arange(0, len(states))\n",
      "    ylabels = np.arange(0, len(states[0]))\n",
      "\n",
      "    # Set the major ticks at the centers and minor tick at the edges\n",
      "    xlocs = np.arange(len(xlabels))\n",
      "    ylocs = np.arange(len(ylabels))\n",
      "    ax.xaxis.set_ticks(xlocs + 0.5, minor=True)\n",
      "    ax.xaxis.set(ticks=xlocs, ticklabels=xlabels)\n",
      "    ax.yaxis.set_ticks(ylocs + 0.5, minor=True)\n",
      "    ax.yaxis.set(ticks=ylocs, ticklabels=ylabels)\n",
      "    \n",
      "    # Turn on the grid for the minor ticks\n",
      "    ax.grid(True, which='minor', linestyle='-', linewidth=2)   \n",
      "    \n",
      "    for txt in ax.texts:\n",
      "        txt.set_visible(False)\n",
      "        \n",
      "    ax.annotate(\".\", ((position['x'] + 0.5)/len(states), (1-(position['y'] + 0.5)/len(states[0]))), size=160, textcoords='axes fraction', color='white')\n",
      "    plt.draw()\n",
      "    "
     ],
     "language": "python",
     "metadata": {},
     "outputs": [],
     "prompt_number": 4
    },
    {
     "cell_type": "code",
     "collapsed": false,
     "input": [
      "\n",
      "# Main loop\n",
      "actions_executed = 0\n",
      "last_action_time = 0\n",
      "in_end_position = False\n",
      "\n",
      "# interactive plotting\n",
      "fig, ax = plt.subplots()\n",
      "plt.ion()\n",
      "    \n",
      "while actions_executed < NUM_ITERATIONS:\n",
      "    position = env.get_agent_pos().copy()\n",
      "\n",
      "    # plotting\n",
      "    plot_values(fig, ax, position)\n",
      "    \n",
      "    if not in_end_position:\n",
      "        nest.SetStatus(nest.GetConnections(stimulus, states[position['x']][position['y']]), {'weight': 1.})\n",
      "        \n",
      "        nest.SetStatus(wta_noise, {'rate': 3000.})\n",
      "        nest.Simulate(400)\n",
      "        max_rate = -1\n",
      "        chosen_action = -1\n",
      "        for i in range(len(sd_actions)):\n",
      "            rate = len([e for e in nest.GetStatus([sd_actions[i]], keys='events')[0]['times'] if e > last_action_time]) # calc the \"firerate\" of each actor population\n",
      "            if rate > max_rate:\n",
      "                max_rate = rate # the population with the hightes rate wins\n",
      "                chosen_action = i\n",
      "\n",
      "        possible_actions = env.get_possible_actions() \n",
      "\n",
      "        new_position, outcome, in_end_position = env.move(possible_actions[chosen_action])\n",
      "\n",
      "        print \"iteration:\", actions_executed, \"action:\", chosen_action \n",
      "        print \"new pos:\", new_position, \"reward:\", outcome\n",
      "\n",
      "        print \"values\", np.mean(nest.GetStatus(nest.GetConnections(states[1][0], actions[0]), 'weight'))\n",
      "        print \"values\", np.mean(nest.GetStatus(nest.GetConnections(states[1][0], actions[1]), 'weight'))\n",
      "        \n",
      "        # stimulate new state\n",
      "        nest.SetStatus(nest.GetConnections(stimulus, states[position['x']][position['y']]), {'weight': 0.})\n",
      "\n",
      "         \n",
      "        # apply reward\n",
      "        nest.SetStatus(nest.GetConnections(reward_stimulus, DA_neurons), {'weight': float(outcome) * WEIGHT_SCALING})\n",
      "        nest.SetStatus(wta_noise, {'rate': 0.})\n",
      "        \n",
      "        # refactory time\n",
      "        nest.Simulate(100.)\n",
      "        \n",
      "        nest.SetStatus(nest.GetConnections(stimulus, states[new_position['x']][new_position['y']]), {'weight': 1.})\n",
      "        nest.SetStatus(nest.GetConnections(reward_stimulus, DA_neurons), {'weight': 0.0})\n",
      "              \n",
      "        last_action_time += 500\n",
      "        actions_executed += 1\n",
      "    else:      \n",
      "        _, in_end_position = env.init_new_trial()\n",
      "        nest.SetStatus(nest.GetConnections(stimulus, states[position['x']][position['y']]), {'weight': 0.})\n",
      "\n",
      "\n",
      "rplt.from_device(sd_wta, title=\"WTA circuit\")\n",
      "rplt.from_device(sd_states, title=\"States\")\n",
      "rplt.from_device(sd_DA, title=\"DA pool\")\n",
      "rplt.show()\n",
      "    "
     ],
     "language": "python",
     "metadata": {},
     "outputs": [
      {
       "output_type": "stream",
       "stream": "stdout",
       "text": [
        "/usr/lib/pymodules/python2.7/matplotlib/patches.py:1054: RuntimeWarning: invalid value encountered in double_scalars\n",
        "/usr/lib/pymodules/python2.7/matplotlib/patches.py:1055: RuntimeWarning: invalid value encountered in double_scalars\n",
        "[[ 0.  0.]\n",
        " [ 0.  0.]]"
       ]
      },
      {
       "output_type": "stream",
       "stream": "stdout",
       "text": [
        "\n",
        "iteration:"
       ]
      },
      {
       "output_type": "stream",
       "stream": "stdout",
       "text": [
        " 0 action: 1\n",
        "new pos: {'y': 0, 'x': 1} reward: 0\n",
        "values 1.03933204906e-05\n",
        "values 0.00151450618992\n",
        "[[ 0.02581732  0.00039083]\n",
        " [ 0.00297379  0.00157846]]"
       ]
      },
      {
       "output_type": "stream",
       "stream": "stdout",
       "text": [
        "\n",
        "iteration:"
       ]
      },
      {
       "output_type": "stream",
       "stream": "stdout",
       "text": [
        " 1 action: 0\n",
        "new pos: {'y': 0, 'x': 1} reward: -1\n",
        "values 0.0161040839006\n",
        "values 0.00161248787075\n",
        "[[ 0.02538069 -0.01204117]\n",
        " [ 0.00211035 -0.00012059]]"
       ]
      },
      {
       "output_type": "stream",
       "stream": "stdout",
       "text": [
        "\n",
        "iteration:"
       ]
      },
      {
       "output_type": "stream",
       "stream": "stdout",
       "text": [
        " 2 action: 3\n",
        "new pos: {'y': 0, 'x': 0} reward: 0\n",
        "values -0.0521247320584\n",
        "values -0.00091245258885\n",
        "[[ 0.02371189 -0.04028455]\n",
        " [ 0.00137044 -0.00059605]]"
       ]
      },
      {
       "output_type": "stream",
       "stream": "stdout",
       "text": [
        "\n",
        "iteration:"
       ]
      },
      {
       "output_type": "stream",
       "stream": "stdout",
       "text": [
        " 3 action: 1\n",
        "new pos: {'y': 0, 'x': 1} reward: 0\n",
        "values -0.0520968712971\n",
        "values -0.00149117447161\n",
        "[[ 0.01371833 -0.04089888]\n",
        " [ 0.00084925 -0.00129903]]"
       ]
      },
      {
       "output_type": "stream",
       "stream": "stdout",
       "text": [
        "\n",
        "iteration:"
       ]
      },
      {
       "output_type": "stream",
       "stream": "stdout",
       "text": [
        " 4 action: 0\n",
        "new pos: {'y': 0, 'x': 1} reward: -1\n",
        "values 0.0225476339825\n",
        "values -0.00200686767084\n",
        "[[  1.60899539e-02  -2.36865903e-02]\n",
        " [  4.02052892e-05   4.96816815e-04]]"
       ]
      },
      {
       "output_type": "stream",
       "stream": "stdout",
       "text": [
        "\n",
        "iteration:"
       ]
      },
      {
       "output_type": "stream",
       "stream": "stdout",
       "text": [
        " 5 action: 0\n",
        "new pos: {'y': 0, 'x': 1} reward: -1\n",
        "values -0.0243528233572\n",
        "values -0.00225156779973\n",
        "[[ 0.01598414 -0.0402498 ]\n",
        " [-0.00376544  0.000539  ]]"
       ]
      },
      {
       "output_type": "stream",
       "stream": "stdout",
       "text": [
        "\n",
        "iteration:"
       ]
      },
      {
       "output_type": "stream",
       "stream": "stdout",
       "text": [
        " 6 action: 3\n",
        "new pos: {'y': 0, 'x': 0} reward: 0\n",
        "values -0.0827960742217\n",
        "values -0.00360018795617\n",
        "[[ 0.01687308 -0.0257764 ]\n",
        " [-0.00224634  0.00133563]]"
       ]
      },
      {
       "output_type": "stream",
       "stream": "stdout",
       "text": [
        "\n",
        "iteration:"
       ]
      },
      {
       "output_type": "stream",
       "stream": "stdout",
       "text": [
        " 7 action: 2\n",
        "new pos: {'y': 1, 'x': 0} reward: -1\n",
        "values -0.0826829857893\n",
        "values -0.00357686499759\n",
        "[[ 0.02019584 -0.02615189]\n",
        " [-0.00367929  0.00202607]]"
       ]
      },
      {
       "output_type": "stream",
       "stream": "stdout",
       "text": [
        "\n",
        "iteration:"
       ]
      },
      {
       "output_type": "stream",
       "stream": "stdout",
       "text": [
        " 8 action: 1\n",
        "new pos: {'y': 1, 'x': 1} reward: 1.0\n",
        "values -0.0826829858886\n",
        "values -0.00637135057298\n",
        "[[ 0.02235157 -0.00994466]\n",
        " [ 0.0635292   0.00616868]]"
       ]
      },
      {
       "output_type": "stream",
       "stream": "stdout",
       "text": [
        "\n",
        "[[ 0.02235157 -0.00994466]\n",
        " [ 0.0635292   0.00616868]]"
       ]
      },
      {
       "output_type": "stream",
       "stream": "stdout",
       "text": [
        "\n",
        "iteration:"
       ]
      },
      {
       "output_type": "stream",
       "stream": "stdout",
       "text": [
        " 9 action: 1\n",
        "new pos: {'y': 0, 'x': 1} reward: 0\n",
        "values -0.0826350294862\n",
        "values 0.0701462961483\n",
        "[[ 0.0400566  -0.0077531 ]\n",
        " [ 0.06411206  0.00772002]]"
       ]
      },
      {
       "output_type": "stream",
       "stream": "stdout",
       "text": [
        "\n",
        "iteration:"
       ]
      },
      {
       "output_type": "stream",
       "stream": "stdout",
       "text": [
        " 10 action: 0\n",
        "new pos: {'y': 0, 'x': 1} reward: -1\n",
        "values -0.173782216255\n",
        "values 0.0696804125975\n",
        "[[ 0.03804239 -0.04782853]\n",
        " [ 0.06275595  0.00740967]]"
       ]
      },
      {
       "output_type": "stream",
       "stream": "stdout",
       "text": [
        "\n",
        "iteration:"
       ]
      },
      {
       "output_type": "stream",
       "stream": "stdout",
       "text": [
        " 11 action: 1\n",
        "new pos: {'y': 0, 'x': 1} reward: -1\n",
        "values -0.239916511634\n",
        "values 0.164968674084\n",
        "[[ 0.03873796 -0.03814072]\n",
        " [ 0.06333279  0.00700096]]"
       ]
      },
      {
       "output_type": "stream",
       "stream": "stdout",
       "text": [
        "\n",
        "iteration:"
       ]
      },
      {
       "output_type": "stream",
       "stream": "stdout",
       "text": [
        " 12 action: 2\n",
        "new pos: {'y': 1, 'x': 1} reward: 1.0\n",
        "values -0.240320548503\n",
        "values 0.106955413208\n",
        "[[ 0.03300008  0.00021152]\n",
        " [ 0.07375721  0.00575219]]"
       ]
      },
      {
       "output_type": "stream",
       "stream": "stdout",
       "text": [
        "\n",
        "[[ 0.03300008  0.00021152]\n",
        " [ 0.07375721  0.00575219]]"
       ]
      },
      {
       "output_type": "stream",
       "stream": "stdout",
       "text": [
        "\n",
        "iteration:"
       ]
      },
      {
       "output_type": "stream",
       "stream": "stdout",
       "text": [
        " 13 action: 1\n",
        "new pos: {'y': 0, 'x': 1} reward: 0\n",
        "values -0.237103152218\n",
        "values 0.095862156661\n",
        "[[-0.00924938 -0.00255213]\n",
        " [ 0.07020845  0.00253199]]"
       ]
      },
      {
       "output_type": "stream",
       "stream": "stdout",
       "text": [
        "\n",
        "iteration:"
       ]
      },
      {
       "output_type": "stream",
       "stream": "stdout",
       "text": [
        " 14 action: 2\n",
        "new pos: {'y': 1, 'x': 1} reward: 1.0\n",
        "values -0.236473619477\n",
        "values 0.0961603516934\n",
        "[[-0.00406645  0.11750166]\n",
        " [ 0.07826213  0.01008746]]"
       ]
      },
      {
       "output_type": "stream",
       "stream": "stdout",
       "text": [
        "\n",
        "[[-0.00406645  0.11750166]\n",
        " [ 0.07826213  0.01008746]]"
       ]
      },
      {
       "output_type": "stream",
       "stream": "stdout",
       "text": [
        "\n",
        "iteration:"
       ]
      },
      {
       "output_type": "stream",
       "stream": "stdout",
       "text": [
        " 15 action: 2\n",
        "new pos: {'y': 1, 'x': 0} reward: -1\n",
        "values -0.236463907183\n",
        "values 0.100525591005\n",
        "[[ 0.00125688  0.11767889]\n",
        " [ 0.07763528  0.00967976]]"
       ]
      },
      {
       "output_type": "stream",
       "stream": "stdout",
       "text": [
        "\n",
        "iteration:"
       ]
      },
      {
       "output_type": "stream",
       "stream": "stdout",
       "text": [
        " 16 action: 1\n",
        "new pos: {'y': 1, 'x': 1} reward: 1.0\n",
        "values -0.236543898225\n",
        "values 0.104716715652\n",
        "[[ 0.00880485  0.1342766 ]\n",
        " [ 0.17695742  0.01842655]]"
       ]
      },
      {
       "output_type": "stream",
       "stream": "stdout",
       "text": [
        "\n",
        "[[ 0.00880485  0.1342766 ]\n",
        " [ 0.17695742  0.01842655]]"
       ]
      },
      {
       "output_type": "stream",
       "stream": "stdout",
       "text": [
        "\n",
        "iteration:"
       ]
      },
      {
       "output_type": "stream",
       "stream": "stdout",
       "text": [
        " 17 action: 2\n",
        "new pos: {'y': 1, 'x': 0} reward: -1\n",
        "values -0.236554132125\n",
        "values 0.167095239854\n",
        "[[ 0.02188752  0.13572926]\n",
        " [ 0.1758934   0.01872111]]"
       ]
      },
      {
       "output_type": "stream",
       "stream": "stdout",
       "text": [
        "\n",
        "iteration:"
       ]
      },
      {
       "output_type": "stream",
       "stream": "stdout",
       "text": [
        " 18 action: 3\n",
        "new pos: {'y': 1, 'x': 0} reward: -1\n",
        "values -0.236553635758\n",
        "values 0.167068348959\n",
        "[[ 0.02006785  0.1344104 ]\n",
        " [ 0.14368175  0.01766554]]"
       ]
      },
      {
       "output_type": "stream",
       "stream": "stdout",
       "text": [
        "\n",
        "iteration:"
       ]
      },
      {
       "output_type": "stream",
       "stream": "stdout",
       "text": [
        " 19 action: 3\n",
        "new pos: {'y': 1, 'x': 0} reward: -1\n",
        "values -0.236536060781\n",
        "values 0.167047649172\n",
        "[[ 0.01853144  0.13270478]\n",
        " [ 0.13574042  0.01961325]]"
       ]
      },
      {
       "output_type": "stream",
       "stream": "stdout",
       "text": [
        "\n",
        "iteration:"
       ]
      },
      {
       "output_type": "stream",
       "stream": "stdout",
       "text": [
        " 20 action: 1\n",
        "new pos: {'y': 1, 'x': 1} reward: 1.0\n",
        "values -0.236612190791\n",
        "values 0.169140654018\n",
        "[[ 0.01909032  0.1435373 ]\n",
        " [ 0.19595964  0.02394568]]"
       ]
      },
      {
       "output_type": "stream",
       "stream": "stdout",
       "text": [
        "\n",
        "[[ 0.01909032  0.1435373 ]\n",
        " [ 0.19595964  0.02394568]]"
       ]
      },
      {
       "output_type": "stream",
       "stream": "stdout",
       "text": [
        "\n",
        "iteration:"
       ]
      },
      {
       "output_type": "stream",
       "stream": "stdout",
       "text": [
        " 21 action: 1\n",
        "new pos: {'y': 0, 'x': 1} reward: 0\n",
        "values -0.234879085309\n",
        "values 0.207755261684\n",
        "[[ 0.02855265  0.14381022]\n",
        " [ 0.19727145  0.02565567]]"
       ]
      },
      {
       "output_type": "stream",
       "stream": "stdout",
       "text": [
        "\n",
        "iteration:"
       ]
      },
      {
       "output_type": "stream",
       "stream": "stdout",
       "text": [
        " 22 action: 1\n",
        "new pos: {'y': 0, 'x': 1} reward: -1\n",
        "values -0.235480670922\n",
        "values 0.249785713423\n",
        "[[ 0.02853145  0.13687212]\n",
        " [ 0.19599678  0.02472013]]"
       ]
      },
      {
       "output_type": "stream",
       "stream": "stdout",
       "text": [
        "\n",
        "iteration:"
       ]
      },
      {
       "output_type": "stream",
       "stream": "stdout",
       "text": [
        " 23 action: 1\n",
        "new pos: {'y': 0, 'x': 1} reward: -1\n",
        "values -0.236017375322\n",
        "values 0.116413330994\n",
        "[[ 0.02670327  0.09873299]\n",
        " [ 0.19332814  0.0194847 ]]"
       ]
      },
      {
       "output_type": "stream",
       "stream": "stdout",
       "text": [
        "\n",
        "iteration:"
       ]
      },
      {
       "output_type": "stream",
       "stream": "stdout",
       "text": [
        " 24 action: 1\n",
        "new pos: {'y': 0, 'x': 1} reward: -1\n",
        "values -0.236996564839\n",
        "values 0.0394574718695\n",
        "[[ 0.02694633  0.0829814 ]\n",
        " [ 0.19231888  0.01841791]]"
       ]
      },
      {
       "output_type": "stream",
       "stream": "stdout",
       "text": [
        "\n",
        "iteration:"
       ]
      },
      {
       "output_type": "stream",
       "stream": "stdout",
       "text": [
        " 25 action: 2\n",
        "new pos: {'y': 1, 'x': 1} reward: 1.0\n",
        "values -0.236261045091\n",
        "values -0.026061106526\n",
        "[[ 0.03848473  0.15840556]\n",
        " [ 0.19940922  0.02337801]]"
       ]
      },
      {
       "output_type": "stream",
       "stream": "stdout",
       "text": [
        "\n",
        "[[ 0.03848473  0.15840556]\n",
        " [ 0.19940922  0.02337801]]"
       ]
      },
      {
       "output_type": "stream",
       "stream": "stdout",
       "text": [
        "\n",
        "iteration:"
       ]
      },
      {
       "output_type": "stream",
       "stream": "stdout",
       "text": [
        " 26 action: 3\n",
        "new pos: {'y': 0, 'x': 0} reward: -1\n",
        "values -0.235700763987\n",
        "values -0.024780336062\n",
        "[[ 0.00387977  0.15644048]\n",
        " [ 0.19735641  0.02162205]]"
       ]
      },
      {
       "output_type": "stream",
       "stream": "stdout",
       "text": [
        "\n",
        "iteration:"
       ]
      },
      {
       "output_type": "stream",
       "stream": "stdout",
       "text": [
        " 27 action: 2\n",
        "new pos: {'y': 1, 'x': 0} reward: -1\n",
        "values -0.23576554336\n",
        "values -0.0248167498978\n",
        "[[-0.0357221   0.15409808]\n",
        " [ 0.19524625  0.01926488]]"
       ]
      },
      {
       "output_type": "stream",
       "stream": "stdout",
       "text": [
        "\n",
        "iteration:"
       ]
      },
      {
       "output_type": "stream",
       "stream": "stdout",
       "text": [
        " 28 action: 1\n",
        "new pos: {'y': 1, 'x': 1} reward: 1.0\n",
        "values -0.235761723381\n",
        "values -0.0252025994429\n",
        "[[-0.03001569  0.15898713]\n",
        " [ 0.28404229  0.03385201]]"
       ]
      },
      {
       "output_type": "stream",
       "stream": "stdout",
       "text": [
        "\n",
        "[[-0.03001569  0.15898713]\n",
        " [ 0.28404229  0.03385201]]"
       ]
      },
      {
       "output_type": "stream",
       "stream": "stdout",
       "text": [
        "\n",
        "iteration:"
       ]
      },
      {
       "output_type": "stream",
       "stream": "stdout",
       "text": [
        " 29 action: 3\n",
        "new pos: {'y': 0, 'x': 0} reward: -1\n",
        "values -0.235690775804\n",
        "values -0.00488967030583\n",
        "[[-0.00757172  0.15893655]\n",
        " [ 0.28694486  0.03432639]]"
       ]
      },
      {
       "output_type": "stream",
       "stream": "stdout",
       "text": [
        "\n",
        "iteration:"
       ]
      },
      {
       "output_type": "stream",
       "stream": "stdout",
       "text": [
        " 30 action: 3\n",
        "new pos: {'y': 0, 'x': 0} reward: -1\n",
        "values -0.235691718793\n",
        "values -0.00486920590761\n",
        "[[-0.0337795   0.1583359 ]\n",
        " [ 0.28657757  0.03228111]]"
       ]
      },
      {
       "output_type": "stream",
       "stream": "stdout",
       "text": [
        "\n",
        "iteration:"
       ]
      },
      {
       "output_type": "stream",
       "stream": "stdout",
       "text": [
        " 31 action: 1\n",
        "new pos: {'y': 0, 'x': 1} reward: 0\n",
        "values -0.235863748218\n",
        "values -0.00507918352776\n",
        "[[-0.01958664  0.1581872 ]\n",
        " [ 0.28791269  0.03303828]]"
       ]
      },
      {
       "output_type": "stream",
       "stream": "stdout",
       "text": [
        "\n",
        "iteration:"
       ]
      },
      {
       "output_type": "stream",
       "stream": "stdout",
       "text": [
        " 32 action: 1\n",
        "new pos: {'y': 0, 'x': 1} reward: -1\n",
        "values -0.236530724256\n",
        "values 0.0577097447289\n",
        "[[-0.02053746  0.16179017]\n",
        " [ 0.28764897  0.03481052]]"
       ]
      },
      {
       "output_type": "stream",
       "stream": "stdout",
       "text": [
        "\n",
        "iteration:"
       ]
      },
      {
       "output_type": "stream",
       "stream": "stdout",
       "text": [
        " 33 action: 2\n",
        "new pos: {'y': 1, 'x': 1} reward: 1.0\n",
        "values -0.237908374327\n",
        "values 0.00153122980003\n",
        "[[-0.01219576  0.20280386]\n",
        " [ 0.29068621  0.03515096]]"
       ]
      },
      {
       "output_type": "stream",
       "stream": "stdout",
       "text": [
        "\n",
        "[[-0.01219576  0.20280386]\n",
        " [ 0.29068621  0.03515096]]"
       ]
      },
      {
       "output_type": "stream",
       "stream": "stdout",
       "text": [
        "\n",
        "iteration:"
       ]
      },
      {
       "output_type": "stream",
       "stream": "stdout",
       "text": [
        " 34 action: 2\n",
        "new pos: {'y': 1, 'x': 0} reward: -1\n",
        "values -0.236315940744\n",
        "values 0.00461690036963\n",
        "[[ 0.00337384  0.20365251]\n",
        " [ 0.29117185  0.03606428]]"
       ]
      },
      {
       "output_type": "stream",
       "stream": "stdout",
       "text": [
        "\n",
        "iteration:"
       ]
      },
      {
       "output_type": "stream",
       "stream": "stdout",
       "text": [
        " 35 action: 0\n",
        "new pos: {'y': 0, 'x': 0} reward: 0\n",
        "values -0.235621219415\n",
        "values 0.00461707579974\n",
        "[[ 0.00251853  0.20343982]\n",
        " [ 0.28155281  0.03494205]]"
       ]
      },
      {
       "output_type": "stream",
       "stream": "stdout",
       "text": [
        "\n",
        "iteration:"
       ]
      },
      {
       "output_type": "stream",
       "stream": "stdout",
       "text": [
        " 36 action: 2\n",
        "new pos: {'y': 1, 'x': 0} reward: -1\n",
        "values -0.237029445993\n",
        "values 0.00463377920065\n",
        "[[-0.0103442   0.20140862]\n",
        " [ 0.2792914   0.03448976]]"
       ]
      }
     ],
     "prompt_number": "*"
    },
    {
     "cell_type": "code",
     "collapsed": false,
     "input": [],
     "language": "python",
     "metadata": {},
     "outputs": [],
     "prompt_number": "*"
    },
    {
     "cell_type": "code",
     "collapsed": false,
     "input": [],
     "language": "python",
     "metadata": {},
     "outputs": [],
     "prompt_number": "*"
    }
   ],
   "metadata": {}
  }
 ]
}