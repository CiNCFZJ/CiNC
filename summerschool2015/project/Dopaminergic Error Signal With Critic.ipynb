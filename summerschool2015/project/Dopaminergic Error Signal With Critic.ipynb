{
 "metadata": {
  "name": ""
 },
 "nbformat": 3,
 "nbformat_minor": 0,
 "worksheets": [
  {
   "cells": [
    {
     "cell_type": "heading",
     "level": 1,
     "metadata": {},
     "source": [
      "Dopaminergic Error Signal"
     ]
    },
    {
     "cell_type": "heading",
     "level": 2,
     "metadata": {},
     "source": [
      "In this notebook, we will introduce a more plausible way to calculate the prediction error signal for reinforcement learning."
     ]
    },
    {
     "cell_type": "raw",
     "metadata": {},
     "source": [
      "We start with the same implementation as before but without calculating the values (and weights from states to actions) explicitly."
     ]
    },
    {
     "cell_type": "code",
     "collapsed": false,
     "input": [
      "import nest\n",
      "import nest.raster_plot as rplt\n",
      "import numpy as np\n",
      "import matplotlib.pyplot as plt\n",
      "import environment as env\n",
      "from mpl_toolkits.mplot3d import Axes3D\n",
      "\n",
      "env.set_environment(7)\n",
      "\n",
      "NUM_ITERATIONS = 300\n",
      "NUM_STATE_NEURONS = 20\n",
      "NUM_WTA_NEURONS = 50\n",
      "WEIGHT_SCALING = 100 / NUM_STATE_NEURONS\n",
      "\n",
      "nest.ResetKernel()\n",
      "nest.set_verbosity(\"M_DEBUG\")\n",
      "\n",
      "rank = nest.Rank()\n",
      "size = nest.NumProcesses() \n",
      "seed = np.random.randint(0, 1000000)\n",
      "num_threads = 1\n",
      "nest.SetKernelStatus({\"local_num_threads\": num_threads})\n",
      "nest.SetKernelStatus({\"rng_seeds\": range(seed+num_threads * size + 1, seed + 2 * (num_threads * size) + 1),\n",
      "        \t\t      \"grng_seed\": seed+size+num_threads,\n",
      "                      \"resolution\": 0.1})\n",
      "tau_pre = 20.\n",
      "nest.SetDefaults(\"iaf_psc_alpha\", {\"tau_minus\": tau_pre})\n",
      "\n",
      "# Create states\n",
      "world_dim = env.get_world_dimensions()\n",
      "states = []\n",
      "for i in range(world_dim['x']):\n",
      "    states.append([])\n",
      "    for j in range(world_dim['y']):\n",
      "        states[i].append(nest.Create('iaf_psc_alpha', NUM_STATE_NEURONS))\n",
      "all_states = np.ravel(states).tolist()\n",
      "\n",
      "# Create actions\n",
      "num_actions = env.get_num_possible_actions()[0][1]\n",
      "actions = []\n",
      "for i in range(num_actions):\n",
      "    actions.append(nest.Create('iaf_psc_alpha', NUM_WTA_NEURONS))\n",
      "all_actions = np.ravel(actions).tolist()\n",
      "\n",
      "# Create WTA circuit\n",
      "wta_ex_weights = 10.5\n",
      "wta_inh_weights = -2.6\n",
      "wta_ex_inh_weights = 2.8\n",
      "wta_noise_weights = 2.1\n",
      "\n",
      "wta_inh_neurons = nest.Create('iaf_psc_alpha', NUM_WTA_NEURONS)\n",
      "\n",
      "for i in range(len(actions)):\n",
      "    nest.Connect(actions[i], actions[i], 'all_to_all', {'weight': wta_ex_weights})\n",
      "    nest.Connect(actions[i], wta_inh_neurons, 'all_to_all', {'weight': wta_ex_inh_weights}) \n",
      "\n",
      "nest.Connect(wta_inh_neurons, all_actions, 'all_to_all', {'weight': wta_inh_weights})\n",
      "\n",
      "wta_noise = nest.Create('poisson_generator', 10, {'rate': 3000.})\n",
      "nest.Connect(wta_noise, all_actions, 'all_to_all', {'weight': wta_noise_weights})\n",
      "nest.Connect(wta_noise, wta_inh_neurons, 'all_to_all', {'weight': wta_noise_weights * 0.9})\n",
      "\n",
      "\n",
      "# Create stimulus\n",
      "stimulus = nest.Create('poisson_generator', 1, {'rate': 5000.})\n",
      "nest.Connect(stimulus, all_states, 'all_to_all', {'weight': 0.})\n",
      "\n"
     ],
     "language": "python",
     "metadata": {},
     "outputs": [],
     "prompt_number": 1
    },
    {
     "cell_type": "raw",
     "metadata": {},
     "source": [
      "Here, we are implementing the dopaminergic nueron pool, volume transmitter and dopamin-modulated synapse between states and actions"
     ]
    },
    {
     "cell_type": "code",
     "collapsed": false,
     "input": [
      "# Create DA pool\n",
      "DA_neurons = nest.Create('iaf_psc_alpha', 100)\n",
      "vol_trans = nest.Create('volume_transmitter', 1, {'deliver_interval': 10})\n",
      "nest.Connect(DA_neurons, vol_trans, 'all_to_all')\n",
      "\n",
      "# Create reward stimulus\n",
      "reward_stimulus = nest.Create('poisson_generator', 1, {'rate': 5000.})\n",
      "nest.Connect(reward_stimulus, DA_neurons, 'all_to_all', {'weight': 0.})\n",
      "\n",
      "tau_c = 20.0\n",
      "tau_n = 20.0\n",
      "tau_post = 20.\n",
      "\n",
      "# Connect states to actions\n",
      "nest.CopyModel('neuromod_dopa_synapse', 'dopa_synapse', {'vt': vol_trans[0], 'A_LTP': 200., 'A_LTD': 400., \"tau_plus\": tau_post,\n",
      "                                                         'Wmin': -10., 'Wmax': 10., 'b': .1, 'tau_n': tau_n, 'tau_c': tau_c})\n",
      "        \n",
      "nest.Connect(all_states, all_actions, 'all_to_all', {'model': 'dopa_synapse', 'weight': 0.0})\n",
      "\n",
      "# TODO experimental: project from state to DA via critic \n",
      "nest.CopyModel('neuromod_dopa_synapse', 'dopa_synapse_critic', {'vt': vol_trans[0], 'A_LTP': 300., 'A_LTD': 600., \"tau_plus\": tau_post,\n",
      "                                                                'Wmin': -10., 'Wmax': 10., 'b': .1, 'tau_n': tau_n, 'tau_c': tau_c})\n",
      "critic = nest.Create('iaf_psc_alpha', 50)\n",
      "nest.Connect(all_states, critic, 'all_to_all', {'model': 'dopa_synapse_critic', 'weight': 0.0})\n",
      "nest.Connect(critic, DA_neurons, 'all_to_all', {'weight': -.5, 'delay': 50.})\n",
      "nest.Connect(critic, DA_neurons, 'all_to_all', {'weight': .5, 'delay': 1.})\n",
      "\n",
      "critic_noise = nest.Create('poisson_generator', 1, {'rate': 65500.})\n",
      "nest.Connect(critic_noise, critic)"
     ],
     "language": "python",
     "metadata": {},
     "outputs": [],
     "prompt_number": 2
    },
    {
     "cell_type": "code",
     "collapsed": false,
     "input": [
      "# Create spike detector\n",
      "sd_wta = nest.Create('spike_detector')\n",
      "nest.Connect(all_actions, sd_wta)\n",
      "nest.Connect(wta_inh_neurons, sd_wta)\n",
      "sd_actions = nest.Create('spike_detector', num_actions)\n",
      "for i in range(len(actions)):\n",
      "    nest.Connect(actions[i], [sd_actions[i]])\n",
      "sd_states = nest.Create('spike_detector')\n",
      "nest.Connect(all_states, sd_states)\n",
      "sd_DA = nest.Create('spike_detector', 1)\n",
      "nest.Connect(DA_neurons, sd_DA, 'all_to_all')\n",
      "sd_critic = nest.Create('spike_detector', 1)\n",
      "nest.Connect(critic, sd_critic, 'all_to_all')\n",
      "\n",
      "\n",
      "# Create noise\n",
      "noise = nest.Create('poisson_generator', 1, {'rate': 65000.})\n",
      "nest.Connect(noise, all_states, 'all_to_all', {'weight': 1.})\n",
      "nest.Connect(noise, DA_neurons, 'all_to_all', {'weight': 1.})\n"
     ],
     "language": "python",
     "metadata": {},
     "outputs": [],
     "prompt_number": 3
    },
    {
     "cell_type": "code",
     "collapsed": false,
     "input": [
      "def plot_values(fig, ax, position):\n",
      "    plt.cla()\n",
      "    \n",
      "    values_plot = []      \n",
      "    \n",
      "    for i in range(world_dim['y']):\n",
      "        values_plot.append([])\n",
      "        for j in range(world_dim['x']):\n",
      "            values_plot[i].append(np.mean(nest.GetStatus(nest.GetConnections(states[j][i], critic), 'weight')))\n",
      "            if len(actions) == 4:\n",
      "                q_north = np.mean(nest.GetStatus(nest.GetConnections(states[j][i], actions[0]), 'weight'))\n",
      "                q_east = np.mean(nest.GetStatus(nest.GetConnections(states[j][i], actions[1]), 'weight'))\n",
      "                q_south = np.mean(nest.GetStatus(nest.GetConnections(states[j][i], actions[2]), 'weight'))\n",
      "                q_west = np.mean(nest.GetStatus(nest.GetConnections(states[j][i], actions[3]), 'weight'))\n",
      "                ax.arrow(j, i, (q_east-q_west)/10., (q_south-q_north)/10., head_width=0.05, head_length=0.1, fc='k', ec='k')\n",
      "            else:\n",
      "                q_east = np.mean(nest.GetStatus(nest.GetConnections(states[j][i], actions[0]), 'weight'))\n",
      "                q_west = np.mean(nest.GetStatus(nest.GetConnections(states[j][i], actions[1]), 'weight'))\n",
      "                ax.arrow(j, i, (q_west-q_east)/10., 0., head_width=0.05, head_length=0.1, fc='k', ec='k')\n",
      "\n",
      "    \n",
      "    values_plot = np.array(values_plot)\n",
      "    \n",
      "    plt.imshow(values_plot, interpolation='none', vmax=10, vmin=-10)\n",
      "    \n",
      "    xlabels = np.arange(0, len(states))\n",
      "    ylabels = np.arange(0, len(states[0]))\n",
      "\n",
      "    # Set the major ticks at the centers and minor tick at the edges\n",
      "    xlocs = np.arange(len(xlabels))\n",
      "    ylocs = np.arange(len(ylabels))\n",
      "    ax.xaxis.set_ticks(xlocs + 0.5, minor=True)\n",
      "    ax.xaxis.set(ticks=xlocs, ticklabels=xlabels)\n",
      "    ax.yaxis.set_ticks(ylocs + 0.5, minor=True)\n",
      "    ax.yaxis.set(ticks=ylocs, ticklabels=ylabels)\n",
      "    \n",
      "    # Turn on the grid for the minor ticks\n",
      "    ax.grid(True, which='minor', linestyle='-', linewidth=2)   \n",
      "    \n",
      "    for txt in ax.texts:\n",
      "        txt.set_visible(False)\n",
      "        \n",
      "    ax.annotate(\".\", ((position['x'] + 0.5)/len(states), (1-(position['y'] + 0.5)/len(states[0]))), size=160, textcoords='axes fraction', color='white')\n",
      "    plt.draw()\n",
      "    "
     ],
     "language": "python",
     "metadata": {},
     "outputs": [],
     "prompt_number": 4
    },
    {
     "cell_type": "code",
     "collapsed": false,
     "input": [
      "\n",
      "# Main loop\n",
      "actions_executed = 0\n",
      "last_action_time = 0\n",
      "in_end_position = False\n",
      "\n",
      "# interactive plotting\n",
      "fig, ax = plt.subplots()\n",
      "plt.ion()\n",
      "    \n",
      "while actions_executed < NUM_ITERATIONS:\n",
      "    position = env.get_agent_pos().copy()\n",
      "\n",
      "    # plotting\n",
      "    plot_values(fig, ax, position)\n",
      "    \n",
      "    if not in_end_position:\n",
      "        nest.SetStatus(nest.GetConnections(stimulus, states[position['x']][position['y']]), {'weight': 1.})\n",
      "        \n",
      "        nest.SetStatus(wta_noise, {'rate': 3000.})\n",
      "\n",
      "        nest.Simulate(400)\n",
      "        max_rate = -1\n",
      "        chosen_action = -1\n",
      "        for i in range(len(sd_actions)):\n",
      "            rate = len([e for e in nest.GetStatus([sd_actions[i]], keys='events')[0]['times'] if e > last_action_time]) # calc the \"firerate\" of each actor population\n",
      "            if rate > max_rate:\n",
      "                max_rate = rate # the population with the hightes rate wins\n",
      "                chosen_action = i\n",
      "        nest.SetStatus(stimulus, {'rate': 5000.})\n",
      "\n",
      "        possible_actions = env.get_possible_actions() \n",
      "\n",
      "        new_position, outcome, in_end_position = env.move(possible_actions[chosen_action])\n",
      "\n",
      "        print \"iteration:\", actions_executed, \"action:\", chosen_action \n",
      "        print \"new pos:\", new_position, \"reward:\", outcome\n",
      "        \n",
      "        values = []\n",
      "        for s in states:\n",
      "            for ss in s:\n",
      "                values.append(np.mean(nest.GetStatus(nest.GetConnections(ss, critic), 'weight')))\n",
      "\n",
      "        print \"values\", values\n",
      "        \n",
      "        # stimulate new state\n",
      "        nest.SetStatus(nest.GetConnections(stimulus, states[position['x']][position['y']]), {'weight': 0.})\n",
      "        nest.SetStatus(nest.GetConnections(stimulus, states[new_position['x']][new_position['y']]), {'weight': 1.})\n",
      "\n",
      "         \n",
      "        # apply reward\n",
      "        nest.SetStatus(nest.GetConnections(reward_stimulus, DA_neurons), {'weight': float(outcome)* 10})\n",
      "        nest.SetStatus(wta_noise, {'rate': 0.})\n",
      "        \n",
      "        # refactory time\n",
      "        nest.Simulate(100.)\n",
      "        \n",
      "        nest.SetStatus(nest.GetConnections(reward_stimulus, DA_neurons), {'weight': 0.0})\n",
      "              \n",
      "        last_action_time += 500\n",
      "        actions_executed += 1\n",
      "    else:      \n",
      "        _, in_end_position = env.init_new_trial()\n",
      "        nest.SetStatus(nest.GetConnections(stimulus, states[position['x']][position['y']]), {'weight': 0.})\n",
      "\n",
      "\n",
      "rplt.from_device(sd_wta, title=\"WTA circuit\")\n",
      "rplt.from_device(sd_states, title=\"States\")\n",
      "rplt.from_device(sd_DA, title=\"DA pool\")\n",
      "rplt.from_device(sd_critic, title=\"Critic\")\n",
      "rplt.show()\n",
      "    "
     ],
     "language": "python",
     "metadata": {},
     "outputs": [
      {
       "output_type": "stream",
       "stream": "stdout",
       "text": [
        "/usr/lib/pymodules/python2.7/matplotlib/patches.py:1054: RuntimeWarning: invalid value encountered in double_scalars\n",
        "/usr/lib/pymodules/python2.7/matplotlib/patches.py:1055: RuntimeWarning: invalid value encountered in double_scalars\n",
        "iteration:"
       ]
      },
      {
       "output_type": "stream",
       "stream": "stdout",
       "text": [
        " 0 action: 1\n",
        "new pos: {'y': 0, 'x': 1} reward: 0\n",
        "values"
       ]
      },
      {
       "output_type": "stream",
       "stream": "stdout",
       "text": [
        " [-0.094547532456557962, -0.0013496119047110397, -0.0057897456158332175, -0.007338927634976288, -0.0042467555085730557, -0.0026077761755723947, -0.0078943964701616489, -0.0025449017242111008, -0.0029632675484823541]\n",
        "iteration:"
       ]
      },
      {
       "output_type": "stream",
       "stream": "stdout",
       "text": [
        " 1 action: 2\n",
        "new pos: {'y': 1, 'x': 1} reward: 0\n",
        "values"
       ]
      },
      {
       "output_type": "stream",
       "stream": "stdout",
       "text": [
        " [-0.10403863909680569, -0.0037217505120364274, -0.007918566592200171, -0.031108388988715145, -0.0050001410899110565, -0.0039287179075842265, -0.0094491240134731268, -0.0042436451907845972, -0.0046926715371582084]\n",
        "iteration:"
       ]
      },
      {
       "output_type": "stream",
       "stream": "stdout",
       "text": [
        " 2 action: 2\n",
        "new pos: {'y': 2, 'x': 1} reward: 0\n",
        "values"
       ]
      },
      {
       "output_type": "stream",
       "stream": "stdout",
       "text": [
        " [-0.10542370730699362, -0.0032841885111432158, -0.0083454234813269742, -0.035372737217455125, -0.030218629283193132, -0.0045176347767493623, -0.01214435222806833, -0.003000989878085517, -0.0026360825098018311]\n",
        "iteration:"
       ]
      },
      {
       "output_type": "stream",
       "stream": "stdout",
       "text": [
        " 3 action: 1\n",
        "new pos: {'y': 2, 'x': 2} reward: 1.0\n",
        "values"
       ]
      },
      {
       "output_type": "stream",
       "stream": "stdout",
       "text": [
        " [-0.10871602080133146, -0.0040317591136573277, -0.010121624972805852, -0.034911498451934052, -0.033784016929106285, -0.0057218752842655299, -0.012093567029704972, -0.00092890097361615187, -0.0025724221653909726]\n",
        "iteration:"
       ]
      },
      {
       "output_type": "stream",
       "stream": "stdout",
       "text": [
        " 4 action: 3\n",
        "new pos: {'y': 0, 'x': 0} reward: -1\n",
        "values"
       ]
      },
      {
       "output_type": "stream",
       "stream": "stdout",
       "text": [
        " [0.69885277935295675, 0.36096438619145638, 0.16801888862202707, 0.23932802537874656, 0.014556748472559011, 1.1750603187865036, 0.28959107991547822, 0.33798542439262053, 2.4703284596309341]\n",
        "iteration:"
       ]
      },
      {
       "output_type": "stream",
       "stream": "stdout",
       "text": [
        " 5 action: 2\n",
        "new pos: {'y': 1, 'x': 0} reward: 0\n",
        "values"
       ]
      },
      {
       "output_type": "stream",
       "stream": "stdout",
       "text": [
        " [0.43304173013845748, 0.33331676474049615, 0.16693668861960304, 0.22151992975621704, 0.00036958460754796626, 1.1766812120439072, 0.28418015370207167, 0.31673075691359326, 2.4608878701819887]\n",
        "iteration:"
       ]
      },
      {
       "output_type": "stream",
       "stream": "stdout",
       "text": [
        " 6 action: 2\n",
        "new pos: {'y': 2, 'x': 0} reward: 0\n",
        "values"
       ]
      },
      {
       "output_type": "stream",
       "stream": "stdout",
       "text": [
        " [0.44168408092026001, 0.2248845428069926, 0.16104796134819122, 0.21228470504766506, -0.00067125021205475708, 1.1727499289220413, 0.28422986209431705, 0.30924233274285823, 2.4511265298531795]\n",
        "iteration:"
       ]
      },
      {
       "output_type": "stream",
       "stream": "stdout",
       "text": [
        " 7 action: 1\n",
        "new pos: {'y': 2, 'x': 1} reward: 0\n",
        "values"
       ]
      },
      {
       "output_type": "stream",
       "stream": "stdout",
       "text": [
        " [0.43152090544305821, 0.19739787502459363, -0.01623449061270121, 0.20052387519484219, -0.012847537884823193, 1.1691591715803344, 0.27343768526751833, 0.304594313359907, 2.4356191006675783]\n",
        "iteration:"
       ]
      },
      {
       "output_type": "stream",
       "stream": "stdout",
       "text": [
        " 8 action: 1\n",
        "new pos: {'y': 2, 'x': 2} reward: 1.0\n",
        "values"
       ]
      },
      {
       "output_type": "stream",
       "stream": "stdout",
       "text": [
        " [0.43632729268896986, 0.19431904247286674, 0.00014638001800990679, 0.20096425202132387, -0.015478534275787706, 1.1188554079898356, 0.2776208239381186, 0.30252112996871477, 2.4366576800831719]\n",
        "iteration:"
       ]
      },
      {
       "output_type": "stream",
       "stream": "stdout",
       "text": [
        " 9 action: 3\n",
        "new pos: {'y': 0, 'x': 0} reward: -1\n",
        "values"
       ]
      },
      {
       "output_type": "stream",
       "stream": "stdout",
       "text": [
        " [1.2395214024359329, 0.74717033803721944, 0.18700107782633588, 0.93696473300011651, 0.65243104880027947, 2.8402434190325496, 0.45136843396911047, 0.90558313857725248, 3.6104180261011383]\n",
        "iteration:"
       ]
      },
      {
       "output_type": "stream",
       "stream": "stdout",
       "text": [
        " 10 action: 1\n",
        "new pos: {'y': 0, 'x': 1} reward: 0\n",
        "values"
       ]
      },
      {
       "output_type": "stream",
       "stream": "stdout",
       "text": [
        " [0.63580835327237073, 0.73925515895114313, 0.15091806273746722, 0.91197553270176812, 0.61395584898145494, 2.80588925089741, 0.39631276181690717, 0.86324064788888799, 3.5801140441920443]\n",
        "iteration:"
       ]
      },
      {
       "output_type": "stream",
       "stream": "stdout",
       "text": [
        " 11 action: 1\n",
        "new pos: {'y': 0, 'x': 2} reward: 0\n",
        "values"
       ]
      },
      {
       "output_type": "stream",
       "stream": "stdout",
       "text": [
        " [0.61538835382726043, 0.72078179366190021, 0.1408167952414256, 0.67273649368796851, 0.61169116410839919, 2.7914837264610202, 0.38910890909274565, 0.85061217208894369, 3.5654094100862306]\n",
        "iteration:"
       ]
      },
      {
       "output_type": "stream",
       "stream": "stdout",
       "text": [
        " 12 action: 1\n",
        "new pos: {'y': 0, 'x': 2} reward: -1\n",
        "values"
       ]
      },
      {
       "output_type": "stream",
       "stream": "stdout",
       "text": [
        " [0.61739855799671983, 0.72169561742899613, 0.14125523784082966, 0.65870250517181594, 0.61078403449450291, 2.7909405859120673, 0.37944859337040054, 0.84715812640995991, 3.5629248146898957]\n",
        "iteration:"
       ]
      },
      {
       "output_type": "stream",
       "stream": "stdout",
       "text": [
        " 13 action: 2\n",
        "new pos: {'y': 1, 'x': 2} reward: 0\n",
        "values"
       ]
      },
      {
       "output_type": "stream",
       "stream": "stdout",
       "text": [
        " [0.59999764184468041, 0.71442670357736637, 0.12395642488260471, 0.63607192198604356, 0.58355704499845329, 2.7732873822241797, 0.10509626962308607, 0.84037535501808691, 3.5602285137368122]\n",
        "iteration:"
       ]
      },
      {
       "output_type": "stream",
       "stream": "stdout",
       "text": [
        " 14 action: 1\n",
        "new pos: {'y': 1, 'x': 2} reward: -1\n",
        "values"
       ]
      },
      {
       "output_type": "stream",
       "stream": "stdout",
       "text": [
        " [0.60118531323034619, 0.7089629483149481, 0.12313599967624667, 0.63178574264851894, 0.58282771442051773, 2.7666133294233899, 0.084826885782684394, 0.78728081899828206, 3.5533750942160607]\n",
        "iteration:"
       ]
      },
      {
       "output_type": "stream",
       "stream": "stdout",
       "text": [
        " 15 action: 1\n",
        "new pos: {'y': 1, 'x': 2} reward: -1\n",
        "values"
       ]
      },
      {
       "output_type": "stream",
       "stream": "stdout",
       "text": [
        " [0.57926717379296078, 0.70573920671481782, 0.099904679051659964, 0.59397953317208962, 0.56312456780433973, 2.7501928183808162, 0.064721973265954885, 0.41767408716790239, 3.5362782812292219]\n",
        "iteration:"
       ]
      },
      {
       "output_type": "stream",
       "stream": "stdout",
       "text": [
        " 16 action: 1\n",
        "new pos: {'y': 1, 'x': 2} reward: -1\n",
        "values"
       ]
      },
      {
       "output_type": "stream",
       "stream": "stdout",
       "text": [
        " [0.56785634493816572, 0.69289691034297674, 0.088001845444936277, 0.58702382758995808, 0.54687909602446283, 2.7243717703212158, 0.056575887845282766, 0.079491101910622294, 3.5098135261931911]\n",
        "iteration:"
       ]
      },
      {
       "output_type": "stream",
       "stream": "stdout",
       "text": [
        " 17 action: 3\n",
        "new pos: {'y': 1, 'x': 1} reward: 0\n",
        "values"
       ]
      },
      {
       "output_type": "stream",
       "stream": "stdout",
       "text": [
        " [0.53513671485669956, 0.68553413624321324, 0.060586471455624895, 0.5726748304642687, 0.530685180560169, 2.6993947296273531, 0.047296056580996615, -0.21698609845633404, 3.4914991654961089]\n",
        "iteration:"
       ]
      },
      {
       "output_type": "stream",
       "stream": "stdout",
       "text": [
        " 18 action: 2\n",
        "new pos: {'y': 2, 'x': 1} reward: 0\n",
        "values"
       ]
      },
      {
       "output_type": "stream",
       "stream": "stdout",
       "text": [
        " [0.53247517336669814, 0.67941809583200496, 0.057714655342643285, 0.56440956220021365, 0.44137428823996028, 2.6970927094904154, 0.040321795760681782, -0.20757879639189677, 3.4879986585540679]\n",
        "iteration:"
       ]
      },
      {
       "output_type": "stream",
       "stream": "stdout",
       "text": [
        " 19 action: 1\n",
        "new pos: {'y': 2, 'x': 2} reward: 1.0\n",
        "values"
       ]
      },
      {
       "output_type": "stream",
       "stream": "stdout",
       "text": [
        " [0.51638351557500939, 0.66553476549977697, 0.044182153198117059, 0.53025035112663044, 0.41656599955474904, 2.3004559084603806, 0.012676098013637708, -0.21832067256645823, 3.4623645783696713]\n",
        "iteration:"
       ]
      },
      {
       "output_type": "stream",
       "stream": "stdout",
       "text": [
        " 20 action: 0\n",
        "new pos: {'y': 0, 'x': 0} reward: -1\n",
        "values"
       ]
      },
      {
       "output_type": "stream",
       "stream": "stdout",
       "text": [
        " [2.211493135240683, 1.1614989336469235, 1.2178786050166186, 1.0749943713509733, 0.86219889164359498, 4.1029979165132966, 0.27256891350556667, -0.040413921852888453, 5.494650882314092]\n",
        "iteration:"
       ]
      },
      {
       "output_type": "stream",
       "stream": "stdout",
       "text": [
        " 21 action: 1\n",
        "new pos: {'y': 0, 'x': 1} reward: 0\n",
        "values"
       ]
      },
      {
       "output_type": "stream",
       "stream": "stdout",
       "text": [
        " [1.3836231185829397, 1.1186104775856203, 1.1680719944873301, 1.0219360388313732, 0.82814704922630156, 4.039993382307701, 0.23573761466883089, -0.069542658303790583, 5.4591372278101522]\n",
        "iteration:"
       ]
      },
      {
       "output_type": "stream",
       "stream": "stdout",
       "text": [
        " 22 action: 1\n",
        "new pos: {'y': 0, 'x': 2} reward: 0\n",
        "values"
       ]
      },
      {
       "output_type": "stream",
       "stream": "stdout",
       "text": [
        " [1.4186599221773308, 1.1165658947044972, 1.1690697383663271, 0.89846821534326538, 0.82901196058480808, 4.0342206906292661, 0.22262085286715161, -0.070292106267928658, 5.4527823565177789]\n",
        "iteration:"
       ]
      },
      {
       "output_type": "stream",
       "stream": "stdout",
       "text": [
        " 23 action: 1\n",
        "new pos: {'y': 0, 'x': 2} reward: -1\n",
        "values"
       ]
      },
      {
       "output_type": "stream",
       "stream": "stdout",
       "text": [
        " [1.4165616259440998, 1.1176309415418799, 1.162408365019765, 0.91484760604316107, 0.83213559020041006, 4.0326165402347085, 0.19405479109723545, -0.076881914052514308, 5.4495584797030316]\n",
        "iteration:"
       ]
      },
      {
       "output_type": "stream",
       "stream": "stdout",
       "text": [
        " 24 action: 3\n",
        "new pos: {'y': 0, 'x': 1} reward: 0\n",
        "values"
       ]
      },
      {
       "output_type": "stream",
       "stream": "stdout",
       "text": [
        " [1.4025981283194771, 1.0725137700094736, 1.1345193063049837, 0.87411404729515774, 0.81733538547438211, 4.0101629200945954, -0.21076200521594632, -0.094695129126960376, 5.4180451643665615]\n",
        "iteration:"
       ]
      },
      {
       "output_type": "stream",
       "stream": "stdout",
       "text": [
        " 25 action: 0\n",
        "new pos: {'y': 0, 'x': 1} reward: -1\n",
        "values"
       ]
      },
      {
       "output_type": "stream",
       "stream": "stdout",
       "text": [
        " [1.3904949053738589, 1.0670024514924463, 1.1192133312940846, 0.47783713203500194, 0.80181792179968925, 3.9800116152333653, -0.25796550120701617, -0.11463678425367564, 5.3898724577234685]\n",
        "iteration:"
       ]
      },
      {
       "output_type": "stream",
       "stream": "stdout",
       "text": [
        " 26 action: 3\n",
        "new pos: {'y': 0, 'x': 0} reward: 0\n",
        "values"
       ]
      },
      {
       "output_type": "stream",
       "stream": "stdout",
       "text": [
        " [1.380821113408282, 1.0551071542794117, 1.1054606219357597, 0.28907377006035284, 0.80044843361551843, 3.9575744529791956, -0.26092834417409899, -0.12818661199522746, 5.3765495806529886]\n",
        "iteration:"
       ]
      },
      {
       "output_type": "stream",
       "stream": "stdout",
       "text": [
        " 27 action: 2\n",
        "new pos: {'y': 1, 'x': 0} reward: 0\n",
        "values"
       ]
      },
      {
       "output_type": "stream",
       "stream": "stdout",
       "text": [
        " [1.2007328909446189, 1.0672474788248834, 1.0819780487673611, 0.27450053118740225, 0.80795554541086778, 3.9523985640813519, -0.26530635146137971, -0.11583692358745913, 5.3652047122102697]\n",
        "iteration:"
       ]
      },
      {
       "output_type": "stream",
       "stream": "stdout",
       "text": [
        " 28 action: 1\n",
        "new pos: {'y': 1, 'x': 1} reward: 0\n",
        "values"
       ]
      },
      {
       "output_type": "stream",
       "stream": "stdout",
       "text": [
        " [1.1640692496803513, 0.98077252042079222, 1.0815938318662539, 0.2725658608510928, 0.80249228950286033, 3.9489286613771508, -0.26177066403928967, -0.12790213382819055, 5.3571707175193986]\n",
        "iteration:"
       ]
      },
      {
       "output_type": "stream",
       "stream": "stdout",
       "text": [
        " 29 action: 1\n",
        "new pos: {'y': 1, 'x': 2} reward: 0\n",
        "values"
       ]
      },
      {
       "output_type": "stream",
       "stream": "stdout",
       "text": [
        " [1.1575598985124662, 0.94397420161119583, 1.0732668485680776, 0.25203189823362127, 0.7149025398419695, 3.9436203570018762, -0.26356416329783139, -0.14101662543117399, 5.3509351814669435]\n",
        "iteration:"
       ]
      },
      {
       "output_type": "stream",
       "stream": "stdout",
       "text": [
        " 30 action: 1\n",
        "new pos: {'y': 1, 'x': 2} reward: -1\n",
        "values"
       ]
      },
      {
       "output_type": "stream",
       "stream": "stdout",
       "text": [
        " [1.1545179091848634, 0.9389738923795633, 1.0667167527743, 0.24610636312251369, 0.71160911469757138, 3.9379116963384981, -0.26418865745462478, -0.21680094987724724, 5.34615625244989]\n",
        "iteration:"
       ]
      },
      {
       "output_type": "stream",
       "stream": "stdout",
       "text": [
        " 31 action: 0\n",
        "new pos: {'y': 0, 'x': 2} reward: 0\n",
        "values"
       ]
      },
      {
       "output_type": "stream",
       "stream": "stdout",
       "text": [
        " [1.1492150221129476, 0.92957716708198612, 1.0646809189865445, 0.24199250230359726, 0.69809375103933557, 3.9279147291022345, -0.27961419955413985, -0.43088706515019226, 5.3380751515211502]\n",
        "iteration:"
       ]
      },
      {
       "output_type": "stream",
       "stream": "stdout",
       "text": [
        " 32 action: 3\n",
        "new pos: {'y': 0, 'x': 1} reward: 0\n",
        "values"
       ]
      },
      {
       "output_type": "stream",
       "stream": "stdout",
       "text": [
        " [1.1392637538424319, 0.92731662556786443, 1.054117043132609, 0.23657969442050164, 0.69254736114453974, 3.9236352889210115, -0.36478282785742216, -0.43837076662995023, 5.333490901670527]\n",
        "iteration:"
       ]
      },
      {
       "output_type": "stream",
       "stream": "stdout",
       "text": [
        " 33 action: 1\n",
        "new pos: {'y': 0, 'x': 2} reward: 0\n",
        "values"
       ]
      },
      {
       "output_type": "stream",
       "stream": "stdout",
       "text": [
        " [1.1309128684909842, 0.92343570637127048, 1.0485526008088395, 0.090420989525119497, 0.68338715322310739, 3.9067842416406231, -0.38456783225080504, -0.4469095579243027, 5.3151117897074993]\n",
        "iteration:"
       ]
      },
      {
       "output_type": "stream",
       "stream": "stdout",
       "text": [
        " 34 action: 1\n",
        "new pos: {'y': 0, 'x': 2} reward: -1\n",
        "values"
       ]
      },
      {
       "output_type": "stream",
       "stream": "stdout",
       "text": [
        " [1.1288373059122734, 0.91586655796094296, 1.0483936659866739, 0.080952031912217337, 0.68029225847472241, 3.9057824351844039, -0.43500290573892947, -0.4497034042177051, 5.3090024191077756]\n",
        "iteration:"
       ]
      },
      {
       "output_type": "stream",
       "stream": "stdout",
       "text": [
        " 35 action: 2\n",
        "new pos: {'y': 1, 'x': 2} reward: 0\n",
        "values"
       ]
      },
      {
       "output_type": "stream",
       "stream": "stdout",
       "text": [
        " [1.1236597046941712, 0.90482527668281876, 1.0403225472273232, 0.066597322967933276, 0.67549869969691168, 3.903087636809123, -0.6116987517512531, -0.45862858936478773, 5.2969230412886334]\n",
        "iteration:"
       ]
      },
      {
       "output_type": "stream",
       "stream": "stdout",
       "text": [
        " 36 action: 1\n",
        "new pos: {'y': 1, 'x': 2} reward: -1\n",
        "values"
       ]
      },
      {
       "output_type": "stream",
       "stream": "stdout",
       "text": [
        " [1.1082930632497079, 0.89122226901341439, 1.0356028465371296, 0.052630363353655417, 0.6626704553768793, 3.8934523126633538, -0.62363036052147713, -0.69943314346210261, 5.2782047149117615]\n",
        "iteration:"
       ]
      },
      {
       "output_type": "stream",
       "stream": "stdout",
       "text": [
        " 37 action: 3\n",
        "new pos: {'y': 1, 'x': 1} reward: 0\n",
        "values"
       ]
      },
      {
       "output_type": "stream",
       "stream": "stdout",
       "text": [
        " [1.0999642790863018, 0.87928143220432398, 1.0192851542725352, 0.035209519143123126, 0.65387305854591671, 3.8804182241840262, -0.63344364529337294, -0.96729522237850263, 5.2656158092189891]\n",
        "iteration:"
       ]
      },
      {
       "output_type": "stream",
       "stream": "stdout",
       "text": [
        " 38 action: 1\n",
        "new pos: {'y': 1, 'x': 2} reward: 0\n",
        "values"
       ]
      },
      {
       "output_type": "stream",
       "stream": "stdout",
       "text": [
        " [1.0980594935943948, 0.87651878240291081, 1.0119570708825729, 0.028914142290012386, 0.56976197674071183, 3.8748416814325704, -0.63999260314387496, -0.97974902296007282, 5.2614079756829755]\n",
        "iteration:"
       ]
      },
      {
       "output_type": "stream",
       "stream": "stdout",
       "text": [
        " 39 action: 2\n",
        "new pos: {'y': 2, 'x': 2} reward: 1.0\n",
        "values"
       ]
      },
      {
       "output_type": "stream",
       "stream": "stdout",
       "text": [
        " [1.0949956066053632, 0.87475518072572755, 1.0088385358414842, 0.02611470568155615, 0.55419608847560631, 3.871060156691704, -0.64427433348085295, -1.0154165689881878, 5.2584343346853837]\n",
        "iteration:"
       ]
      },
      {
       "output_type": "stream",
       "stream": "stdout",
       "text": [
        " 40 action: 2\n",
        "new pos: {'y': 1, 'x': 0} reward: 0\n",
        "values"
       ]
      },
      {
       "output_type": "stream",
       "stream": "stdout",
       "text": [
        " [2.462842300030565, 1.4070890213282587, 1.1014019100375603, 0.95396898009721998, 1.1994419386504998, 3.8742374005303368, 0.4528448707613712, 3.8353005583874507, 6.4825991220502468]\n",
        "iteration:"
       ]
      },
      {
       "output_type": "stream",
       "stream": "stdout",
       "text": [
        " 41 action: 0\n",
        "new pos: {'y': 0, 'x': 0} reward: 0\n",
        "values"
       ]
      },
      {
       "output_type": "stream",
       "stream": "stdout",
       "text": [
        " [2.398495862559348, 1.1316011769975822, 1.0841196952356356, 0.93014794186044492, 1.1882228905696572, 3.8475603601614492, 0.44396921315471999, 3.8209329383215707, 6.4559293997471165]\n",
        "iteration:"
       ]
      },
      {
       "output_type": "stream",
       "stream": "stdout",
       "text": [
        " 42 action: 2\n",
        "new pos: {'y': 1, 'x': 0} reward: 0\n",
        "values"
       ]
      },
      {
       "output_type": "stream",
       "stream": "stdout",
       "text": [
        " [1.8544366574997189, 1.1078280691493287, 1.0583523687744332, 0.90371776927815783, 1.163584374037842, 3.8021158209561343, 0.41405043198817942, 3.8004640526984836, 6.4154632170327757]\n",
        "iteration:"
       ]
      },
      {
       "output_type": "stream",
       "stream": "stdout",
       "text": [
        " 43 action: 3\n",
        "new pos: {'y': 1, 'x': 0} reward: -1\n",
        "values"
       ]
      },
      {
       "output_type": "stream",
       "stream": "stdout",
       "text": [
        " [1.78200860603217, 0.77093946124392398, 1.0379411459638186, 0.88085104059511743, 1.1461885863792716, 3.792205944932451, 0.39890788745281619, 3.7772564070188501, 6.4000361640204178]\n",
        "iteration:"
       ]
      },
      {
       "output_type": "stream",
       "stream": "stdout",
       "text": [
        " 44 action: 1\n",
        "new pos: {'y': 1, 'x': 1} reward: 0\n",
        "values"
       ]
      },
      {
       "output_type": "stream",
       "stream": "stdout",
       "text": [
        " [1.779998165640077, 0.37912207111550122, 1.0394628189854385, 0.86413579124399098, 1.1317092536201019, 3.7729779069833538, 0.36630405581196857, 3.760647886877198, 6.3741840193421622]\n",
        "iteration:"
       ]
      },
      {
       "output_type": "stream",
       "stream": "stdout",
       "text": [
        " 45 action: 0\n",
        "new pos: {'y': 0, 'x': 1} reward: 0\n",
        "values"
       ]
      },
      {
       "output_type": "stream",
       "stream": "stdout",
       "text": [
        " [1.7742051703293387, 0.33266428720661884, 1.0310548368950641, 0.849668941285049, 0.95873309977785992, 3.7623067819174341, 0.35979762455629216, 3.7616060737657486, 6.3658866363342517]\n",
        "iteration:"
       ]
      },
      {
       "output_type": "stream",
       "stream": "stdout",
       "text": [
        " 46 action: 2\n",
        "new pos: {'y': 1, 'x': 1} reward: 0\n",
        "values"
       ]
      },
      {
       "output_type": "stream",
       "stream": "stdout",
       "text": [
        " [1.7605942102725474, 0.31219088985173765, 1.0144790036495885, 0.71686867361022799, 0.94306953616046607, 3.7442681612612754, 0.35737106218528775, 3.7535454119594749, 6.3437006437594645]\n",
        "iteration:"
       ]
      },
      {
       "output_type": "stream",
       "stream": "stdout",
       "text": [
        " 47 action: 1\n",
        "new pos: {'y': 1, 'x': 2} reward: 0\n",
        "values"
       ]
      },
      {
       "output_type": "stream",
       "stream": "stdout",
       "text": [
        " [1.7470987148425763, 0.29108077278089767, 0.99740962980878367, 0.67031870831416873, 0.68203174847834125, 3.722739897639411, 0.33742181204352645, 3.7289466746284892, 6.3155036518918797]\n",
        "iteration:"
       ]
      },
      {
       "output_type": "stream",
       "stream": "stdout",
       "text": [
        " 48 action: 2\n",
        "new pos: {'y': 2, 'x': 2} reward: 1.0\n",
        "values"
       ]
      },
      {
       "output_type": "stream",
       "stream": "stdout",
       "text": [
        " [1.7327840212122372, 0.27546369320455233, 0.95868911325088713, 0.63539372492448754, 0.68223760013917067, 3.6995985511912117, 0.2860257526047843, 3.3033017346624103, 6.2735433022043567]\n",
        "iteration:"
       ]
      },
      {
       "output_type": "stream",
       "stream": "stdout",
       "text": [
        " 49 action: 2\n",
        "new pos: {'y': 1, 'x': 0} reward: 0\n",
        "values"
       ]
      },
      {
       "output_type": "stream",
       "stream": "stdout",
       "text": [
        " [3.25719213016411, 1.5801506790866306, 1.3229049273406275, 1.186145822533309, 0.83521198511962846, 3.8781785186125033, 1.097380286503377, 5.9376621795542803, 6.8737349286512961]\n",
        "iteration:"
       ]
      },
      {
       "output_type": "stream",
       "stream": "stdout",
       "text": [
        " 50 action: 1\n",
        "new pos: {'y': 1, 'x': 1} reward: 0\n",
        "values"
       ]
      },
      {
       "output_type": "stream",
       "stream": "stdout",
       "text": [
        " [3.3129724951178292, 1.2264038951118248, 1.2985111848022568, 1.1718703390329364, 0.84242072361322073, 3.8578744634560902, 1.0799270066097235, 5.8993497600792857, 6.8617471108494126]\n",
        "iteration:"
       ]
      },
      {
       "output_type": "stream",
       "stream": "stdout",
       "text": [
        " 51 action: 2\n",
        "new pos: {'y': 2, 'x': 1} reward: 0\n",
        "values"
       ]
      },
      {
       "output_type": "stream",
       "stream": "stdout",
       "text": [
        " [3.3030882045502206, 1.2054188395926126, 1.2993505828739651, 1.1666994302124405, 0.78175665503331848, 3.8525583618561692, 1.0772496741759279, 5.894725661233533, 6.8557214434419285]\n",
        "iteration:"
       ]
      },
      {
       "output_type": "stream",
       "stream": "stdout",
       "text": [
        " 52 action: 1\n",
        "new pos: {'y': 2, 'x': 2} reward: 1.0\n",
        "values"
       ]
      },
      {
       "output_type": "stream",
       "stream": "stdout",
       "text": [
        " [3.3043786002550046, 1.1790510092665127, 1.2803324206756874, 1.1274149135390794, 0.71500172877876311, 3.6452721277698026, 1.0752268420424911, 5.8707553898548497, 6.8402020995630721]\n",
        "iteration:"
       ]
      },
      {
       "output_type": "stream",
       "stream": "stdout",
       "text": [
        " 53 action: 0\n",
        "new pos: {'y': 0, 'x': 0} reward: -1\n",
        "values"
       ]
      },
      {
       "output_type": "stream",
       "stream": "stdout",
       "text": [
        " [4.8403422465880013, 1.4403536255976981, 1.8171121354204711, 2.4256367754663075, 2.5753734656379867, 6.1328756417750041, 1.5456023098965177, 5.8666855731229886, 7.5067419067607384]\n",
        "iteration:"
       ]
      },
      {
       "output_type": "stream",
       "stream": "stdout",
       "text": [
        " 54 action: 2\n",
        "new pos: {'y': 1, 'x': 0} reward: 0\n",
        "values"
       ]
      },
      {
       "output_type": "stream",
       "stream": "stdout",
       "text": [
        " [4.1031464711135337, 1.3732990963382847, 1.768725975354442, 2.3910673828271429, 2.5527277678819211, 6.0954155202489861, 1.5150057808247739, 5.8549013255758382, 7.4710911607255905]\n",
        "iteration:"
       ]
      },
      {
       "output_type": "stream",
       "stream": "stdout",
       "text": [
        " 55 action: 2\n",
        "new pos: {'y': 2, 'x': 0} reward: 0\n",
        "values"
       ]
      },
      {
       "output_type": "stream",
       "stream": "stdout",
       "text": [
        " [4.2207239037355793, 1.0381823903345209, 1.7557841495279229, 2.3810099607651143, 2.5386910068353812, 6.0846261737609773, 1.4911615134837404, 5.8455715327542466, 7.4507840568376151]\n",
        "iteration:"
       ]
      },
      {
       "output_type": "stream",
       "stream": "stdout",
       "text": [
        " 56 action: 2\n",
        "new pos: {'y': 2, 'x': 0} reward: -1\n",
        "values"
       ]
      },
      {
       "output_type": "stream",
       "stream": "stdout",
       "text": [
        " [4.2228237372085387, 0.99043775221385622, 1.5987394742239902, 2.3710678060490662, 2.5433079650404813, 6.0673945712367141, 1.4955539903580706, 5.8344835452495207, 7.4288522799960601]\n",
        "iteration:"
       ]
      },
      {
       "output_type": "stream",
       "stream": "stdout",
       "text": [
        " 57 action: 1\n",
        "new pos: {'y': 2, 'x': 1} reward: 0\n",
        "values"
       ]
      },
      {
       "output_type": "stream",
       "stream": "stdout",
       "text": [
        " [4.1765311226252768, 0.93801670566174467, 0.9117830808260583, 2.3430481748984988, 2.491393229165435, 6.032960214334862, 1.4663095622241833, 5.8015078417236161, 7.3738950941254622]\n",
        "iteration:"
       ]
      },
      {
       "output_type": "stream",
       "stream": "stdout",
       "text": [
        " 58 action: 1\n",
        "new pos: {'y': 2, 'x': 2} reward: 1.0\n",
        "values"
       ]
      },
      {
       "output_type": "stream",
       "stream": "stdout",
       "text": [
        " [4.1986360208189053, 0.95890247767109316, 0.98894655859680558, 2.3411708402600979, 2.5083925211528335, 6.1921770030688412, 1.4949883466015561, 5.8215779763713478, 7.3632951732047678]\n",
        "iteration:"
       ]
      },
      {
       "output_type": "stream",
       "stream": "stdout",
       "text": [
        " 59 action: 1\n",
        "new pos: {'y': 0, 'x': 1} reward: 0\n",
        "values"
       ]
      },
      {
       "output_type": "stream",
       "stream": "stdout",
       "text": [
        " [6.0192460819834599, 1.4648873522060575, 1.5898714716329791, 3.5924335719447273, 3.7292115736952023, 7.4699537203225121, 3.1569959161142678, 6.0722152756207013, 8.1784032007317151]\n",
        "iteration:"
       ]
      },
      {
       "output_type": "stream",
       "stream": "stdout",
       "text": [
        " 60 action: 3\n",
        "new pos: {'y': 0, 'x': 0} reward: 0\n",
        "values"
       ]
      },
      {
       "output_type": "stream",
       "stream": "stdout",
       "text": [
        " [6.0932145041205734, 1.4891015136434249, 1.580396914873988, 3.6424049778289986, 3.7261183818522365, 7.4707469346179103, 3.1538850618511338, 6.0644446105972927, 8.1658925446520811]\n",
        "iteration:"
       ]
      },
      {
       "output_type": "stream",
       "stream": "stdout",
       "text": [
        " 61 action: 1\n",
        "new pos: {'y': 0, 'x': 1} reward: 0\n",
        "values"
       ]
      },
      {
       "output_type": "stream",
       "stream": "stdout",
       "text": [
        " [6.023257332657443, 1.4843467726753758, 1.5800989867391737, 3.6887103717664158, 3.7066102399735197, 7.4271349662058777, 3.1278344976766088, 6.0589843208559246, 8.1476277443877745]\n",
        "iteration:"
       ]
      },
      {
       "output_type": "stream",
       "stream": "stdout",
       "text": [
        " 62 action: 3\n",
        "new pos: {'y': 0, 'x': 0} reward: 0\n",
        "values"
       ]
      },
      {
       "output_type": "stream",
       "stream": "stdout",
       "text": [
        " [5.9683950042448695, 1.4856109980886578, 1.5900827764253118, 3.7675263998407349, 3.6913022765973027, 7.4250771370408923, 3.1557919495104385, 6.0559592462613097, 8.1117546270030303]\n",
        "iteration:"
       ]
      },
      {
       "output_type": "stream",
       "stream": "stdout",
       "text": [
        " 63 action: 1\n",
        "new pos: {'y': 0, 'x': 1} reward: 0\n",
        "values"
       ]
      },
      {
       "output_type": "stream",
       "stream": "stdout",
       "text": [
        " [6.022561806517241, 1.5153750668872863, 1.6095731359954291, 3.7765582374833251, 3.7009956207145955, 7.4332154927150542, 3.1160042634669671, 6.0464892908183332, 8.0783588082082627]\n",
        "iteration:"
       ]
      },
      {
       "output_type": "stream",
       "stream": "stdout",
       "text": [
        " 64 action: 3\n",
        "new pos: {'y': 0, 'x': 0} reward: 0\n",
        "values"
       ]
      },
      {
       "output_type": "stream",
       "stream": "stdout",
       "text": [
        " [5.9447628394683809, 1.4703673662513825, 1.5559277062236352, 3.0599730951612854, 3.676374421156658, 7.4186297491601154, 3.0731737001648893, 6.0091074614026576, 8.0168055364117787]\n",
        "iteration:"
       ]
      },
      {
       "output_type": "stream",
       "stream": "stdout",
       "text": [
        " 65 action: 2\n",
        "new pos: {'y': 1, 'x': 0} reward: 0\n",
        "values"
       ]
      },
      {
       "output_type": "stream",
       "stream": "stdout",
       "text": [
        " [5.5515422239256731, 1.4495252412439725, 1.5106226128485694, 3.0324889101403478, 3.6389608984470678, 7.3732091782663458, 3.0681498689162727, 5.9932355292259576, 7.984937095235801]\n",
        "iteration:"
       ]
      },
      {
       "output_type": "stream",
       "stream": "stdout",
       "text": [
        " 66 action: 1\n",
        "new pos: {'y': 1, 'x': 1} reward: 0\n",
        "values"
       ]
      },
      {
       "output_type": "stream",
       "stream": "stdout",
       "text": [
        " [5.4863007418606156, 1.0597374991155093, 1.4810625246132676, 3.0219439198900093, 3.6150045297538811, 7.3437200241774967, 3.0496515731784264, 5.9484700174113687, 7.9775167857572056]\n",
        "iteration:"
       ]
      },
      {
       "output_type": "stream",
       "stream": "stdout",
       "text": [
        " 67 action: 1\n",
        "new pos: {'y': 1, 'x': 2} reward: 0\n",
        "values"
       ]
      },
      {
       "output_type": "stream",
       "stream": "stdout",
       "text": [
        " [5.4724348032417023, 0.93535735875894033, 1.4697768921587799, 3.0080797490601232, 3.2745477144876136, 7.307393592621457, 3.0362254153048447, 5.9362953651338266, 7.9523916662309349]\n",
        "iteration:"
       ]
      },
      {
       "output_type": "stream",
       "stream": "stdout",
       "text": [
        " 68 action: 2\n",
        "new pos: {'y': 2, 'x': 2} reward: 1.0\n",
        "values"
       ]
      },
      {
       "output_type": "stream",
       "stream": "stdout",
       "text": [
        " [5.5001189238031314, 0.93400295355269658, 1.4434822456160499, 2.9544755846014206, 3.3625970723423171, 7.2960330503716149, 3.0005679466300621, 5.3924271639947197, 7.9478583308579758]\n",
        "iteration:"
       ]
      },
      {
       "output_type": "stream",
       "stream": "stdout",
       "text": [
        " 69 action: 2\n",
        "new pos: {'y': 1, 'x': 0} reward: 0\n",
        "values"
       ]
      },
      {
       "output_type": "stream",
       "stream": "stdout",
       "text": [
        " [7.0988190412708345, 1.6311144827756761, 2.0549951072430561, 3.6855427662109883, 4.6593492350792696, 7.4463009197638828, 3.9169621588724328, 7.2399197891343219, 8.2050111569653161]\n",
        "iteration:"
       ]
      },
      {
       "output_type": "stream",
       "stream": "stdout",
       "text": [
        " 70 action: 1\n",
        "new pos: {'y': 1, 'x': 1} reward: 0\n",
        "values"
       ]
      },
      {
       "output_type": "stream",
       "stream": "stdout",
       "text": [
        " [7.1323026253076822, 1.3213700364135366, 2.032559047647676, 3.6699575134163762, 4.6435041030903621, 7.4394998631937659, 3.8986104685669649, 7.2208978717086483, 8.174186585819287]\n",
        "iteration:"
       ]
      },
      {
       "output_type": "stream",
       "stream": "stdout",
       "text": [
        " 71 action: 1\n",
        "new pos: {'y': 1, 'x': 2} reward: 0\n",
        "values"
       ]
      },
      {
       "output_type": "stream",
       "stream": "stdout",
       "text": [
        " [7.111591392385419, 1.3525919772319155, 2.0268194052962243, 3.6363463042250799, 4.1601458237570919, 7.420240867605238, 3.8591170036111691, 7.1998349767065832, 8.1516356922570896]\n",
        "iteration:"
       ]
      },
      {
       "output_type": "stream",
       "stream": "stdout",
       "text": [
        " 72 action: 2\n",
        "new pos: {'y': 2, 'x': 2} reward: 1.0\n",
        "values"
       ]
      },
      {
       "output_type": "stream",
       "stream": "stdout",
       "text": [
        " [7.0870655980613124, 1.3463537350018411, 1.9481040625741186, 3.6446624994551615, 4.0627351871784585, 7.4143034838835087, 3.8601505245349337, 6.9433462516695856, 8.0991931832364337]\n",
        "iteration:"
       ]
      },
      {
       "output_type": "stream",
       "stream": "stdout",
       "text": [
        " 73 action: 2\n",
        "new pos: {'y': 1, 'x': 0} reward: 0\n",
        "values"
       ]
      },
      {
       "output_type": "stream",
       "stream": "stdout",
       "text": [
        " [7.8140314677551181, 2.2417410412291563, 3.9074247314769819, 5.3201587773675962, 4.7831484442770673, 7.4926004236716341, 4.7833422243111761, 7.9211379144445333, 8.4057874386632996]\n",
        "iteration:"
       ]
      },
      {
       "output_type": "stream",
       "stream": "stdout",
       "text": [
        " 74 action: 1\n",
        "new pos: {'y': 1, 'x': 1} reward: 0\n",
        "values"
       ]
      },
      {
       "output_type": "stream",
       "stream": "stdout",
       "text": [
        " [7.5656907389631751, 1.7586568334663142, 3.8775793574455535, 5.2912049893345046, 4.7570787945241015, 7.4448063048450877, 4.7447594103324144, 7.8741945216443305, 8.3886652509556896]\n",
        "iteration:"
       ]
      },
      {
       "output_type": "stream",
       "stream": "stdout",
       "text": [
        " 75 action: 2\n",
        "new pos: {'y': 2, 'x': 1} reward: 0\n",
        "values"
       ]
      },
      {
       "output_type": "stream",
       "stream": "stdout",
       "text": [
        " [7.545245151437884, 1.7720881447135286, 3.8451707217232771, 5.2808801991019738, 4.1606205431815786, 7.4203964945677985, 4.7154882732544205, 7.8323467800001767, 8.3499660092976598]\n",
        "iteration:"
       ]
      },
      {
       "output_type": "stream",
       "stream": "stdout",
       "text": [
        " 76 action: 1\n",
        "new pos: {'y': 2, 'x': 2} reward: 1.0\n",
        "values"
       ]
      },
      {
       "output_type": "stream",
       "stream": "stdout",
       "text": [
        " [7.5056099824437652, 1.7644023951310479, 3.8145693400836831, 5.2410672393125246, 4.0913162990230409, 6.8054448135014054, 4.6889010570770182, 7.8118140143817394, 8.33995118889354]\n",
        "iteration:"
       ]
      },
      {
       "output_type": "stream",
       "stream": "stdout",
       "text": [
        " 77 action: 2\n",
        "new pos: {'y': 1, 'x': 0} reward: 0\n",
        "values"
       ]
      },
      {
       "output_type": "stream",
       "stream": "stdout",
       "text": [
        " [7.8956521943019702, 2.8068986223225214, 4.827900469765579, 6.0049735723704218, 4.365130838019267, 8.2875061750083745, 5.871988108895092, 7.828040569787273, 8.6024697936070904]\n",
        "iteration:"
       ]
      },
      {
       "output_type": "stream",
       "stream": "stdout",
       "text": [
        " 78 action: 1\n",
        "new pos: {'y': 1, 'x': 1} reward: 0\n",
        "values"
       ]
      },
      {
       "output_type": "stream",
       "stream": "stdout",
       "text": [
        " [7.7943088122925284, 2.1881104578323218, 4.778355371024201, 5.9898946632274654, 4.3391045561411419, 8.2373912788094561, 5.8367434688671658, 7.7976699220315533, 8.5581877955440984]\n",
        "iteration:"
       ]
      },
      {
       "output_type": "stream",
       "stream": "stdout",
       "text": [
        " 79 action: 1\n",
        "new pos: {'y': 1, 'x': 2} reward: 0\n",
        "values"
       ]
      },
      {
       "output_type": "stream",
       "stream": "stdout",
       "text": [
        " [7.8020442863536887, 2.102032203487191, 4.7759928342040983, 5.9721734977827587, 4.2325099940260724, 8.2050542104594602, 5.833631504878273, 7.7883560433877443, 8.5495113384961225]\n",
        "iteration:"
       ]
      },
      {
       "output_type": "stream",
       "stream": "stdout",
       "text": [
        " 80 action: 2\n",
        "new pos: {'y': 2, 'x': 2} reward: 1.0\n",
        "values"
       ]
      },
      {
       "output_type": "stream",
       "stream": "stdout",
       "text": [
        " [7.8145707787710332, 2.0852598059769654, 4.7903368133892306, 5.9585233042915711, 4.1602371717560187, 8.1369733492197369, 5.8227581357679936, 7.6087861916914363, 8.5428817235150465]\n",
        "iteration:"
       ]
      },
      {
       "output_type": "stream",
       "stream": "stdout",
       "text": [
        " 81 action: 2\n",
        "new pos: {'y': 1, 'x': 0} reward: 0\n",
        "values"
       ]
      },
      {
       "output_type": "stream",
       "stream": "stdout",
       "text": [
        " [8.0578080883891818, 2.4982487549197918, 5.3975657613501715, 6.6117767498652933, 4.9117239984233692, 8.1457365898507206, 6.3937172133510183, 8.5109697484054081, 8.9888995348724912]\n",
        "iteration:"
       ]
      },
      {
       "output_type": "stream",
       "stream": "stdout",
       "text": [
        " 82 action: 2\n",
        "new pos: {'y': 2, 'x': 0} reward: 0\n",
        "values"
       ]
      },
      {
       "output_type": "stream",
       "stream": "stdout",
       "text": [
        " [7.7030228387036415, 2.1621805380044958, 5.3388580942047854, 6.5317290638494336, 4.8593543945533177, 8.1217728012790911, 6.3897234482871896, 8.4758055378353916, 8.9338608248779341]\n",
        "iteration:"
       ]
      },
      {
       "output_type": "stream",
       "stream": "stdout",
       "text": [
        " 83 action: 1\n",
        "new pos: {'y': 2, 'x': 1} reward: 0\n",
        "values"
       ]
      },
      {
       "output_type": "stream",
       "stream": "stdout",
       "text": [
        " [7.6791385042903126, 2.1981185623814148, 5.3395367191742951, 6.5603460461733665, 4.8169379364406808, 8.1109970757492302, 6.3778316303415394, 8.4739498107381692, 8.9323774208510809]\n",
        "iteration:"
       ]
      },
      {
       "output_type": "stream",
       "stream": "stdout",
       "text": [
        " 84 action: 1\n",
        "new pos: {'y': 2, 'x': 2} reward: 1.0\n",
        "values"
       ]
      },
      {
       "output_type": "stream",
       "stream": "stdout",
       "text": [
        " [7.6522361051813208, 2.1466977526612978, 5.3002640269931209, 6.4917196539863928, 4.7845485910347874, 6.9283413356322763, 6.3264419007974189, 8.4424556754453324, 8.8211326005833151]\n",
        "iteration:"
       ]
      },
      {
       "output_type": "stream",
       "stream": "stdout",
       "text": [
        " 85 action: 2\n",
        "new pos: {'y': 1, 'x': 0} reward: 0\n",
        "values"
       ]
      },
      {
       "output_type": "stream",
       "stream": "stdout",
       "text": [
        " [8.3614372280369214, 2.1891189993202924, 6.0232697934468451, 6.5884090853938604, 5.6464282221460236, 8.7631946984040461, 7.2947052628492877, 8.5069249971562915, 9.2048051004563849]\n",
        "iteration:"
       ]
      },
      {
       "output_type": "stream",
       "stream": "stdout",
       "text": [
        " 86 action: 1\n",
        "new pos: {'y': 1, 'x': 1} reward: 0\n",
        "values"
       ]
      },
      {
       "output_type": "stream",
       "stream": "stdout",
       "text": [
        " [8.3068566310250986, 1.5707727278159374, 5.9837195093867646, 6.5449115288791608, 5.6153024087112389, 8.7344648405294087, 7.264229876687069, 8.485423429932224, 9.1769825638151108]\n",
        "iteration:"
       ]
      },
      {
       "output_type": "stream",
       "stream": "stdout",
       "text": [
        " 87 action: 2\n",
        "new pos: {'y': 2, 'x': 1} reward: 0\n",
        "values"
       ]
      },
      {
       "output_type": "stream",
       "stream": "stdout",
       "text": [
        " [8.2796446061788416, 1.407729760688518, 5.9766138461473952, 6.509894574408718, 5.1162929934561552, 8.7176143546955007, 7.2332677607429607, 8.4525124251603501, 9.1513380232193882]\n",
        "iteration:"
       ]
      },
      {
       "output_type": "stream",
       "stream": "stdout",
       "text": [
        " 88 action: 1\n",
        "new pos: {'y': 2, 'x': 2} reward: 1.0\n",
        "values"
       ]
      },
      {
       "output_type": "stream",
       "stream": "stdout",
       "text": [
        " [8.2751580630431665, 1.3945691039558288, 5.9677640967652765, 6.5262428883659638, 5.159794940690384, 8.5699283648542206, 7.2189776194949475, 8.4309312230049951, 9.1437667508110092]\n",
        "iteration:"
       ]
      },
      {
       "output_type": "stream",
       "stream": "stdout",
       "text": [
        " 89 action: 1\n",
        "new pos: {'y': 0, 'x': 1} reward: 0\n",
        "values"
       ]
      },
      {
       "output_type": "stream",
       "stream": "stdout",
       "text": [
        " [8.5991377241753497, 2.1725572963954685, 6.6214183082336877, 6.7220959160437959, 5.6151708806847838, 9.284911688135109, 7.4809674478218309, 8.5569998897156641, 9.4045006593735412]\n",
        "iteration:"
       ]
      },
      {
       "output_type": "stream",
       "stream": "stdout",
       "text": [
        " 90 action: 1\n",
        "new pos: {'y': 0, 'x': 2} reward: 0\n",
        "values"
       ]
      },
      {
       "output_type": "stream",
       "stream": "stdout",
       "text": [
        " [8.6079208813078303, 2.1181107707752833, 6.5681388438372714, 5.9280194276382359, 5.5788435426292482, 9.2350599599581233, 7.4318913676772675, 8.4981223663682712, 9.3730650562620674]\n",
        "iteration:"
       ]
      },
      {
       "output_type": "stream",
       "stream": "stdout",
       "text": [
        " 91 action: 2\n",
        "new pos: {'y': 1, 'x': 2} reward: 0\n",
        "values"
       ]
      }
     ],
     "prompt_number": "*"
    },
    {
     "cell_type": "code",
     "collapsed": false,
     "input": [],
     "language": "python",
     "metadata": {},
     "outputs": [],
     "prompt_number": "*"
    },
    {
     "cell_type": "code",
     "collapsed": false,
     "input": [
      "t"
     ],
     "language": "python",
     "metadata": {},
     "outputs": [],
     "prompt_number": "*"
    }
   ],
   "metadata": {}
  }
 ]
}