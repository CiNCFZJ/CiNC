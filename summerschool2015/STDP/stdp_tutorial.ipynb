{
 "metadata": {
  "name": ""
 },
 "nbformat": 3,
 "nbformat_minor": 0,
 "worksheets": [
  {
   "cells": [
    {
     "cell_type": "markdown",
     "metadata": {},
     "source": [
      "# AACIMP 2015\n",
      "## Plasticity of Neural Circuits and Neurobiology of Learning\n",
      "## -- Tutorial on spike-timing dependent plasticity (STDP)\n",
      "**Author:** Susanne Kunkel (Simulation Lab Neuroscience, J\u00fclich Research Centre, Germany)"
     ]
    },
    {
     "cell_type": "markdown",
     "metadata": {},
     "source": [
      "***\n",
      "**Name of student:**\n",
      "***"
     ]
    },
    {
     "cell_type": "markdown",
     "metadata": {},
     "source": [
      "Based on small example simulations with [NEST](http://www.nest-simulator.org/), this notebook introduces phenomenological models of spike-timing dependent plasticity (STDP). We start with a single-neuron simulation without synaptic plasticity, which demonstrates the concept of balanced excitatory and inhibitory synaptic input. We then extend the simulation script such that excitatory synapses exhibit STDP, which allows us to analyze the distribution and the development of synaptic weights for different STDP rules. We investigate how the presence of a synchronous stimulus alters the distribution of synaptic weights. Finally, we test the effect of normalization of synaptic weights as an additional mechanism of synaptic plasticity.\n",
      "\n",
      "Before we run the first simulation, we import the following Python packages: `numpy` for scientific computing with arrays, `matplotlib` for plotting the recorded data, and `nest` as the simulation engine."
     ]
    },
    {
     "cell_type": "code",
     "collapsed": false,
     "input": [
      "%matplotlib inline\n",
      "\n",
      "import numpy as np\n",
      "import matplotlib.pyplot as plt\n",
      "import nest"
     ],
     "language": "python",
     "metadata": {},
     "outputs": [],
     "prompt_number": 2
    },
    {
     "cell_type": "markdown",
     "metadata": {},
     "source": [
      "### Balanced neuron simulation\n",
      "First, we simulate a <font color=#71468d>leaky integrate-and-fire type neuron</font> that receives input from <font color=#005bab>$C_\\mathrm{exc}$ excitatory neurons</font> and <font color=#d40000>$C_\\mathrm{inh}$ inhibitory neurons</font> in its proximity (local inputs). Besides, the neuron is driven by synaptic input from <font color=#777777>$C_\\mathrm{exc}$ remote excitatory neurons</font> (external inputs). We assume here static synaptic weights and independent input spike trains with Poisson statistics (asynchronous irregular firing) and hence represent the three input populations by three Poisson generators that, given $\\nu_\\mathrm{exc}$, $\\nu_\\mathrm{inh}$ being a firing rate (Hz) of a single excitatory or inhibitory neuron,  produce an average of $C_\\mathrm{exc}\\nu_\\mathrm{exc}$, $C_\\mathrm{inh}\\nu_\\mathrm{inh}$, and $C_\\mathrm{exc}\\nu_\\mathrm{exc}$ spikes per second, respectively.\n",
      "\n",
      "Local excitatory synapses outnumber inhibitory synapses, but in return, inhibitory synaptic weights are stronger than excitatory weights, which results in a balance between excitatory and inhibitory synaptic currents. Therefore, the membrane potential of the integrate-and-fire neuron fluctuates below its firing threshold and crosses the threshold at random times.\n",
      "***\n",
      "<img src=\"files/balanced_neuron.png\" width=\"300\">\n",
      "***"
     ]
    },
    {
     "cell_type": "code",
     "collapsed": false,
     "input": [
      "C     = 125          # number of local synaptic inputs\n",
      "C_exc = int(0.8*C)   # number of local and remote excitatory inputs\n",
      "C_inh = int(0.2*C)   # number of local inhibitory inputs\n",
      "\n",
      "w_exc =   80.0       # excitatory synaptic weights in pA\n",
      "w_inh = -320.0       # inhibitory synaptic weights in pA\n",
      "\n",
      "nu_loc = 8.0         # = nu_exc = nu_inh (spikes/s)\n",
      "nu_ext = 8.0         # external input in spikes/s\n",
      "\n",
      "sim_time = 100000.0  # simulation time in ms  \n",
      "\n",
      "# Remove any previously created network and resets the timer\n",
      "nest.ResetKernel()\n",
      "\n",
      "# We use the leaky integrate-and-fire neuron model in its default configuration\n",
      "neuron = nest.Create('iaf_neuron')\n",
      "print 'The default paramter values of the iaf_neuron model are', nest.GetDefaults('iaf_neuron'), '\\n'\n",
      "\n",
      "# Poisson generators that represent the different inputs\n",
      "pg_exc = nest.Create('poisson_generator', 1, {'rate': C_exc*nu_loc})\n",
      "pg_inh = nest.Create('poisson_generator', 1, {'rate': C_inh*nu_loc})\n",
      "pg_ext = nest.Create('poisson_generator', 1, {'rate': C_exc*nu_ext})\n",
      "\n",
      "# Spike detector to record spikes from the neuron\n",
      "sd = nest.Create('spike_detector', 1, {'to_file': False, 'to_memory': True})\n",
      "\n",
      "# Connect the Poisson generators to the neuron\n",
      "nest.Connect(pg_exc, neuron, syn_spec={'weight': w_exc})\n",
      "nest.Connect(pg_inh, neuron, syn_spec={'weight': w_inh})\n",
      "nest.Connect(pg_ext, neuron, syn_spec={'weight': w_exc})\n",
      "\n",
      "# Connect the neuron to the spike detector\n",
      "nest.Connect(neuron, sd)\n",
      "\n",
      "# Simulate\n",
      "nest.Simulate(sim_time)\n",
      "\n",
      "# Analyse recorded spike data\n",
      "n_spikes = nest.GetStatus(sd, 'n_events')[0]\n",
      "t_spikes = nest.GetStatus(sd, 'events')[0]['times']\n",
      "\n",
      "print 'Total number of spikes:', n_spikes, '\\n'\n",
      "print 'The last 100 spikes occured at:\\n', t_spikes[-100:], '\\n'"
     ],
     "language": "python",
     "metadata": {},
     "outputs": [
      {
       "output_type": "stream",
       "stream": "stdout",
       "text": [
        "The default paramter values of the iaf_neuron model are {u'type_id': <SLILiteral: iaf_neuron>, u'elementsize': 440, u'vp': -1, u'V_reset': -70.0, u'tau_minus': 20.0, u'tau_m': 10.0, u'capacity': (1000,), u'I_e': 0.0, u'instantiations': (1,), u't_spike': -1.0, u'V_m': -70.0, u'local': True, u'recordables': (<SLILiteral: V_m>,), u'E_L': -70.0, u'available': (999,), u'V_th': -55.0, u'tau_minus_triplet': 110.0, u'thread_local_id': -1, u'tau_syn': 2.0, u't_ref': 2.0, u'thread': 0, u'frozen': False, u'archiver_length': 0, u'C_m': 250.0, u'global_id': 0, u'element_type': <SLILiteral: neuron>, u'model': <SLILiteral: iaf_neuron>} \n",
        "\n",
        "Total number of spikes:"
       ]
      },
      {
       "output_type": "stream",
       "stream": "stdout",
       "text": [
        " 3714 \n",
        "\n",
        "The last 100 spikes occured at:\n",
        "[ 97652.8  97700.2  97708.2  97743.   97773.4  97807.1  97854.7  97863.1\n",
        "  97879.5  97903.6  97928.3  97936.   97942.7  97950.4  97975.4  98011.9\n",
        "  98021.1  98115.7  98152.   98177.3  98194.3  98204.   98216.7  98225.6\n",
        "  98234.3  98242.4  98257.5  98281.4  98288.2  98311.9  98343.8  98351.7\n",
        "  98389.3  98438.6  98447.9  98492.1  98510.8  98522.5  98542.1  98556.5\n",
        "  98573.7  98588.2  98634.1  98654.   98662.8  98678.5  98725.9  98736.8\n",
        "  98747.6  98788.9  98802.4  98815.7  98828.4  98851.2  98886.1  98894.1\n",
        "  98909.   98922.1  98932.5  98939.8  98982.1  99002.9  99066.6  99088.6\n",
        "  99099.2  99135.6  99147.4  99156.1  99179.2  99186.5  99193.4  99204.5\n",
        "  99223.   99240.8  99300.3  99311.   99318.9  99334.8  99364.5  99386.1\n",
        "  99412.   99442.9  99473.4  99497.3  99532.4  99544.4  99556.3  99568.2\n",
        "  99578.   99592.7  99653.2  99666.7  99676.6  99700.1  99729.3  99741.\n",
        "  99775.   99831.2  99873.9  99933.8] \n",
        "\n"
       ]
      }
     ],
     "prompt_number": 3
    },
    {
     "cell_type": "markdown",
     "metadata": {},
     "source": [
      "###<font color=darkred size=''>Task 1 (self-consistent firing rate)</font>\n",
      "In a balanced random network (see e.g. Brunel, 2000) a neuron not only receives spikes from $C_\\mathrm{exc}+C_\\mathrm{inh}$ local neurons but also connects to $C_\\mathrm{exc}+C_\\mathrm{inh}$ local neurons; the neuron produces approximately the same amount of spikes as each of its inputs. Adapt the firing rate of the external inputs in the above single-neuron simulation such that the firing rate $\\nu_\\mathrm{out}$ of the integrate-and-fire neuron is approximately equal to the firing rate $\\nu_\\mathrm{loc}$ of the local inputs."
     ]
    },
    {
     "cell_type": "markdown",
     "metadata": {},
     "source": [
      "###<font color=darkred size=''>Task 2 (spike statistics)</font>\n",
      "All spike trains that are fed into the neuron have Poisson statistics. We now inspect the spike statistics of the integrate-and-fire neuron. Calculate the coefficient of variation of the neuron's interspike intervals. A coefficient of variation of 1 indicates an exponential distribution of interspike intervals (i.e. a Poisson spike train)."
     ]
    },
    {
     "cell_type": "markdown",
     "metadata": {},
     "source": [
      "###Many-to-one simulation with STDP synapses\n",
      "Here, we extend our single-neuron simulation to incorporate plastic synapses: All local excitatory synapses exhibit STDP, whereas all other synapses are still static. To represent the excitatory inputs we now use $C_\\mathrm{exc}$ parrot neurons, which receive independent spike trains with rate $\\nu_\\mathrm{loc}$ from a Poisson generator and relay them to the integrate-and-fire neuron through STDP synapses. The following figure omits the Poisson generator.\n",
      "***\n",
      "<img src=\"files/many_to_one.png\" width=\"350\">\n",
      "***"
     ]
    },
    {
     "cell_type": "code",
     "collapsed": false,
     "input": [
      "# Remove any previously created network and resets the timer\n",
      "nest.ResetKernel()\n",
      "\n",
      "# We use the leaky integrate-and-fire neuron model in its default configuration\n",
      "neuron = nest.Create('iaf_neuron')\n",
      "\n",
      "# Poisson generator and parrot neurons that represent excitatory inputs\n",
      "pg_exc = nest.Create('poisson_generator', 1, {'rate': nu_loc})\n",
      "inputs = nest.Create('parrot_neuron', C_exc)\n",
      "\n",
      "# Poisson generators that represent inhibitory and external inputs\n",
      "pg_inh = nest.Create('poisson_generator', 1, {'rate': C_inh*nu_loc})\n",
      "pg_ext = nest.Create('poisson_generator', 1, {'rate': C_exc*nu_ext})\n",
      "\n",
      "# Spike detector to record spikes from the neuron\n",
      "sd_post = nest.Create('spike_detector', 1, {'to_file': False, 'to_memory': True})\n",
      "\n",
      "# Set the STDP parameters\n",
      "nest.SetStatus(neuron,{'tau_minus': 20.0})\n",
      "nest.SetDefaults('stdp_synapse', {'tau_plus': 20.0,\n",
      "                                  'mu_plus':   0.0,\n",
      "                                  'mu_minus':  0.0,\n",
      "                                  'alpha':     1.0,\n",
      "                                  'lambda':    0.1,\n",
      "                                  'Wmax':      2.0*w_exc})\n",
      "\n",
      "# Connect the Poisson generator for local excitation to the parrot neurons\n",
      "# -> each parrot neuron receives individual spikes, which it repeats\n",
      "# Connect the parrot neurons to the IAF neuron using STDP synapses\n",
      "nest.Connect(pg_exc, inputs)\n",
      "nest.Connect(inputs, neuron, syn_spec={'model': 'stdp_synapse', 'weight': w_exc})\n",
      "\n",
      "# Connect the other Poisson generators to the neuron\n",
      "nest.Connect(pg_inh, neuron, syn_spec={'weight': w_inh})\n",
      "nest.Connect(pg_ext, neuron, syn_spec={'weight': w_exc})\n",
      "\n",
      "# Connect the neuron to the spike detector\n",
      "nest.Connect(neuron, sd)\n",
      "\n",
      "# Get handles for STDP connections\n",
      "stdp_connections = nest.GetConnections(inputs)\n",
      "\n",
      "ws_all = np.array(nest.GetStatus(stdp_connections,'weight'))\n",
      "ws_means = np.mean(ws_all)\n",
      "                  \n",
      "# Simulate (100 x 1000) ms\n",
      "# Keep track of synaptic weights after each simulation step\n",
      "for i in range(100):\n",
      "    nest.Simulate(1000.0)\n",
      "    ws = nest.GetStatus(stdp_connections,'weight')\n",
      "    ws_all = np.append(ws_all, ws)\n",
      "    ws_means = np.append(ws_means, np.mean(ws))\n",
      "\n",
      "# Analyse and plot synaptic weights\n",
      "fig = plt.figure(figsize=(12,5))\n",
      "\n",
      "# Distribution of synaptic weights\n",
      "# Use recordings of the last 10 simulation steps\n",
      "ax1 = fig.add_subplot(131)\n",
      "ax1.hist(ws_all[-10*C_exc:])\n",
      "ax1.set_xlabel('synaptic weight (pA)')\n",
      "\n",
      "# Development of average synaptic weight over time\n",
      "ax2 = fig.add_subplot(122)\n",
      "ax2.plot(ws_means)\n",
      "ax2.set_ylim([0,2.0*w_exc])\n",
      "ax2.set_xlabel('time (s)')\n",
      "ax2.set_ylabel('average syn. weight (pA)')"
     ],
     "language": "python",
     "metadata": {},
     "outputs": [
      {
       "metadata": {},
       "output_type": "pyout",
       "prompt_number": 4,
       "text": [
        "<matplotlib.text.Text at 0x7f3378aba310>"
       ]
      },
      {
       "metadata": {},
       "output_type": "display_data",
       "png": "[encoded data removed]",
       "text": [
        "<matplotlib.figure.Figure at 0x7f3378bc5290>"
       ]
      }
     ],
     "prompt_number": 4
    },
    {
     "cell_type": "markdown",
     "metadata": {},
     "source": [
      "###<font color=darkred size=''>Task 3 (equilibrium weight)</font>\n",
      "All synaptic weights are initialized to $w_\\mathrm{exc}$. After an equilibration period, a stable distribution of synaptic weights is reached, where single weights still fluctuate. By tuning the STDP parameter alpha we can shift the weight distribution towards smaller or larger values as the parameter scales synaptic depression with respect to facilitation. Adapt alpha in the above simulation such that the average synaptic weight stays close to $w_\\mathrm{exc}$."
     ]
    },
    {
     "cell_type": "markdown",
     "metadata": {},
     "source": [
      "###<font color=darkred size=''>Task 4 (weight dependence) </font>\n",
      "An additive STDP rule results in a bimodal distribution of synaptic weights, whereas a multiplicative rule results in a unimodal distribution. Change the STDP parameters in the above simulation in order to switch to a multiplicative STDP rule. Adapt alpha again if needed."
     ]
    },
    {
     "cell_type": "markdown",
     "metadata": {},
     "source": [
      "###<font color=darkred size=''>Task 5 (synchronous stimulus)</font>\n",
      "STDP is sensitive to synchronous spiking: If spikes arrive synchronously at the neuron, they are more likely to invoke an immediate response, which results in a facilitation of the corresponding synapses. Copy the above simulation script into the box below. Adapt the copied script such that the spike trains of the first 50 local excitatory inputs show 25% synchronous activity; more specifically, 6 of the average of 8 spikes per second should be independent Poisson input and 2 spikes should be synchronous Poisson input. Hint: You will need two more Poisson generators and another parrot neuron. In the analysis, distinguish between the 50 synchronously spiking inputs and the other inputs."
     ]
    },
    {
     "cell_type": "code",
     "collapsed": false,
     "input": [],
     "language": "python",
     "metadata": {},
     "outputs": [],
     "prompt_number": 4
    },
    {
     "cell_type": "markdown",
     "metadata": {},
     "source": [
      "###<font color=darkred size=''>Task 6 (homeostasis)</font>\n",
      "Additional plasticity mechanisms that interact with STDP have been identified. For example, a neuron may scale the weights of incoming synpases up or down in order to maintain a stable firing rate (Turrigiano et al., 1998). Copy the above simulation script (your adapted version) into the box below. Now, adapt the copied script such that after each simulation step the weights of the STDP synapses are normalized to a mean of $w_\\mathrm{exc}$."
     ]
    },
    {
     "cell_type": "code",
     "collapsed": false,
     "input": [],
     "language": "python",
     "metadata": {},
     "outputs": [],
     "prompt_number": 4
    }
   ],
   "metadata": {}
  }
 ]
}